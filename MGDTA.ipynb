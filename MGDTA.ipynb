{
 "cells": [
  {
   "cell_type": "code",
   "execution_count": 1,
   "metadata": {},
   "outputs": [],
   "source": [
    "from dataset import *\n",
    "from torch.utils.data import DataLoader\n",
    "\n",
    "import torch\n",
    "from torch import nn\n",
    "import torch.nn.functional as F\n",
    "from general_transformer import GenearalTransformer, Highway\n",
    "from tqdm import tqdm\n",
    "from transformers import AdamW, get_linear_schedule_with_warmup\n",
    "from rlscore.measure.cindex_measure import cindex\n",
    "from transformer_pytorch import FeedForward\n"
   ]
  },
  {
   "cell_type": "code",
   "execution_count": 2,
   "metadata": {},
   "outputs": [],
   "source": [
    "def mean_max(x):\n",
    "    return torch.mean(x, dim=2), torch.max(x, dim=2)[0]\n",
    "\n",
    "\n",
    "class FGM():\n",
    "    def __init__(self, model):\n",
    "        self.model = model\n",
    "        self.backup = {}\n",
    "\n",
    "    def attack(self, epsilon=0.01, emb_name='encoder.embedding'):\n",
    "        # emb_name这个参数要换成你模型中embedding的参数名\n",
    "        for name, param in self.model.named_parameters():\n",
    "            if param.requires_grad and emb_name in name:\n",
    "                self.backup[name] = param.data.clone()\n",
    "                norm = torch.norm(param.grad)\n",
    "                if norm != 0 and not torch.isnan(norm):\n",
    "                    r_at = epsilon * param.grad / norm\n",
    "                    param.data.add_(r_at)\n",
    "\n",
    "    def restore(self, emb_name='encoder.embedding'):\n",
    "        # emb_name这个参数要换成你模型中embedding的参数名\n",
    "        for name, param in self.model.named_parameters():\n",
    "            if param.requires_grad and emb_name in name: \n",
    "                assert name in self.backup\n",
    "                param.data = self.backup[name]\n",
    "        self.backup = {}\n",
    "\n",
    "        \n",
    "class CNNSEBlock(nn.Module):\n",
    "    def __init__(self, in_planes, planes, kernel_size=3, stride=1, padding=1):\n",
    "        super(CNNSEBlock, self).__init__()\n",
    "\n",
    "        #the first\n",
    "        self.bn1 = nn.BatchNorm1d(planes)\n",
    "        self.conv1 = nn.Conv1d(in_planes, planes, kernel_size=kernel_size, padding=padding, stride=stride, bias=False)\n",
    "\n",
    " \n",
    "        # the first SE layers\n",
    "        self.fc1 = nn.Conv1d(planes, planes//4, kernel_size=1)  # Use nn.Conv1d instead of nn.Linear\n",
    "        self.fc2 = nn.Conv1d(planes//4, planes, kernel_size=1)\n",
    "\n",
    "\n",
    " \n",
    "\n",
    "    def forward(self, x):\n",
    "        \n",
    "        out = self.conv1(x)\n",
    "        out = F.relu(out)\n",
    "        \n",
    "#         # Squeeze\n",
    "#         w = F.avg_pool1d(out, kernel_size=out.size(2))\n",
    "#         w = F.relu(self.fc1(w))\n",
    "#         w = torch.sigmoid(self.fc2(w))\n",
    "#         # Excitation\n",
    "#         out = out * w  \n",
    "        \n",
    " \n",
    "        return out\n",
    "\n",
    "    \n",
    "class TransformerDTA(nn.Module):\n",
    "    def __init__(self, model_drug_atom, model_prot_atom,model_drug_token, model_prot_token, d_model, reduction='mean'):\n",
    "        super(TransformerDTA, self).__init__()\n",
    "        self.model_drug_atom = model_drug_atom\n",
    "        self.model_prot_atom = model_prot_atom\n",
    "        self.model_drug_token = model_drug_token\n",
    "        self.model_prot_token = model_prot_token\n",
    "        \n",
    "#         self.classifier = nn.Linear(4 * d_model, 1)\n",
    "        assert reduction in ['mean', 'cls', 'max'], 'Invalid reduction mode'\n",
    "        self.reduction = reduction\n",
    "        \n",
    " \n",
    "        \n",
    "        self.layernorms =  nn.LayerNorm( 4 * d_model * 3, eps=1e-6) \n",
    "\n",
    "        \n",
    "        self.linear_predict = nn.Sequential(\n",
    "            nn.Linear( 4 * d_model * 3, 1024),\n",
    "#             nn.BatchNorm1d(1024),\n",
    "            nn.ReLU(inplace=True),\n",
    "            nn.Linear(1024, 1024),\n",
    "#             nn.BatchNorm1d(1024),\n",
    "            nn.ReLU(inplace=True),\n",
    "            nn.Linear(1024, 512),\n",
    "#             nn.BatchNorm1d(512),\n",
    "            nn.ReLU(inplace=True),\n",
    "            nn.Linear(512, 1),\n",
    "        )\n",
    "        \n",
    "\n",
    "        # activation and regularization\n",
    "        dropout=0.2\n",
    "        self.relu = nn.ReLU()\n",
    "        self.dropout = nn.Dropout(dropout)\n",
    "        self.highway = Highway(4, 4 * d_model * 3)\n",
    "        self.avgpool = nn.AdaptiveAvgPool1d(1)\n",
    "        \n",
    "        self.prot_cnn_atom1 = CNNSEBlock(d_model, d_model*2)\n",
    "        self.smi_cnn_atom1 = CNNSEBlock(d_model, d_model*2)\n",
    "        \n",
    "        self.prot_cnn_atom2 = CNNSEBlock(d_model*2, d_model*2)\n",
    "        self.smi_cnn_atom2 = CNNSEBlock(d_model*2, d_model*2)\n",
    "        \n",
    "        self.prot_cnn_atom3 = CNNSEBlock(d_model*2, d_model*3)\n",
    "        self.smi_cnn_atom3 = CNNSEBlock(d_model*2, d_model*3)\n",
    "        \n",
    "        \n",
    "        \n",
    "        self.prot_cnn_token1 = CNNSEBlock(d_model, d_model*2)\n",
    "        self.smi_cnn_token1 = CNNSEBlock(d_model, d_model*2)\n",
    "        \n",
    "        self.prot_cnn_token2 = CNNSEBlock(d_model*2, d_model*2)\n",
    "        self.smi_cnn_token2 = CNNSEBlock(d_model*2, d_model*2)\n",
    "        \n",
    "        self.prot_cnn_token3 = CNNSEBlock(d_model*2, d_model*3)\n",
    "        self.smi_cnn_token3 = CNNSEBlock(d_model*2, d_model*3)\n",
    " \n",
    "        \n",
    "    def _embed(self, x, mask):\n",
    "        if self.reduction == 'mean':\n",
    "            x = x.masked_fill(~mask[..., None], 0).sum(1) / mask.sum(1)[:, None]\n",
    "        elif self.reduction == 'max':\n",
    "            x = x.masked_fill(~mask[..., None], 0).max(1)[0]\n",
    "        else:\n",
    "            x = x[:, 0, :]\n",
    "        return x \n",
    "    \n",
    "    \n",
    "   \n",
    "        \n",
    "    def forward(self, drug_atom, drug_atom_mask,\n",
    "                      prot_atom, prot_atom_mask,\n",
    "                      drug_token, drug_token_mask,\n",
    "                      prot_token, prot_token_mask):\n",
    "        \n",
    "         \n",
    "        \n",
    "        drug_atom_x = self.model_drug_atom(drug_atom, drug_atom_mask) \n",
    "        drug_atom_x = drug_atom_x.transpose(1,2)\n",
    "        \n",
    "        drug_atom_x = self.smi_cnn_atom1(drug_atom_x)\n",
    "        drug_atom_x = self.smi_cnn_atom2(drug_atom_x)\n",
    "        drug_atom_x = self.smi_cnn_atom3(drug_atom_x)\n",
    "        drug_atom_x = torch.max(drug_atom_x, dim=2)[0]\n",
    "        \n",
    "        \n",
    "        prot_atom_x = self.model_prot_atom(prot_atom, prot_atom_mask) \n",
    "        prot_atom_x = prot_atom_x.transpose(1,2)\n",
    "        prot_atom_x = self.prot_cnn_atom1(prot_atom_x)\n",
    "        prot_atom_x = self.prot_cnn_atom2(prot_atom_x)\n",
    "        prot_atom_x = self.prot_cnn_atom3(prot_atom_x)\n",
    "        prot_atom_x = torch.max(prot_atom_x, dim=2)[0]\n",
    "        \n",
    "        \n",
    "        \n",
    "        prot_token_x = self.model_prot_token(prot_token, prot_token_mask) \n",
    "        prot_token_x = prot_token_x.transpose(1,2)\n",
    "        prot_token_x = self.prot_cnn_token1(prot_token_x)\n",
    "        prot_token_x = self.prot_cnn_token2(prot_token_x)\n",
    "        prot_token_x = self.prot_cnn_token3(prot_token_x)\n",
    "        \n",
    "        prot_token_x = torch.max(prot_token_x, dim=2)[0]\n",
    "\n",
    "        \n",
    "        \n",
    "        \n",
    "        drug_token_x = self.model_drug_token(drug_token, drug_token_mask) \n",
    "        drug_token_x = drug_token_x.transpose(1,2)\n",
    "        drug_token_x = self.smi_cnn_token1(drug_token_x)\n",
    "        drug_token_x = self.smi_cnn_token2(drug_token_x)\n",
    "        drug_token_x = self.smi_cnn_token3(drug_token_x)\n",
    "        drug_token_x = torch.max(drug_token_x, dim=2)[0]\n",
    "\n",
    "\n",
    "        \n",
    "       \n",
    "        embedding = torch.cat([drug_atom_x, prot_atom_x,prot_token_x, drug_token_x], axis=-1)\n",
    "\n",
    "#         embedding = torch.cat([drug_atom_x, drug_token_x, prot_atom_x, prot_token_x], axis=-1)\n",
    "        embedding = self.layernorms(embedding)\n",
    "        embedding = self.highway(embedding)\n",
    "        \n",
    "        out = self.linear_predict(embedding)\n",
    " \n",
    "        return out\n",
    "    "
   ]
  },
  {
   "cell_type": "code",
   "execution_count": 3,
   "metadata": {},
   "outputs": [],
   "source": [
    "from sklearn.metrics import average_precision_score,auc,precision_recall_curve\n",
    "\n",
    "\n",
    "def get_aupr(Y, P, threshold=7.0):\n",
    "    # print(Y.shape,P.shape)\n",
    "    Y = np.where(Y >= threshold, 1, 0)\n",
    "    P = np.where(P >= threshold, 1, 0)\n",
    "    aupr = average_precision_score(Y, P)\n",
    "    precision, recall, thresholds = precision_recall_curve(Y, P)\n",
    "    # Use AUC function to calculate the area under the curve of precision recall curve\n",
    "    auc_precision_recall = auc(recall, precision)\n",
    " \n",
    "    return auc_precision_recall\n",
    "\n",
    "\n",
    "def r_squared_error(y_obs, y_pred):\n",
    "    y_obs = np.array(y_obs)\n",
    "    y_pred = np.array(y_pred)\n",
    "    y_obs_mean = [np.mean(y_obs) for y in y_obs]\n",
    "    y_pred_mean = [np.mean(y_pred) for y in y_pred]\n",
    "\n",
    "    mult = sum((y_pred - y_pred_mean) * (y_obs - y_obs_mean))\n",
    "    mult = mult * mult\n",
    "\n",
    "    y_obs_sq = sum((y_obs - y_obs_mean) * (y_obs - y_obs_mean))\n",
    "    y_pred_sq = sum((y_pred - y_pred_mean) * (y_pred - y_pred_mean))\n",
    "\n",
    "    return mult / float(y_obs_sq * y_pred_sq)\n",
    "\n",
    "\n",
    "def get_k(y_obs, y_pred):\n",
    "    y_obs = np.array(y_obs)\n",
    "    y_pred = np.array(y_pred)\n",
    "\n",
    "    return sum(y_obs * y_pred) / float(sum(y_pred * y_pred))\n",
    "\n",
    "\n",
    "def squared_error_zero(y_obs, y_pred):\n",
    "    k = get_k(y_obs, y_pred)\n",
    "\n",
    "    y_obs = np.array(y_obs)\n",
    "    y_pred = np.array(y_pred)\n",
    "    y_obs_mean = [np.mean(y_obs) for y in y_obs]\n",
    "    upp = sum((y_obs - (k * y_pred)) * (y_obs - (k * y_pred)))\n",
    "    down = sum((y_obs - y_obs_mean) * (y_obs - y_obs_mean))\n",
    "\n",
    "    return 1 - (upp / float(down))\n",
    "\n",
    "\n",
    "def get_rm2(ys_orig, ys_line):\n",
    "    r2 = r_squared_error(ys_orig, ys_line)\n",
    "    r02 = squared_error_zero(ys_orig, ys_line)\n",
    "\n",
    "    return r2 * (1 - np.sqrt(np.absolute((r2 * r2) - (r02 * r02))))\n",
    "\n",
    "\n",
    "def get_mse(y, f):\n",
    "    mse = ((y - f) ** 2).mean(axis=0)\n",
    "    return mse\n",
    "\n",
    "def get_pearson(y, f):\n",
    "    rp = np.corrcoef(y, f)[0, 1]\n",
    "    return rp\n",
    "\n",
    "def get_cindex(Y, P):\n",
    "    summ = 0\n",
    "    pair = 0\n",
    "\n",
    "    for i in range(1, len(Y)):\n",
    "        for j in range(0, i):\n",
    "            if i is not j:\n",
    "                if (Y[i] > Y[j]):\n",
    "                    pair += 1\n",
    "                    summ += 1 * (P[i] > P[j]) + 0.5 * (P[i] == P[j])\n",
    "\n",
    "    if pair is not 0:\n",
    "        return summ / pair\n",
    "    else:\n",
    "        return 0\n"
   ]
  },
  {
   "cell_type": "code",
   "execution_count": 4,
   "metadata": {},
   "outputs": [],
   "source": [
    "def train_valid(model, train_loader, val_loader, EPOCHS, criterion, optimizer,scheduler, model_file_name):\n",
    "    best_ci = 0\n",
    "    early_stopping = EarlyStopping(patience=25, verbose=True, path=model_file_name)\n",
    "    \n",
    "    \n",
    "    for epoch in range(1, EPOCHS):\n",
    "        model.train()\n",
    "        losses = []\n",
    "        for drug_atom, target_atom, drug_token, target_token, affinity in tqdm(train_loader):\n",
    "            optimizer.zero_grad()\n",
    "            \n",
    "            drug_atom, target_atom, drug_token, target_token, affinity = (x.to(device) for x in (drug_atom, target_atom, drug_token, target_token, affinity))\n",
    "\n",
    "            drug_atom_mask, target_atom_mask, drug_token_mask, target_token_mask  = drug_atom != 0, target_atom != 0,drug_token != 0, target_token != 0\n",
    "            \n",
    "#             drug_atom_mask, target_atom_mask, drug_token_mask, target_token_mask = (x.to(device) for x in (drug_atom, target_atom, drug_token, target_token, affinity))\n",
    "\n",
    "            \n",
    "            \n",
    "            logits = model(drug_atom, drug_atom_mask, target_atom, target_atom_mask,\n",
    "                      drug_token, drug_token_mask,\n",
    "                      target_token, target_token_mask)\n",
    "            \n",
    "            loss = criterion(logits, affinity)\n",
    "            losses.append(loss.item())\n",
    "\n",
    "             \n",
    "            loss.backward()\n",
    "#             torch.nn.utils.clip_grad_norm_(model.parameters(), 0.5)\n",
    "            optimizer.step()\n",
    "#             scheduler.step()\n",
    "\n",
    " \n",
    "\n",
    "\n",
    "\n",
    "        print('Average loss', np.mean(losses))\n",
    "        model.eval()\n",
    "        with torch.no_grad():\n",
    "            preds =  torch.Tensor()\n",
    "            trues = torch.Tensor()\n",
    "\n",
    "\n",
    "\n",
    "            for drug_atom, target_atom, drug_token, target_token, affinity in tqdm(val_loader):\n",
    "                drug_atom, target_atom, drug_token, target_token, affinity = (x.to(device) for x in (drug_atom, target_atom, drug_token, target_token, affinity))\n",
    "\n",
    "                drug_atom_mask, target_atom_mask, drug_token_mask, target_token_mask  = drug_atom != 0, target_atom != 0,drug_token != 0, target_token != 0\n",
    "\n",
    "                logits = model(drug_atom, drug_atom_mask, target_atom, target_atom_mask,\n",
    "                      drug_token, drug_token_mask,\n",
    "                      target_token, target_token_mask)\n",
    "\n",
    "\n",
    "\n",
    "                preds = torch.cat((preds, logits.cpu()), 0)\n",
    "                trues = torch.cat((trues, affinity.view(-1, 1).cpu()), 0)\n",
    "\n",
    "            preds, trues = preds.numpy().flatten(), trues.numpy().flatten()\n",
    "            rm2 = get_rm2(trues, preds)   \n",
    "            mse = get_mse(trues, preds)\n",
    "            pearson = get_pearson(trues, preds)\n",
    "            aupr = get_aupr(trues, preds, threshold=threshold)\n",
    "            #ci_val = get_cindex(trues, preds)\n",
    "            ci_val = cindex(np.float64(trues), np.float64(preds))\n",
    "            early_stopping(ci_val, model)\n",
    "    \n",
    "            if early_stopping.early_stop:\n",
    "                print(\"Early stopping\")\n",
    "                break\n",
    "              \n",
    "            print('val mse:', mse)\n",
    "            print('val pearson', pearson)\n",
    "            \n",
    "            print('val AUPR', aupr)\n",
    "            print('val ci:', ci_val)\n",
    "            print(f'Epoch: {epoch + 1}')\n",
    "            #print(cindex(np.float64(trues), np.float64(preds)))\n",
    "#             if ci_val > best_ci:\n",
    "#                 best_ci = ci_val  \n",
    "#                 torch.save(model.state_dict(), model_file_name)\n",
    "\n",
    "                \n",
    "                \n",
    "def predict(model, test_loader, threshold):\n",
    "    model.eval()\n",
    "    with torch.no_grad():\n",
    "        preds =  torch.Tensor()\n",
    "        trues = torch.Tensor()\n",
    "        \n",
    "     \n",
    "\n",
    "        for drug_atom, target_atom, drug_token, target_token, affinity in tqdm(test_loader):\n",
    "            drug_atom, target_atom, drug_token, target_token, affinity = (x.to(device) for x in (drug_atom, target_atom, drug_token, target_token, affinity))\n",
    "\n",
    "            drug_atom_mask, target_atom_mask, drug_token_mask, target_token_mask  = drug_atom != 0, target_atom != 0,drug_token != 0, target_token != 0\n",
    "\n",
    "            logits = model(drug_atom, drug_atom_mask, target_atom, target_atom_mask,\n",
    "                  drug_token, drug_token_mask,\n",
    "                  target_token, target_token_mask)\n",
    "\n",
    "            \n",
    "            \n",
    "            preds = torch.cat((preds, logits.cpu()), 0)\n",
    "            trues = torch.cat((trues, affinity.view(-1, 1).cpu()), 0)\n",
    "            \n",
    "        preds, trues = preds.numpy(), trues.numpy() \n",
    "        rm2 = get_rm2(trues.flatten(), preds.flatten())   \n",
    "        mse = get_mse(trues.flatten(), preds.flatten())\n",
    "        pearson = get_pearson(trues.flatten(), preds.flatten())\n",
    "        aupr = get_aupr(trues.flatten(), preds.flatten(), threshold=threshold)\n",
    "         \n",
    "        #ci_val = get_cindex(trues.flatten(), preds.flatten())\n",
    "        ci_val = cindex(np.float64(trues), np.float64(preds))\n",
    "        print('-------------------test results---------------------------------')\n",
    "        print('val mse:', mse)\n",
    "        print('val pearson', pearson)\n",
    "\n",
    "        print('val AUPR', aupr)\n",
    "        print('val ci:', ci_val)\n",
    "        print('-------------------test results---------------------------------')\n",
    "    return rm2, mse, pearson,aupr,ci_val\n",
    "\n",
    "\n",
    "\n"
   ]
  },
  {
   "cell_type": "code",
   "execution_count": 5,
   "metadata": {},
   "outputs": [],
   "source": [
    "class EarlyStopping:\n",
    "    \"\"\"Early stops the training if validation loss doesn't improve after a given patience.\"\"\"\n",
    "    def __init__(self, patience=7, verbose=False, delta=0, path='checkpoint.pt', trace_func=print):\n",
    "        \"\"\"\n",
    "        Args:\n",
    "            patience (int): How long to wait after last time validation loss improved.\n",
    "                            Default: 7\n",
    "            verbose (bool): If True, prints a message for each validation loss improvement. \n",
    "                            Default: False\n",
    "            delta (float): Minimum change in the monitored quantity to qualify as an improvement.\n",
    "                            Default: 0\n",
    "            path (str): Path for the checkpoint to be saved to.\n",
    "                            Default: 'checkpoint.pt'\n",
    "            trace_func (function): trace print function.\n",
    "                            Default: print            \n",
    "        \"\"\"\n",
    "        self.patience = patience\n",
    "        self.verbose = verbose\n",
    "        self.counter = 0\n",
    "        self.best_score = None\n",
    "        self.early_stop = False\n",
    "        self.val_loss_min = np.Inf\n",
    "        self.delta = delta\n",
    "        self.path = path\n",
    "        self.trace_func = trace_func\n",
    "    def __call__(self, val_loss, model):\n",
    "\n",
    "        score = -val_loss\n",
    "\n",
    "        if self.best_score is None:\n",
    "            self.best_score = score\n",
    "            self.save_checkpoint(val_loss, model)\n",
    "        elif score > self.best_score + self.delta:\n",
    "            self.counter += 1\n",
    "            self.trace_func(f'EarlyStopping counter: {self.counter} out of {self.patience}')\n",
    "            if self.counter >= self.patience:\n",
    "                self.early_stop = True\n",
    "        else:\n",
    "            self.best_score = score\n",
    "            self.save_checkpoint(val_loss, model)\n",
    "            self.counter = 0\n",
    "\n",
    "    def save_checkpoint(self, val_loss, model):\n",
    "        '''Saves model when validation loss decrease.'''\n",
    "        if self.verbose:\n",
    "            self.trace_func(f'Validation loss decreased ({self.val_loss_min:.6f} --> {val_loss:.6f}).  Saving model ...')\n",
    "        torch.save(model.state_dict(), self.path)\n",
    "        self.val_loss_min = val_loss"
   ]
  },
  {
   "cell_type": "code",
   "execution_count": 6,
   "metadata": {},
   "outputs": [],
   "source": [
    "dataset = 'BKI'\n",
    "\n",
    "if dataset == 'KIBA_S1': \n",
    "    data_file = '/home/junjie/MultiViewDTA/data/kiba-subset1-data.csv'\n",
    "    threshold = 12.1\n",
    "elif dataset == 'KIBA_S2': \n",
    "    data_file = '/home/junjie/MultiViewDTA/data/kiba-subset2-data.csv'\n",
    "    threshold = 12.1\n",
    "elif dataset == 'KIBA_U1':\n",
    "    data_file = '/home/junjie/MultiViewDTA/data/kiba-uniq-data.csv'\n",
    "    threshold = 12.1\n",
    "elif dataset == 'metz':\n",
    "    data_file = '/home/junjie/MultiViewDTA/data/metz-data.csv'\n",
    "elif dataset == 'BKD':\n",
    "    data_file = '/home/junjie/MultiViewDTA/data/BindingDB_Kd-uniq-data.csv'\n",
    "    threshold = 7.6\n",
    "elif dataset == 'BKI':\n",
    "    data_file = '/home/junjie/MultiViewDTA/data/BindingDB-uniq-data.csv'\n",
    "    threshold = 7.6\n",
    "elif dataset == 'BKI_S1':\n",
    "    data_file = '/home/junjie/MultiViewDTA/data/BindingDB-subset1-data.csv'\n",
    "    threshold = 7.6\n",
    "elif dataset == 'davis':\n",
    "    data_file = '/home/junjie/MultiViewDTA/data/davis-uniq-data.csv'\n",
    "    threshold = 7.0\n",
    "else:\n",
    "    sys.exit(\"Unknown Dataset\") \n",
    "\n",
    "\n",
    "all_drug = []\n",
    "all_protein = []\n",
    "all_Y = []\n",
    "with open(data_file, 'r') as f:\n",
    "    all_lines = f.readlines()\n",
    "\n",
    "    for line in all_lines:\n",
    "        row = line.rstrip().split(',')\n",
    "        all_drug.append(row[0])\n",
    "        all_protein.append(row[1])\n",
    "        all_Y.append(float(row[2]))\n",
    "\n",
    "kf = KFold(n_splits=5, shuffle=True)\n",
    "# batch_size = 256\n",
    "device = torch.device(\"cuda:0\" if torch.cuda.is_available() else \"cpu\") \n",
    "MODEL_TYPE = 'transformer'\n",
    "\n",
    "EPOCHS = 350\n",
    "BATCH_SIZE = 128\n",
    "\n",
    "VOCAB_SIZE_drug_atom = 67+1\n",
    "VOCAB_SIZE_prot_atom = 25 + 1\n",
    "# VOCAB_SIZE_drug_token = 23532+ 1\n",
    "# VOCAB_SIZE_prot_atom = 16693+ 1\n",
    "VOCAB_SIZE_drug_token = 1000+ 1\n",
    "VOCAB_SIZE_prot_token = 10000+ 1\n",
    "\n",
    "\n",
    "drug_len_atom = 256\n",
    "prot_len_atom = 1024\n",
    "drug_len_token = 128\n",
    "prot_len_token = 512\n",
    "\n",
    "\n",
    "\n",
    "\n",
    "    \n",
    "    "
   ]
  },
  {
   "cell_type": "code",
   "execution_count": 7,
   "metadata": {},
   "outputs": [],
   "source": [
    "def run_grid_cv_4_model(lr, n_layer, n_head, d_model ):\n",
    "    N_HEADS = n_head\n",
    "    N_LAYERS = n_layer\n",
    "    D_MODEL = d_model\n",
    "    \n",
    "    \n",
    "    all_loss =  np.zeros((5,1))\n",
    "    all_ci =  np.zeros((5,1))\n",
    "    all_ci2 = np.zeros((5,1))\n",
    "    all_mse2 = np.zeros((5,1))+10\n",
    "    all_r = np.zeros((5,1))\n",
    "    all_aupr = np.zeros((5,1))\n",
    "    all_rm2 = np.zeros((5,1))\n",
    "\n",
    "\n",
    "\n",
    "\n",
    "    for split, ( train_index, test_index) in enumerate( kf.split(all_Y)):\n",
    "\n",
    "\n",
    "        train_valid_protein_cv = np.array(all_protein)[train_index]\n",
    "        train_valid_drug_cv = np.array(all_drug)[train_index]\n",
    "\n",
    "        train_valid_Y_cv = np.array(all_Y)[train_index]\n",
    "\n",
    "        test_protein_cv = np.array(all_protein)[test_index]\n",
    "\n",
    "\n",
    "        test_drug_cv = np.array(all_drug)[test_index]\n",
    "\n",
    "        test_Y_cv = np.array(all_Y)[test_index]\n",
    "\n",
    "        train_size = train_valid_protein_cv.shape[0] \n",
    "\n",
    "        valid_size =  int(train_size/5.0) #?\n",
    "\n",
    "\n",
    "        train_protein_cv = train_valid_protein_cv[:train_size-valid_size]\n",
    "        train_drug_cv = train_valid_drug_cv[:train_size-valid_size]\n",
    "        train_Y_cv = train_valid_Y_cv[:train_size-valid_size]\n",
    "\n",
    "        valid_protein_cv = train_valid_protein_cv[train_size-valid_size:]\n",
    "        valid_drug_cv = train_valid_drug_cv[train_size-valid_size:]\n",
    "        valid_Y_cv = train_valid_Y_cv[train_size-valid_size:]\n",
    "\n",
    "\n",
    "        train_ds = pack_dataset2(train_drug_cv, train_protein_cv, train_Y_cv)\n",
    "        valid_ds = pack_dataset2(valid_drug_cv, valid_protein_cv, valid_Y_cv)\n",
    "        test_ds = pack_dataset2(test_drug_cv, test_protein_cv, test_Y_cv)\n",
    "\n",
    "        train_loader = DataLoader(train_ds, batch_size= BATCH_SIZE, shuffle=True, num_workers=1)\n",
    "        test_loader = DataLoader(test_ds, batch_size= BATCH_SIZE, shuffle=True, num_workers=1)\n",
    "        valid_loader = DataLoader(valid_ds, batch_size= BATCH_SIZE, shuffle=True, num_workers=1)\n",
    "\n",
    "        drug_atom_transformer = GenearalTransformer(MODEL_TYPE, VOCAB_SIZE_drug_atom, drug_len_atom, D_MODEL, N_HEADS, N_LAYERS,device)\n",
    "        drug_token_transformer = GenearalTransformer(MODEL_TYPE, VOCAB_SIZE_drug_token, drug_len_token, D_MODEL, N_HEADS, N_LAYERS,device)\n",
    "        prot_atom_transformer = GenearalTransformer(MODEL_TYPE, VOCAB_SIZE_prot_atom, prot_len_atom, D_MODEL, N_HEADS, N_LAYERS,device)\n",
    "        prot_token_transformer = GenearalTransformer(MODEL_TYPE, VOCAB_SIZE_prot_token, prot_len_token, D_MODEL, N_HEADS, N_LAYERS,device)\n",
    "\n",
    "        drug_atom_transformer = drug_atom_transformer.to(device)\n",
    "\n",
    "        drug_token_transformer = drug_token_transformer.to(device)\n",
    "        prot_atom_transformer = prot_atom_transformer.to(device)\n",
    "        prot_token_transformer = prot_token_transformer.to(device)\n",
    "\n",
    "        reduction = 'max'\n",
    "#         model_file_name = 'models/spm-'+ dataset+'-'+MODEL_TYPE + '-'+reduction +'.model'\n",
    "#         model_file_name = 'models/spm-nhead-'+str(N_HEADS)+'-nlayer-'+str(N_LAYERS)+'-d-model-'+str(D_MODEL)+ dataset+'-'+MODEL_TYPE + '-'+reduction +'.model'\n",
    "        model_file_name = 'models/spm-nhead-'+str(N_HEADS)+'-nlayer-'+str(N_LAYERS)+'-d-model-'+str(D_MODEL)+ dataset+'-'+MODEL_TYPE + '-lr-'+str(lr) +'.model'\n",
    "\n",
    "\n",
    "        model = TransformerDTA(drug_atom_transformer, prot_atom_transformer, drug_token_transformer,prot_token_transformer,\n",
    "                               D_MODEL, reduction=reduction)\n",
    "        \n",
    "        model = nn.DataParallel(model, device_ids=[0,2])\n",
    "        model.to(device)\n",
    "    #     optimizer = torch.optim.SGD(model.parameters(), lr=1e-4, momentum=0.9)\n",
    "    #     optimizer = torch.optim.Adam(model.parameters(), lr=1e-3, weight_decay=0.01)\n",
    "        optimizer = AdamW(model.parameters(), lr=lr,  eps=1e-8)\n",
    "        criterion =  nn.MSELoss()\n",
    "\n",
    "        scheduler = get_linear_schedule_with_warmup(\n",
    "            optimizer, \n",
    "            num_warmup_steps=0, \n",
    "            num_training_steps=EPOCHS\n",
    "        )\n",
    "\n",
    "        train_valid(model, train_loader, valid_loader, EPOCHS, criterion,optimizer,scheduler, model_file_name)\n",
    "\n",
    "        model.load_state_dict(torch.load(model_file_name))\n",
    "\n",
    "        rm2, mse, pearson,aupr,ci_val = predict(model, test_loader, threshold)\n",
    "        \n",
    "\n",
    "        all_mse2[split] = mse\n",
    "        all_r[split] = pearson\n",
    "        all_aupr[split] = aupr\n",
    "        all_rm2[split] = rm2\n",
    "        all_ci2[split] = ci_val\n",
    "    return  all_mse2, all_r, all_aupr, all_rm2, all_ci2\n",
    "    "
   ]
  },
  {
   "cell_type": "code",
   "execution_count": 8,
   "metadata": {},
   "outputs": [
    {
     "name": "stderr",
     "output_type": "stream",
     "text": [
      "100%|██████████| 646/646 [02:35<00:00,  4.16it/s]\n",
      "  0%|          | 0/162 [00:00<?, ?it/s]"
     ]
    },
    {
     "name": "stdout",
     "output_type": "stream",
     "text": [
      "Average loss 2.4237745099761536\n"
     ]
    },
    {
     "name": "stderr",
     "output_type": "stream",
     "text": [
      "100%|██████████| 162/162 [00:14<00:00, 11.56it/s]\n"
     ]
    },
    {
     "name": "stdout",
     "output_type": "stream",
     "text": [
      "Validation loss decreased (inf --> 0.685424).  Saving model ...\n"
     ]
    },
    {
     "name": "stderr",
     "output_type": "stream",
     "text": [
      "\r",
      "  0%|          | 0/646 [00:00<?, ?it/s]"
     ]
    },
    {
     "name": "stdout",
     "output_type": "stream",
     "text": [
      "val mse: 1.9130224\n",
      "val pearson 0.5606988035129273\n",
      "val AUPR 0.5771382723793888\n",
      "val ci: 0.6854243943292818\n",
      "Epoch: 2\n"
     ]
    },
    {
     "name": "stderr",
     "output_type": "stream",
     "text": [
      "100%|██████████| 646/646 [02:30<00:00,  4.28it/s]\n",
      "  0%|          | 0/162 [00:00<?, ?it/s]"
     ]
    },
    {
     "name": "stdout",
     "output_type": "stream",
     "text": [
      "Average loss 1.3724885308890151\n"
     ]
    },
    {
     "name": "stderr",
     "output_type": "stream",
     "text": [
      "100%|██████████| 162/162 [00:13<00:00, 11.74it/s]\n"
     ]
    },
    {
     "name": "stdout",
     "output_type": "stream",
     "text": [
      "Validation loss decreased (0.685424 --> 0.695163).  Saving model ...\n"
     ]
    },
    {
     "name": "stderr",
     "output_type": "stream",
     "text": [
      "\r",
      "  0%|          | 0/646 [00:00<?, ?it/s]"
     ]
    },
    {
     "name": "stdout",
     "output_type": "stream",
     "text": [
      "val mse: 1.9339834\n",
      "val pearson 0.5859898800393978\n",
      "val AUPR 0.6069275525268911\n",
      "val ci: 0.6951632596092397\n",
      "Epoch: 3\n"
     ]
    },
    {
     "name": "stderr",
     "output_type": "stream",
     "text": [
      "100%|██████████| 646/646 [02:32<00:00,  4.25it/s]\n",
      "  0%|          | 0/162 [00:00<?, ?it/s]"
     ]
    },
    {
     "name": "stdout",
     "output_type": "stream",
     "text": [
      "Average loss 1.1726180910141475\n"
     ]
    },
    {
     "name": "stderr",
     "output_type": "stream",
     "text": [
      "100%|██████████| 162/162 [00:14<00:00, 11.32it/s]\n"
     ]
    },
    {
     "name": "stdout",
     "output_type": "stream",
     "text": [
      "Validation loss decreased (0.695163 --> 0.704532).  Saving model ...\n"
     ]
    },
    {
     "name": "stderr",
     "output_type": "stream",
     "text": [
      "\r",
      "  0%|          | 0/646 [00:00<?, ?it/s]"
     ]
    },
    {
     "name": "stdout",
     "output_type": "stream",
     "text": [
      "val mse: 1.6683558\n",
      "val pearson 0.6032445416656593\n",
      "val AUPR 0.571635257381547\n",
      "val ci: 0.7045322023347853\n",
      "Epoch: 4\n"
     ]
    },
    {
     "name": "stderr",
     "output_type": "stream",
     "text": [
      "100%|██████████| 646/646 [02:30<00:00,  4.28it/s]\n",
      "  0%|          | 0/162 [00:00<?, ?it/s]"
     ]
    },
    {
     "name": "stdout",
     "output_type": "stream",
     "text": [
      "Average loss 1.0087665528889411\n"
     ]
    },
    {
     "name": "stderr",
     "output_type": "stream",
     "text": [
      "100%|██████████| 162/162 [00:14<00:00, 11.33it/s]\n"
     ]
    },
    {
     "name": "stdout",
     "output_type": "stream",
     "text": [
      "Validation loss decreased (0.704532 --> 0.711219).  Saving model ...\n"
     ]
    },
    {
     "name": "stderr",
     "output_type": "stream",
     "text": [
      "\r",
      "  0%|          | 0/646 [00:00<?, ?it/s]"
     ]
    },
    {
     "name": "stdout",
     "output_type": "stream",
     "text": [
      "val mse: 1.566092\n",
      "val pearson 0.6247698293489293\n",
      "val AUPR 0.6014397933787548\n",
      "val ci: 0.7112192951221429\n",
      "Epoch: 5\n"
     ]
    },
    {
     "name": "stderr",
     "output_type": "stream",
     "text": [
      "100%|██████████| 646/646 [02:30<00:00,  4.28it/s]\n",
      "  0%|          | 0/162 [00:00<?, ?it/s]"
     ]
    },
    {
     "name": "stdout",
     "output_type": "stream",
     "text": [
      "Average loss 0.883390110897206\n"
     ]
    },
    {
     "name": "stderr",
     "output_type": "stream",
     "text": [
      "100%|██████████| 162/162 [00:14<00:00, 11.42it/s]\n"
     ]
    },
    {
     "name": "stdout",
     "output_type": "stream",
     "text": [
      "Validation loss decreased (0.711219 --> 0.712630).  Saving model ...\n"
     ]
    },
    {
     "name": "stderr",
     "output_type": "stream",
     "text": [
      "\r",
      "  0%|          | 0/646 [00:00<?, ?it/s]"
     ]
    },
    {
     "name": "stdout",
     "output_type": "stream",
     "text": [
      "val mse: 1.5597136\n",
      "val pearson 0.6292388190241919\n",
      "val AUPR 0.6026594421420728\n",
      "val ci: 0.7126299740530233\n",
      "Epoch: 6\n"
     ]
    },
    {
     "name": "stderr",
     "output_type": "stream",
     "text": [
      "100%|██████████| 646/646 [02:31<00:00,  4.27it/s]\n",
      "  0%|          | 0/162 [00:00<?, ?it/s]"
     ]
    },
    {
     "name": "stdout",
     "output_type": "stream",
     "text": [
      "Average loss 0.7668430981898087\n"
     ]
    },
    {
     "name": "stderr",
     "output_type": "stream",
     "text": [
      "100%|██████████| 162/162 [00:14<00:00, 10.81it/s]\n"
     ]
    },
    {
     "name": "stdout",
     "output_type": "stream",
     "text": [
      "Validation loss decreased (0.712630 --> 0.714241).  Saving model ...\n"
     ]
    },
    {
     "name": "stderr",
     "output_type": "stream",
     "text": [
      "\r",
      "  0%|          | 0/646 [00:00<?, ?it/s]"
     ]
    },
    {
     "name": "stdout",
     "output_type": "stream",
     "text": [
      "val mse: 1.6773536\n",
      "val pearson 0.6288203322058624\n",
      "val AUPR 0.6265558523031081\n",
      "val ci: 0.7142411916642795\n",
      "Epoch: 7\n"
     ]
    },
    {
     "name": "stderr",
     "output_type": "stream",
     "text": [
      "100%|██████████| 646/646 [02:28<00:00,  4.35it/s]\n",
      "  0%|          | 0/162 [00:00<?, ?it/s]"
     ]
    },
    {
     "name": "stdout",
     "output_type": "stream",
     "text": [
      "Average loss 0.676323628462505\n"
     ]
    },
    {
     "name": "stderr",
     "output_type": "stream",
     "text": [
      "100%|██████████| 162/162 [00:15<00:00, 10.15it/s]\n",
      "  0%|          | 0/646 [00:00<?, ?it/s]"
     ]
    },
    {
     "name": "stdout",
     "output_type": "stream",
     "text": [
      "EarlyStopping counter: 1 out of 25\n",
      "val mse: 1.6284696\n",
      "val pearson 0.6239753604709862\n",
      "val AUPR 0.6238719600294685\n",
      "val ci: 0.7131087847322648\n",
      "Epoch: 8\n"
     ]
    },
    {
     "name": "stderr",
     "output_type": "stream",
     "text": [
      "100%|██████████| 646/646 [02:27<00:00,  4.38it/s]\n",
      "  0%|          | 0/162 [00:00<?, ?it/s]"
     ]
    },
    {
     "name": "stdout",
     "output_type": "stream",
     "text": [
      "Average loss 0.5956737459536308\n"
     ]
    },
    {
     "name": "stderr",
     "output_type": "stream",
     "text": [
      "100%|██████████| 162/162 [00:15<00:00, 10.32it/s]\n"
     ]
    },
    {
     "name": "stdout",
     "output_type": "stream",
     "text": [
      "Validation loss decreased (0.714241 --> 0.715614).  Saving model ...\n"
     ]
    },
    {
     "name": "stderr",
     "output_type": "stream",
     "text": [
      "\r",
      "  0%|          | 0/646 [00:00<?, ?it/s]"
     ]
    },
    {
     "name": "stdout",
     "output_type": "stream",
     "text": [
      "val mse: 1.5275451\n",
      "val pearson 0.6306351110284001\n",
      "val AUPR 0.6137855661765359\n",
      "val ci: 0.7156135964333615\n",
      "Epoch: 9\n"
     ]
    },
    {
     "name": "stderr",
     "output_type": "stream",
     "text": [
      "100%|██████████| 646/646 [02:29<00:00,  4.31it/s]\n",
      "  0%|          | 0/162 [00:00<?, ?it/s]"
     ]
    },
    {
     "name": "stdout",
     "output_type": "stream",
     "text": [
      "Average loss 0.518472275682278\n"
     ]
    },
    {
     "name": "stderr",
     "output_type": "stream",
     "text": [
      "100%|██████████| 162/162 [00:15<00:00, 10.26it/s]\n"
     ]
    },
    {
     "name": "stdout",
     "output_type": "stream",
     "text": [
      "Validation loss decreased (0.715614 --> 0.717697).  Saving model ...\n"
     ]
    },
    {
     "name": "stderr",
     "output_type": "stream",
     "text": [
      "\r",
      "  0%|          | 0/646 [00:00<?, ?it/s]"
     ]
    },
    {
     "name": "stdout",
     "output_type": "stream",
     "text": [
      "val mse: 1.6457088\n",
      "val pearson 0.6343682910267135\n",
      "val AUPR 0.6410121078395872\n",
      "val ci: 0.717696561684989\n",
      "Epoch: 10\n"
     ]
    },
    {
     "name": "stderr",
     "output_type": "stream",
     "text": [
      "100%|██████████| 646/646 [02:31<00:00,  4.28it/s]\n",
      "  0%|          | 0/162 [00:00<?, ?it/s]"
     ]
    },
    {
     "name": "stdout",
     "output_type": "stream",
     "text": [
      "Average loss 0.4565826491121168\n"
     ]
    },
    {
     "name": "stderr",
     "output_type": "stream",
     "text": [
      "100%|██████████| 162/162 [00:13<00:00, 11.78it/s]\n"
     ]
    },
    {
     "name": "stdout",
     "output_type": "stream",
     "text": [
      "Validation loss decreased (0.717697 --> 0.721658).  Saving model ...\n"
     ]
    },
    {
     "name": "stderr",
     "output_type": "stream",
     "text": [
      "\r",
      "  0%|          | 0/646 [00:00<?, ?it/s]"
     ]
    },
    {
     "name": "stdout",
     "output_type": "stream",
     "text": [
      "val mse: 1.5414606\n",
      "val pearson 0.6436463593600988\n",
      "val AUPR 0.6086302346128676\n",
      "val ci: 0.721658119286767\n",
      "Epoch: 11\n"
     ]
    },
    {
     "name": "stderr",
     "output_type": "stream",
     "text": [
      "100%|██████████| 646/646 [02:32<00:00,  4.23it/s]\n",
      "  0%|          | 0/162 [00:00<?, ?it/s]"
     ]
    },
    {
     "name": "stdout",
     "output_type": "stream",
     "text": [
      "Average loss 0.4111205646451044\n"
     ]
    },
    {
     "name": "stderr",
     "output_type": "stream",
     "text": [
      "100%|██████████| 162/162 [00:14<00:00, 11.27it/s]\n",
      "  0%|          | 0/646 [00:00<?, ?it/s]"
     ]
    },
    {
     "name": "stdout",
     "output_type": "stream",
     "text": [
      "EarlyStopping counter: 1 out of 25\n",
      "val mse: 1.5458189\n",
      "val pearson 0.6300776130449189\n",
      "val AUPR 0.6139190867322555\n",
      "val ci: 0.7159661124687242\n",
      "Epoch: 12\n"
     ]
    },
    {
     "name": "stderr",
     "output_type": "stream",
     "text": [
      "100%|██████████| 646/646 [02:32<00:00,  4.24it/s]\n",
      "  0%|          | 0/162 [00:00<?, ?it/s]"
     ]
    },
    {
     "name": "stdout",
     "output_type": "stream",
     "text": [
      "Average loss 0.36902466238744486\n"
     ]
    },
    {
     "name": "stderr",
     "output_type": "stream",
     "text": [
      "100%|██████████| 162/162 [00:14<00:00, 11.48it/s]\n",
      "  0%|          | 0/646 [00:00<?, ?it/s]"
     ]
    },
    {
     "name": "stdout",
     "output_type": "stream",
     "text": [
      "EarlyStopping counter: 2 out of 25\n",
      "val mse: 1.5417802\n",
      "val pearson 0.6293465824168258\n",
      "val AUPR 0.619382435778235\n",
      "val ci: 0.7183868270767738\n",
      "Epoch: 13\n"
     ]
    },
    {
     "name": "stderr",
     "output_type": "stream",
     "text": [
      "100%|██████████| 646/646 [02:31<00:00,  4.26it/s]\n",
      "  0%|          | 0/162 [00:00<?, ?it/s]"
     ]
    },
    {
     "name": "stdout",
     "output_type": "stream",
     "text": [
      "Average loss 0.3328950778572552\n"
     ]
    },
    {
     "name": "stderr",
     "output_type": "stream",
     "text": [
      "100%|██████████| 162/162 [00:14<00:00, 11.20it/s]\n",
      "  0%|          | 0/646 [00:00<?, ?it/s]"
     ]
    },
    {
     "name": "stdout",
     "output_type": "stream",
     "text": [
      "EarlyStopping counter: 3 out of 25\n",
      "val mse: 1.5821041\n",
      "val pearson 0.6405795986945453\n",
      "val AUPR 0.6445793056268578\n",
      "val ci: 0.7212442744859848\n",
      "Epoch: 14\n"
     ]
    },
    {
     "name": "stderr",
     "output_type": "stream",
     "text": [
      "100%|██████████| 646/646 [02:32<00:00,  4.24it/s]\n",
      "  0%|          | 0/162 [00:00<?, ?it/s]"
     ]
    },
    {
     "name": "stdout",
     "output_type": "stream",
     "text": [
      "Average loss 0.30253375949043976\n"
     ]
    },
    {
     "name": "stderr",
     "output_type": "stream",
     "text": [
      "100%|██████████| 162/162 [00:14<00:00, 11.46it/s]\n"
     ]
    },
    {
     "name": "stdout",
     "output_type": "stream",
     "text": [
      "Validation loss decreased (0.721658 --> 0.721709).  Saving model ...\n"
     ]
    },
    {
     "name": "stderr",
     "output_type": "stream",
     "text": [
      "\r",
      "  0%|          | 0/646 [00:00<?, ?it/s]"
     ]
    },
    {
     "name": "stdout",
     "output_type": "stream",
     "text": [
      "val mse: 1.5262158\n",
      "val pearson 0.6380331089916245\n",
      "val AUPR 0.6329544400270132\n",
      "val ci: 0.7217090271366975\n",
      "Epoch: 15\n"
     ]
    },
    {
     "name": "stderr",
     "output_type": "stream",
     "text": [
      "100%|██████████| 646/646 [02:30<00:00,  4.30it/s]\n",
      "  0%|          | 0/162 [00:00<?, ?it/s]"
     ]
    },
    {
     "name": "stdout",
     "output_type": "stream",
     "text": [
      "Average loss 0.26578160940493595\n"
     ]
    },
    {
     "name": "stderr",
     "output_type": "stream",
     "text": [
      "100%|██████████| 162/162 [00:15<00:00, 10.57it/s]\n",
      "  0%|          | 0/646 [00:00<?, ?it/s]"
     ]
    },
    {
     "name": "stdout",
     "output_type": "stream",
     "text": [
      "EarlyStopping counter: 1 out of 25\n",
      "val mse: 1.5982364\n",
      "val pearson 0.6318788554867487\n",
      "val AUPR 0.6361038519364928\n",
      "val ci: 0.717469655108339\n",
      "Epoch: 16\n"
     ]
    },
    {
     "name": "stderr",
     "output_type": "stream",
     "text": [
      "100%|██████████| 646/646 [02:26<00:00,  4.40it/s]\n",
      "  0%|          | 0/162 [00:00<?, ?it/s]"
     ]
    },
    {
     "name": "stdout",
     "output_type": "stream",
     "text": [
      "Average loss 0.2486762426355306\n"
     ]
    },
    {
     "name": "stderr",
     "output_type": "stream",
     "text": [
      "100%|██████████| 162/162 [00:16<00:00,  9.55it/s]\n",
      "  0%|          | 0/646 [00:00<?, ?it/s]"
     ]
    },
    {
     "name": "stdout",
     "output_type": "stream",
     "text": [
      "EarlyStopping counter: 2 out of 25\n",
      "val mse: 1.770995\n",
      "val pearson 0.6345383656714668\n",
      "val AUPR 0.651397672100954\n",
      "val ci: 0.7188748267461204\n",
      "Epoch: 17\n"
     ]
    },
    {
     "name": "stderr",
     "output_type": "stream",
     "text": [
      "100%|██████████| 646/646 [02:29<00:00,  4.32it/s]\n",
      "  0%|          | 0/162 [00:00<?, ?it/s]"
     ]
    },
    {
     "name": "stdout",
     "output_type": "stream",
     "text": [
      "Average loss 0.21531266533415014\n"
     ]
    },
    {
     "name": "stderr",
     "output_type": "stream",
     "text": [
      "100%|██████████| 162/162 [00:14<00:00, 11.50it/s]\n",
      "  0%|          | 0/646 [00:00<?, ?it/s]"
     ]
    },
    {
     "name": "stdout",
     "output_type": "stream",
     "text": [
      "EarlyStopping counter: 3 out of 25\n",
      "val mse: 1.5418726\n",
      "val pearson 0.6384582143606525\n",
      "val AUPR 0.6290934962554573\n",
      "val ci: 0.7203366880703026\n",
      "Epoch: 18\n"
     ]
    },
    {
     "name": "stderr",
     "output_type": "stream",
     "text": [
      "100%|██████████| 646/646 [02:31<00:00,  4.26it/s]\n",
      "  0%|          | 0/162 [00:00<?, ?it/s]"
     ]
    },
    {
     "name": "stdout",
     "output_type": "stream",
     "text": [
      "Average loss 0.20527314210177944\n"
     ]
    },
    {
     "name": "stderr",
     "output_type": "stream",
     "text": [
      "100%|██████████| 162/162 [00:13<00:00, 11.58it/s]\n"
     ]
    },
    {
     "name": "stdout",
     "output_type": "stream",
     "text": [
      "Validation loss decreased (0.721709 --> 0.723326).  Saving model ...\n"
     ]
    },
    {
     "name": "stderr",
     "output_type": "stream",
     "text": [
      "\r",
      "  0%|          | 0/646 [00:00<?, ?it/s]"
     ]
    },
    {
     "name": "stdout",
     "output_type": "stream",
     "text": [
      "val mse: 1.5298022\n",
      "val pearson 0.6422976891206699\n",
      "val AUPR 0.6363139093868573\n",
      "val ci: 0.7233264606914644\n",
      "Epoch: 19\n"
     ]
    },
    {
     "name": "stderr",
     "output_type": "stream",
     "text": [
      "100%|██████████| 646/646 [02:33<00:00,  4.22it/s]\n",
      "  0%|          | 0/162 [00:00<?, ?it/s]"
     ]
    },
    {
     "name": "stdout",
     "output_type": "stream",
     "text": [
      "Average loss 0.19147386686766849\n"
     ]
    },
    {
     "name": "stderr",
     "output_type": "stream",
     "text": [
      "100%|██████████| 162/162 [00:13<00:00, 11.71it/s]\n",
      "  0%|          | 0/646 [00:00<?, ?it/s]"
     ]
    },
    {
     "name": "stdout",
     "output_type": "stream",
     "text": [
      "EarlyStopping counter: 1 out of 25\n",
      "val mse: 1.54671\n",
      "val pearson 0.6356340245149112\n",
      "val AUPR 0.627878211110446\n",
      "val ci: 0.7191792038305117\n",
      "Epoch: 20\n"
     ]
    },
    {
     "name": "stderr",
     "output_type": "stream",
     "text": [
      "100%|██████████| 646/646 [02:32<00:00,  4.23it/s]\n",
      "  0%|          | 0/162 [00:00<?, ?it/s]"
     ]
    },
    {
     "name": "stdout",
     "output_type": "stream",
     "text": [
      "Average loss 0.1773485628305574\n"
     ]
    },
    {
     "name": "stderr",
     "output_type": "stream",
     "text": [
      "100%|██████████| 162/162 [00:14<00:00, 11.39it/s]\n",
      "  0%|          | 0/646 [00:00<?, ?it/s]"
     ]
    },
    {
     "name": "stdout",
     "output_type": "stream",
     "text": [
      "EarlyStopping counter: 2 out of 25\n",
      "val mse: 1.6087276\n",
      "val pearson 0.6319281088874094\n",
      "val AUPR 0.6370357939056699\n",
      "val ci: 0.71840637597273\n",
      "Epoch: 21\n"
     ]
    },
    {
     "name": "stderr",
     "output_type": "stream",
     "text": [
      "100%|██████████| 646/646 [02:32<00:00,  4.25it/s]\n",
      "  0%|          | 0/162 [00:00<?, ?it/s]"
     ]
    },
    {
     "name": "stdout",
     "output_type": "stream",
     "text": [
      "Average loss 0.16026285797034623\n"
     ]
    },
    {
     "name": "stderr",
     "output_type": "stream",
     "text": [
      "100%|██████████| 162/162 [00:14<00:00, 11.38it/s]\n",
      "  0%|          | 0/646 [00:00<?, ?it/s]"
     ]
    },
    {
     "name": "stdout",
     "output_type": "stream",
     "text": [
      "EarlyStopping counter: 3 out of 25\n",
      "val mse: 1.6322286\n",
      "val pearson 0.6371329995240439\n",
      "val AUPR 0.6457180623408341\n",
      "val ci: 0.7215226145340623\n",
      "Epoch: 22\n"
     ]
    },
    {
     "name": "stderr",
     "output_type": "stream",
     "text": [
      "100%|██████████| 646/646 [02:32<00:00,  4.25it/s]\n",
      "  0%|          | 0/162 [00:00<?, ?it/s]"
     ]
    },
    {
     "name": "stdout",
     "output_type": "stream",
     "text": [
      "Average loss 0.1527339858882383\n"
     ]
    },
    {
     "name": "stderr",
     "output_type": "stream",
     "text": [
      "100%|██████████| 162/162 [00:14<00:00, 11.33it/s]\n",
      "  0%|          | 0/646 [00:00<?, ?it/s]"
     ]
    },
    {
     "name": "stdout",
     "output_type": "stream",
     "text": [
      "EarlyStopping counter: 4 out of 25\n",
      "val mse: 1.5857896\n",
      "val pearson 0.6340372541125249\n",
      "val AUPR 0.6417706295355862\n",
      "val ci: 0.7205306306701917\n",
      "Epoch: 23\n"
     ]
    },
    {
     "name": "stderr",
     "output_type": "stream",
     "text": [
      "100%|██████████| 646/646 [02:30<00:00,  4.30it/s]\n",
      "  0%|          | 0/162 [00:00<?, ?it/s]"
     ]
    },
    {
     "name": "stdout",
     "output_type": "stream",
     "text": [
      "Average loss 0.13970127682152547\n"
     ]
    },
    {
     "name": "stderr",
     "output_type": "stream",
     "text": [
      "100%|██████████| 162/162 [00:15<00:00, 10.25it/s]\n"
     ]
    },
    {
     "name": "stdout",
     "output_type": "stream",
     "text": [
      "Validation loss decreased (0.723326 --> 0.724144).  Saving model ...\n"
     ]
    },
    {
     "name": "stderr",
     "output_type": "stream",
     "text": [
      "\r",
      "  0%|          | 0/646 [00:00<?, ?it/s]"
     ]
    },
    {
     "name": "stdout",
     "output_type": "stream",
     "text": [
      "val mse: 1.511863\n",
      "val pearson 0.6440364851658508\n",
      "val AUPR 0.6203604956391382\n",
      "val ci: 0.7241438513968159\n",
      "Epoch: 24\n"
     ]
    },
    {
     "name": "stderr",
     "output_type": "stream",
     "text": [
      "100%|██████████| 646/646 [02:26<00:00,  4.40it/s]\n",
      "  0%|          | 0/162 [00:00<?, ?it/s]"
     ]
    },
    {
     "name": "stdout",
     "output_type": "stream",
     "text": [
      "Average loss 0.1320830838345337\n"
     ]
    },
    {
     "name": "stderr",
     "output_type": "stream",
     "text": [
      "100%|██████████| 162/162 [00:16<00:00,  9.58it/s]\n"
     ]
    },
    {
     "name": "stdout",
     "output_type": "stream",
     "text": [
      "Validation loss decreased (0.724144 --> 0.724597).  Saving model ...\n"
     ]
    },
    {
     "name": "stderr",
     "output_type": "stream",
     "text": [
      "\r",
      "  0%|          | 0/646 [00:00<?, ?it/s]"
     ]
    },
    {
     "name": "stdout",
     "output_type": "stream",
     "text": [
      "val mse: 1.496244\n",
      "val pearson 0.6475267360144652\n",
      "val AUPR 0.631639044739337\n",
      "val ci: 0.7245966696237099\n",
      "Epoch: 25\n"
     ]
    },
    {
     "name": "stderr",
     "output_type": "stream",
     "text": [
      "100%|██████████| 646/646 [02:29<00:00,  4.33it/s]\n",
      "  0%|          | 0/162 [00:00<?, ?it/s]"
     ]
    },
    {
     "name": "stdout",
     "output_type": "stream",
     "text": [
      "Average loss 0.12125732373711494\n"
     ]
    },
    {
     "name": "stderr",
     "output_type": "stream",
     "text": [
      "100%|██████████| 162/162 [00:14<00:00, 11.57it/s]\n",
      "  0%|          | 0/646 [00:00<?, ?it/s]"
     ]
    },
    {
     "name": "stdout",
     "output_type": "stream",
     "text": [
      "EarlyStopping counter: 1 out of 25\n",
      "val mse: 1.5656682\n",
      "val pearson 0.6393769909727393\n",
      "val AUPR 0.6401352735264421\n",
      "val ci: 0.7211390258207195\n",
      "Epoch: 26\n"
     ]
    },
    {
     "name": "stderr",
     "output_type": "stream",
     "text": [
      "100%|██████████| 646/646 [02:31<00:00,  4.26it/s]\n",
      "  0%|          | 0/162 [00:00<?, ?it/s]"
     ]
    },
    {
     "name": "stdout",
     "output_type": "stream",
     "text": [
      "Average loss 0.11363200752220287\n"
     ]
    },
    {
     "name": "stderr",
     "output_type": "stream",
     "text": [
      "100%|██████████| 162/162 [00:14<00:00, 11.55it/s]\n",
      "  0%|          | 0/646 [00:00<?, ?it/s]"
     ]
    },
    {
     "name": "stdout",
     "output_type": "stream",
     "text": [
      "EarlyStopping counter: 2 out of 25\n",
      "val mse: 1.5972489\n",
      "val pearson 0.6423167513266774\n",
      "val AUPR 0.6493594088578536\n",
      "val ci: 0.7236994337277809\n",
      "Epoch: 27\n"
     ]
    },
    {
     "name": "stderr",
     "output_type": "stream",
     "text": [
      "100%|██████████| 646/646 [02:32<00:00,  4.22it/s]\n",
      "  0%|          | 0/162 [00:00<?, ?it/s]"
     ]
    },
    {
     "name": "stdout",
     "output_type": "stream",
     "text": [
      "Average loss 0.11435141739069309\n"
     ]
    },
    {
     "name": "stderr",
     "output_type": "stream",
     "text": [
      "100%|██████████| 162/162 [00:13<00:00, 11.60it/s]\n",
      "  0%|          | 0/646 [00:00<?, ?it/s]"
     ]
    },
    {
     "name": "stdout",
     "output_type": "stream",
     "text": [
      "EarlyStopping counter: 3 out of 25\n",
      "val mse: 1.5187118\n",
      "val pearson 0.6447013841296708\n",
      "val AUPR 0.6423687710782064\n",
      "val ci: 0.7238342157509268\n",
      "Epoch: 28\n"
     ]
    },
    {
     "name": "stderr",
     "output_type": "stream",
     "text": [
      "100%|██████████| 646/646 [02:33<00:00,  4.22it/s]\n",
      "  0%|          | 0/162 [00:00<?, ?it/s]"
     ]
    },
    {
     "name": "stdout",
     "output_type": "stream",
     "text": [
      "Average loss 0.10550923956898343\n"
     ]
    },
    {
     "name": "stderr",
     "output_type": "stream",
     "text": [
      "100%|██████████| 162/162 [00:14<00:00, 11.19it/s]\n"
     ]
    },
    {
     "name": "stdout",
     "output_type": "stream",
     "text": [
      "Validation loss decreased (0.724597 --> 0.725095).  Saving model ...\n"
     ]
    },
    {
     "name": "stderr",
     "output_type": "stream",
     "text": [
      "\r",
      "  0%|          | 0/646 [00:00<?, ?it/s]"
     ]
    },
    {
     "name": "stdout",
     "output_type": "stream",
     "text": [
      "val mse: 1.4959843\n",
      "val pearson 0.6448250155144715\n",
      "val AUPR 0.6306993518467843\n",
      "val ci: 0.7250945810127203\n",
      "Epoch: 29\n"
     ]
    },
    {
     "name": "stderr",
     "output_type": "stream",
     "text": [
      "100%|██████████| 646/646 [02:32<00:00,  4.24it/s]\n",
      "  0%|          | 0/162 [00:00<?, ?it/s]"
     ]
    },
    {
     "name": "stdout",
     "output_type": "stream",
     "text": [
      "Average loss 0.10366425422184608\n"
     ]
    },
    {
     "name": "stderr",
     "output_type": "stream",
     "text": [
      "100%|██████████| 162/162 [00:14<00:00, 11.46it/s]\n"
     ]
    },
    {
     "name": "stdout",
     "output_type": "stream",
     "text": [
      "Validation loss decreased (0.725095 --> 0.727575).  Saving model ...\n"
     ]
    },
    {
     "name": "stderr",
     "output_type": "stream",
     "text": [
      "\r",
      "  0%|          | 0/646 [00:00<?, ?it/s]"
     ]
    },
    {
     "name": "stdout",
     "output_type": "stream",
     "text": [
      "val mse: 1.4958353\n",
      "val pearson 0.6514981636426956\n",
      "val AUPR 0.6428168028871497\n",
      "val ci: 0.7275752070853665\n",
      "Epoch: 30\n"
     ]
    },
    {
     "name": "stderr",
     "output_type": "stream",
     "text": [
      "100%|██████████| 646/646 [02:32<00:00,  4.24it/s]\n",
      "  0%|          | 0/162 [00:00<?, ?it/s]"
     ]
    },
    {
     "name": "stdout",
     "output_type": "stream",
     "text": [
      "Average loss 0.10017442517559226\n"
     ]
    },
    {
     "name": "stderr",
     "output_type": "stream",
     "text": [
      "100%|██████████| 162/162 [00:14<00:00, 11.49it/s]\n",
      "  0%|          | 0/646 [00:00<?, ?it/s]"
     ]
    },
    {
     "name": "stdout",
     "output_type": "stream",
     "text": [
      "EarlyStopping counter: 1 out of 25\n",
      "val mse: 1.5328159\n",
      "val pearson 0.6418951483833233\n",
      "val AUPR 0.6356498405033078\n",
      "val ci: 0.7240181222653514\n",
      "Epoch: 31\n"
     ]
    },
    {
     "name": "stderr",
     "output_type": "stream",
     "text": [
      "100%|██████████| 646/646 [02:32<00:00,  4.23it/s]\n",
      "  0%|          | 0/162 [00:00<?, ?it/s]"
     ]
    },
    {
     "name": "stdout",
     "output_type": "stream",
     "text": [
      "Average loss 0.08680420421386835\n"
     ]
    },
    {
     "name": "stderr",
     "output_type": "stream",
     "text": [
      "100%|██████████| 162/162 [00:14<00:00, 11.36it/s]\n",
      "  0%|          | 0/646 [00:00<?, ?it/s]"
     ]
    },
    {
     "name": "stdout",
     "output_type": "stream",
     "text": [
      "EarlyStopping counter: 2 out of 25\n",
      "val mse: 1.5767378\n",
      "val pearson 0.6424465488305697\n",
      "val AUPR 0.6471517435860241\n",
      "val ci: 0.7237871890525882\n",
      "Epoch: 32\n"
     ]
    },
    {
     "name": "stderr",
     "output_type": "stream",
     "text": [
      "100%|██████████| 646/646 [02:29<00:00,  4.33it/s]\n",
      "  0%|          | 0/162 [00:00<?, ?it/s]"
     ]
    },
    {
     "name": "stdout",
     "output_type": "stream",
     "text": [
      "Average loss 0.0855783973258254\n"
     ]
    },
    {
     "name": "stderr",
     "output_type": "stream",
     "text": [
      "100%|██████████| 162/162 [00:16<00:00, 10.02it/s]\n",
      "  0%|          | 0/646 [00:00<?, ?it/s]"
     ]
    },
    {
     "name": "stdout",
     "output_type": "stream",
     "text": [
      "EarlyStopping counter: 3 out of 25\n",
      "val mse: 1.5414485\n",
      "val pearson 0.6385964180282605\n",
      "val AUPR 0.6339911246036756\n",
      "val ci: 0.7218071095160126\n",
      "Epoch: 33\n"
     ]
    },
    {
     "name": "stderr",
     "output_type": "stream",
     "text": [
      "100%|██████████| 646/646 [02:27<00:00,  4.38it/s]\n",
      "  0%|          | 0/162 [00:00<?, ?it/s]"
     ]
    },
    {
     "name": "stdout",
     "output_type": "stream",
     "text": [
      "Average loss 0.08124831276181682\n"
     ]
    },
    {
     "name": "stderr",
     "output_type": "stream",
     "text": [
      "100%|██████████| 162/162 [00:15<00:00, 10.19it/s]\n",
      "  0%|          | 0/646 [00:00<?, ?it/s]"
     ]
    },
    {
     "name": "stdout",
     "output_type": "stream",
     "text": [
      "EarlyStopping counter: 4 out of 25\n",
      "val mse: 1.5309151\n",
      "val pearson 0.6497368477053295\n",
      "val AUPR 0.6520674442783747\n",
      "val ci: 0.7271327299921273\n",
      "Epoch: 34\n"
     ]
    },
    {
     "name": "stderr",
     "output_type": "stream",
     "text": [
      "100%|██████████| 646/646 [02:30<00:00,  4.29it/s]\n",
      "  0%|          | 0/162 [00:00<?, ?it/s]"
     ]
    },
    {
     "name": "stdout",
     "output_type": "stream",
     "text": [
      "Average loss 0.07434359891195969\n"
     ]
    },
    {
     "name": "stderr",
     "output_type": "stream",
     "text": [
      "100%|██████████| 162/162 [00:13<00:00, 11.67it/s]\n",
      "  0%|          | 0/646 [00:00<?, ?it/s]"
     ]
    },
    {
     "name": "stdout",
     "output_type": "stream",
     "text": [
      "EarlyStopping counter: 5 out of 25\n",
      "val mse: 1.5399401\n",
      "val pearson 0.6426503969938929\n",
      "val AUPR 0.6439475762715988\n",
      "val ci: 0.7249743662139287\n",
      "Epoch: 35\n"
     ]
    },
    {
     "name": "stderr",
     "output_type": "stream",
     "text": [
      "100%|██████████| 646/646 [02:31<00:00,  4.27it/s]\n",
      "  0%|          | 0/162 [00:00<?, ?it/s]"
     ]
    },
    {
     "name": "stdout",
     "output_type": "stream",
     "text": [
      "Average loss 0.07625724902324632\n"
     ]
    },
    {
     "name": "stderr",
     "output_type": "stream",
     "text": [
      "100%|██████████| 162/162 [00:13<00:00, 11.86it/s]\n",
      "  0%|          | 0/646 [00:00<?, ?it/s]"
     ]
    },
    {
     "name": "stdout",
     "output_type": "stream",
     "text": [
      "EarlyStopping counter: 6 out of 25\n",
      "val mse: 1.5047841\n",
      "val pearson 0.6463422761552648\n",
      "val AUPR 0.6430319124701366\n",
      "val ci: 0.7261350816180133\n",
      "Epoch: 36\n"
     ]
    },
    {
     "name": "stderr",
     "output_type": "stream",
     "text": [
      "100%|██████████| 646/646 [02:33<00:00,  4.22it/s]\n",
      "  0%|          | 0/162 [00:00<?, ?it/s]"
     ]
    },
    {
     "name": "stdout",
     "output_type": "stream",
     "text": [
      "Average loss 0.08821507313810635\n"
     ]
    },
    {
     "name": "stderr",
     "output_type": "stream",
     "text": [
      "100%|██████████| 162/162 [00:14<00:00, 11.50it/s]\n",
      "  0%|          | 0/646 [00:00<?, ?it/s]"
     ]
    },
    {
     "name": "stdout",
     "output_type": "stream",
     "text": [
      "EarlyStopping counter: 7 out of 25\n",
      "val mse: 1.5292466\n",
      "val pearson 0.6383509193383886\n",
      "val AUPR 0.6251813005855877\n",
      "val ci: 0.7209975914004982\n",
      "Epoch: 37\n"
     ]
    },
    {
     "name": "stderr",
     "output_type": "stream",
     "text": [
      "100%|██████████| 646/646 [02:33<00:00,  4.22it/s]\n",
      "  0%|          | 0/162 [00:00<?, ?it/s]"
     ]
    },
    {
     "name": "stdout",
     "output_type": "stream",
     "text": [
      "Average loss 0.06723762008912239\n"
     ]
    },
    {
     "name": "stderr",
     "output_type": "stream",
     "text": [
      "100%|██████████| 162/162 [00:14<00:00, 11.46it/s]\n",
      "  0%|          | 0/646 [00:00<?, ?it/s]"
     ]
    },
    {
     "name": "stdout",
     "output_type": "stream",
     "text": [
      "EarlyStopping counter: 8 out of 25\n",
      "val mse: 1.5677277\n",
      "val pearson 0.6432947720039331\n",
      "val AUPR 0.6511515635274733\n",
      "val ci: 0.7253447416475776\n",
      "Epoch: 38\n"
     ]
    },
    {
     "name": "stderr",
     "output_type": "stream",
     "text": [
      "100%|██████████| 646/646 [02:31<00:00,  4.25it/s]\n",
      "  0%|          | 0/162 [00:00<?, ?it/s]"
     ]
    },
    {
     "name": "stdout",
     "output_type": "stream",
     "text": [
      "Average loss 0.05949870622702427\n"
     ]
    },
    {
     "name": "stderr",
     "output_type": "stream",
     "text": [
      "100%|██████████| 162/162 [00:14<00:00, 11.37it/s]\n",
      "  0%|          | 0/646 [00:00<?, ?it/s]"
     ]
    },
    {
     "name": "stdout",
     "output_type": "stream",
     "text": [
      "EarlyStopping counter: 9 out of 25\n",
      "val mse: 1.5397826\n",
      "val pearson 0.6427807969684272\n",
      "val AUPR 0.6475805885270424\n",
      "val ci: 0.7242824934528328\n",
      "Epoch: 39\n"
     ]
    },
    {
     "name": "stderr",
     "output_type": "stream",
     "text": [
      "100%|██████████| 646/646 [02:31<00:00,  4.27it/s]\n",
      "  0%|          | 0/162 [00:00<?, ?it/s]"
     ]
    },
    {
     "name": "stdout",
     "output_type": "stream",
     "text": [
      "Average loss 0.06367389117324315\n"
     ]
    },
    {
     "name": "stderr",
     "output_type": "stream",
     "text": [
      "100%|██████████| 162/162 [00:14<00:00, 11.18it/s]\n",
      "  0%|          | 0/646 [00:00<?, ?it/s]"
     ]
    },
    {
     "name": "stdout",
     "output_type": "stream",
     "text": [
      "EarlyStopping counter: 10 out of 25\n",
      "val mse: 1.5386115\n",
      "val pearson 0.6383326284832151\n",
      "val AUPR 0.6405217886089951\n",
      "val ci: 0.7227428354539979\n",
      "Epoch: 40\n"
     ]
    },
    {
     "name": "stderr",
     "output_type": "stream",
     "text": [
      "100%|██████████| 646/646 [02:31<00:00,  4.25it/s]\n",
      "  0%|          | 0/162 [00:00<?, ?it/s]"
     ]
    },
    {
     "name": "stdout",
     "output_type": "stream",
     "text": [
      "Average loss 0.06866702841646716\n"
     ]
    },
    {
     "name": "stderr",
     "output_type": "stream",
     "text": [
      "100%|██████████| 162/162 [00:15<00:00, 10.36it/s]\n",
      "  0%|          | 0/646 [00:00<?, ?it/s]"
     ]
    },
    {
     "name": "stdout",
     "output_type": "stream",
     "text": [
      "EarlyStopping counter: 11 out of 25\n",
      "val mse: 1.542644\n",
      "val pearson 0.6412277718936693\n",
      "val AUPR 0.6384142920805547\n",
      "val ci: 0.7242027069253687\n",
      "Epoch: 41\n"
     ]
    },
    {
     "name": "stderr",
     "output_type": "stream",
     "text": [
      "100%|██████████| 646/646 [02:27<00:00,  4.37it/s]\n",
      "  0%|          | 0/162 [00:00<?, ?it/s]"
     ]
    },
    {
     "name": "stdout",
     "output_type": "stream",
     "text": [
      "Average loss 0.06605245527053027\n"
     ]
    },
    {
     "name": "stderr",
     "output_type": "stream",
     "text": [
      "100%|██████████| 162/162 [00:16<00:00,  9.58it/s]\n",
      "  0%|          | 0/646 [00:00<?, ?it/s]"
     ]
    },
    {
     "name": "stdout",
     "output_type": "stream",
     "text": [
      "EarlyStopping counter: 12 out of 25\n",
      "val mse: 1.6014203\n",
      "val pearson 0.6332289720746827\n",
      "val AUPR 0.6424333610449904\n",
      "val ci: 0.7199487137025915\n",
      "Epoch: 42\n"
     ]
    },
    {
     "name": "stderr",
     "output_type": "stream",
     "text": [
      "100%|██████████| 646/646 [02:28<00:00,  4.36it/s]\n",
      "  0%|          | 0/162 [00:00<?, ?it/s]"
     ]
    },
    {
     "name": "stdout",
     "output_type": "stream",
     "text": [
      "Average loss 0.07423796365181728\n"
     ]
    },
    {
     "name": "stderr",
     "output_type": "stream",
     "text": [
      "100%|██████████| 162/162 [00:13<00:00, 11.62it/s]\n",
      "  0%|          | 0/646 [00:00<?, ?it/s]"
     ]
    },
    {
     "name": "stdout",
     "output_type": "stream",
     "text": [
      "EarlyStopping counter: 13 out of 25\n",
      "val mse: 1.5460507\n",
      "val pearson 0.6456268719455356\n",
      "val AUPR 0.6460181264466367\n",
      "val ci: 0.726039099378163\n",
      "Epoch: 43\n"
     ]
    },
    {
     "name": "stderr",
     "output_type": "stream",
     "text": [
      "100%|██████████| 646/646 [02:31<00:00,  4.27it/s]\n",
      "  0%|          | 0/162 [00:00<?, ?it/s]"
     ]
    },
    {
     "name": "stdout",
     "output_type": "stream",
     "text": [
      "Average loss 0.10866745366735078\n"
     ]
    },
    {
     "name": "stderr",
     "output_type": "stream",
     "text": [
      "100%|██████████| 162/162 [00:15<00:00, 10.39it/s]\n",
      "  0%|          | 0/646 [00:00<?, ?it/s]"
     ]
    },
    {
     "name": "stdout",
     "output_type": "stream",
     "text": [
      "EarlyStopping counter: 14 out of 25\n",
      "val mse: 1.5563132\n",
      "val pearson 0.6409700961349664\n",
      "val AUPR 0.6501105163351114\n",
      "val ci: 0.7240641399581371\n",
      "Epoch: 44\n"
     ]
    },
    {
     "name": "stderr",
     "output_type": "stream",
     "text": [
      "100%|██████████| 646/646 [02:31<00:00,  4.25it/s]\n",
      "  0%|          | 0/162 [00:00<?, ?it/s]"
     ]
    },
    {
     "name": "stdout",
     "output_type": "stream",
     "text": [
      "Average loss 0.05485927888218187\n"
     ]
    },
    {
     "name": "stderr",
     "output_type": "stream",
     "text": [
      "100%|██████████| 162/162 [00:13<00:00, 11.63it/s]\n",
      "  0%|          | 0/646 [00:00<?, ?it/s]"
     ]
    },
    {
     "name": "stdout",
     "output_type": "stream",
     "text": [
      "EarlyStopping counter: 15 out of 25\n",
      "val mse: 1.5378033\n",
      "val pearson 0.6422241664541793\n",
      "val AUPR 0.6461326799204059\n",
      "val ci: 0.7242922901927941\n",
      "Epoch: 45\n"
     ]
    },
    {
     "name": "stderr",
     "output_type": "stream",
     "text": [
      "100%|██████████| 646/646 [02:34<00:00,  4.19it/s]\n",
      "  0%|          | 0/162 [00:00<?, ?it/s]"
     ]
    },
    {
     "name": "stdout",
     "output_type": "stream",
     "text": [
      "Average loss 0.03347258896627478\n"
     ]
    },
    {
     "name": "stderr",
     "output_type": "stream",
     "text": [
      "100%|██████████| 162/162 [00:14<00:00, 11.35it/s]\n",
      "  0%|          | 0/646 [00:00<?, ?it/s]"
     ]
    },
    {
     "name": "stdout",
     "output_type": "stream",
     "text": [
      "EarlyStopping counter: 16 out of 25\n",
      "val mse: 1.5076492\n",
      "val pearson 0.6488306673428221\n",
      "val AUPR 0.6432521056427516\n",
      "val ci: 0.7266878758695275\n",
      "Epoch: 46\n"
     ]
    },
    {
     "name": "stderr",
     "output_type": "stream",
     "text": [
      "100%|██████████| 646/646 [02:32<00:00,  4.24it/s]\n",
      "  0%|          | 0/162 [00:00<?, ?it/s]"
     ]
    },
    {
     "name": "stdout",
     "output_type": "stream",
     "text": [
      "Average loss 0.029117126326327538\n"
     ]
    },
    {
     "name": "stderr",
     "output_type": "stream",
     "text": [
      "100%|██████████| 162/162 [00:14<00:00, 11.32it/s]\n",
      "  0%|          | 0/646 [00:00<?, ?it/s]"
     ]
    },
    {
     "name": "stdout",
     "output_type": "stream",
     "text": [
      "EarlyStopping counter: 17 out of 25\n",
      "val mse: 1.5016239\n",
      "val pearson 0.644648813456118\n",
      "val AUPR 0.6391651950226778\n",
      "val ci: 0.7249860777179159\n",
      "Epoch: 47\n"
     ]
    },
    {
     "name": "stderr",
     "output_type": "stream",
     "text": [
      "100%|██████████| 646/646 [02:31<00:00,  4.27it/s]\n",
      "  0%|          | 0/162 [00:00<?, ?it/s]"
     ]
    },
    {
     "name": "stdout",
     "output_type": "stream",
     "text": [
      "Average loss 0.03813720346592805\n"
     ]
    },
    {
     "name": "stderr",
     "output_type": "stream",
     "text": [
      "100%|██████████| 162/162 [00:14<00:00, 11.28it/s]\n",
      "  0%|          | 0/646 [00:00<?, ?it/s]"
     ]
    },
    {
     "name": "stdout",
     "output_type": "stream",
     "text": [
      "EarlyStopping counter: 18 out of 25\n",
      "val mse: 1.5531877\n",
      "val pearson 0.6404006792257003\n",
      "val AUPR 0.644845518510201\n",
      "val ci: 0.7236916174545327\n",
      "Epoch: 48\n"
     ]
    },
    {
     "name": "stderr",
     "output_type": "stream",
     "text": [
      "100%|██████████| 646/646 [02:32<00:00,  4.25it/s]\n",
      "  0%|          | 0/162 [00:00<?, ?it/s]"
     ]
    },
    {
     "name": "stdout",
     "output_type": "stream",
     "text": [
      "Average loss 0.05316365347604264\n"
     ]
    },
    {
     "name": "stderr",
     "output_type": "stream",
     "text": [
      "100%|██████████| 162/162 [00:14<00:00, 10.82it/s]\n",
      "  0%|          | 0/646 [00:00<?, ?it/s]"
     ]
    },
    {
     "name": "stdout",
     "output_type": "stream",
     "text": [
      "EarlyStopping counter: 19 out of 25\n",
      "val mse: 1.5446738\n",
      "val pearson 0.6388373644196428\n",
      "val AUPR 0.6366678912086371\n",
      "val ci: 0.7220669871089966\n",
      "Epoch: 49\n"
     ]
    },
    {
     "name": "stderr",
     "output_type": "stream",
     "text": [
      "100%|██████████| 646/646 [02:29<00:00,  4.32it/s]\n",
      "  0%|          | 0/162 [00:00<?, ?it/s]"
     ]
    },
    {
     "name": "stdout",
     "output_type": "stream",
     "text": [
      "Average loss 0.07449459198331777\n"
     ]
    },
    {
     "name": "stderr",
     "output_type": "stream",
     "text": [
      "100%|██████████| 162/162 [00:16<00:00, 10.08it/s]\n",
      "  0%|          | 0/646 [00:00<?, ?it/s]"
     ]
    },
    {
     "name": "stdout",
     "output_type": "stream",
     "text": [
      "EarlyStopping counter: 20 out of 25\n",
      "val mse: 1.652693\n",
      "val pearson 0.6276717950412637\n",
      "val AUPR 0.644933218439468\n",
      "val ci: 0.7187514277135258\n",
      "Epoch: 50\n"
     ]
    },
    {
     "name": "stderr",
     "output_type": "stream",
     "text": [
      "100%|██████████| 646/646 [02:27<00:00,  4.39it/s]\n",
      "  0%|          | 0/162 [00:00<?, ?it/s]"
     ]
    },
    {
     "name": "stdout",
     "output_type": "stream",
     "text": [
      "Average loss 0.06273673476518676\n"
     ]
    },
    {
     "name": "stderr",
     "output_type": "stream",
     "text": [
      "100%|██████████| 162/162 [00:15<00:00, 10.80it/s]\n",
      "  0%|          | 0/646 [00:00<?, ?it/s]"
     ]
    },
    {
     "name": "stdout",
     "output_type": "stream",
     "text": [
      "EarlyStopping counter: 21 out of 25\n",
      "val mse: 1.5477287\n",
      "val pearson 0.635937621692688\n",
      "val AUPR 0.6286372692094033\n",
      "val ci: 0.7210921610325745\n",
      "Epoch: 51\n"
     ]
    },
    {
     "name": "stderr",
     "output_type": "stream",
     "text": [
      "100%|██████████| 646/646 [02:30<00:00,  4.31it/s]\n",
      "  0%|          | 0/162 [00:00<?, ?it/s]"
     ]
    },
    {
     "name": "stdout",
     "output_type": "stream",
     "text": [
      "Average loss 0.03457016640864659\n"
     ]
    },
    {
     "name": "stderr",
     "output_type": "stream",
     "text": [
      "100%|██████████| 162/162 [00:15<00:00, 10.46it/s]\n",
      "  0%|          | 0/646 [00:00<?, ?it/s]"
     ]
    },
    {
     "name": "stdout",
     "output_type": "stream",
     "text": [
      "EarlyStopping counter: 22 out of 25\n",
      "val mse: 1.5587486\n",
      "val pearson 0.6390213574490557\n",
      "val AUPR 0.6443965603703694\n",
      "val ci: 0.7228223849824832\n",
      "Epoch: 52\n"
     ]
    },
    {
     "name": "stderr",
     "output_type": "stream",
     "text": [
      "100%|██████████| 646/646 [02:31<00:00,  4.28it/s]\n",
      "  0%|          | 0/162 [00:00<?, ?it/s]"
     ]
    },
    {
     "name": "stdout",
     "output_type": "stream",
     "text": [
      "Average loss 0.027828688485311465\n"
     ]
    },
    {
     "name": "stderr",
     "output_type": "stream",
     "text": [
      "100%|██████████| 162/162 [00:13<00:00, 11.83it/s]\n",
      "  0%|          | 0/646 [00:00<?, ?it/s]"
     ]
    },
    {
     "name": "stdout",
     "output_type": "stream",
     "text": [
      "EarlyStopping counter: 23 out of 25\n",
      "val mse: 1.554913\n",
      "val pearson 0.6385987343785483\n",
      "val AUPR 0.6393728762130443\n",
      "val ci: 0.7228616094867208\n",
      "Epoch: 53\n"
     ]
    },
    {
     "name": "stderr",
     "output_type": "stream",
     "text": [
      "100%|██████████| 646/646 [02:32<00:00,  4.25it/s]\n",
      "  0%|          | 0/162 [00:00<?, ?it/s]"
     ]
    },
    {
     "name": "stdout",
     "output_type": "stream",
     "text": [
      "Average loss 0.034555531464424846\n"
     ]
    },
    {
     "name": "stderr",
     "output_type": "stream",
     "text": [
      "100%|██████████| 162/162 [00:14<00:00, 11.22it/s]\n",
      "  0%|          | 0/646 [00:00<?, ?it/s]"
     ]
    },
    {
     "name": "stdout",
     "output_type": "stream",
     "text": [
      "EarlyStopping counter: 24 out of 25\n",
      "val mse: 1.5257157\n",
      "val pearson 0.636495384903804\n",
      "val AUPR 0.6343891812511797\n",
      "val ci: 0.7237740508616797\n",
      "Epoch: 54\n"
     ]
    },
    {
     "name": "stderr",
     "output_type": "stream",
     "text": [
      "100%|██████████| 646/646 [02:31<00:00,  4.26it/s]\n",
      "  0%|          | 0/162 [00:00<?, ?it/s]"
     ]
    },
    {
     "name": "stdout",
     "output_type": "stream",
     "text": [
      "Average loss 0.04726517087442587\n"
     ]
    },
    {
     "name": "stderr",
     "output_type": "stream",
     "text": [
      "100%|██████████| 162/162 [00:14<00:00, 11.42it/s]\n",
      "  0%|          | 0/202 [00:00<?, ?it/s]"
     ]
    },
    {
     "name": "stdout",
     "output_type": "stream",
     "text": [
      "EarlyStopping counter: 25 out of 25\n",
      "Early stopping\n"
     ]
    },
    {
     "name": "stderr",
     "output_type": "stream",
     "text": [
      "100%|██████████| 202/202 [00:17<00:00, 11.56it/s]\n"
     ]
    },
    {
     "name": "stdout",
     "output_type": "stream",
     "text": [
      "-------------------test results---------------------------------\n",
      "val mse: 0.82455355\n",
      "val pearson 0.816160036721742\n",
      "val AUPR 0.7793534179290946\n",
      "val ci: 0.8116678868865632\n",
      "-------------------test results---------------------------------\n"
     ]
    },
    {
     "name": "stderr",
     "output_type": "stream",
     "text": [
      "100%|██████████| 646/646 [02:31<00:00,  4.28it/s]\n",
      "  0%|          | 0/162 [00:00<?, ?it/s]"
     ]
    },
    {
     "name": "stdout",
     "output_type": "stream",
     "text": [
      "Average loss 2.402187341876074\n"
     ]
    },
    {
     "name": "stderr",
     "output_type": "stream",
     "text": [
      "100%|██████████| 162/162 [00:13<00:00, 11.66it/s]\n"
     ]
    },
    {
     "name": "stdout",
     "output_type": "stream",
     "text": [
      "Validation loss decreased (inf --> 0.695123).  Saving model ...\n"
     ]
    },
    {
     "name": "stderr",
     "output_type": "stream",
     "text": [
      "\r",
      "  0%|          | 0/646 [00:00<?, ?it/s]"
     ]
    },
    {
     "name": "stdout",
     "output_type": "stream",
     "text": [
      "val mse: 1.937279\n",
      "val pearson 0.5908650186220142\n",
      "val AUPR 0.6029532953688281\n",
      "val ci: 0.6951233203585825\n",
      "Epoch: 2\n"
     ]
    },
    {
     "name": "stderr",
     "output_type": "stream",
     "text": [
      "100%|██████████| 646/646 [02:32<00:00,  4.23it/s]\n",
      "  0%|          | 0/162 [00:00<?, ?it/s]"
     ]
    },
    {
     "name": "stdout",
     "output_type": "stream",
     "text": [
      "Average loss 1.364151691412409\n"
     ]
    },
    {
     "name": "stderr",
     "output_type": "stream",
     "text": [
      "100%|██████████| 162/162 [00:14<00:00, 11.40it/s]\n"
     ]
    },
    {
     "name": "stdout",
     "output_type": "stream",
     "text": [
      "Validation loss decreased (0.695123 --> 0.700289).  Saving model ...\n"
     ]
    },
    {
     "name": "stderr",
     "output_type": "stream",
     "text": [
      "\r",
      "  0%|          | 0/646 [00:00<?, ?it/s]"
     ]
    },
    {
     "name": "stdout",
     "output_type": "stream",
     "text": [
      "val mse: 1.6366539\n",
      "val pearson 0.6082460779964916\n",
      "val AUPR 0.5367125780709173\n",
      "val ci: 0.7002894469763944\n",
      "Epoch: 3\n"
     ]
    },
    {
     "name": "stderr",
     "output_type": "stream",
     "text": [
      "100%|██████████| 646/646 [02:32<00:00,  4.23it/s]\n",
      "  0%|          | 0/162 [00:00<?, ?it/s]"
     ]
    },
    {
     "name": "stdout",
     "output_type": "stream",
     "text": [
      "Average loss 1.1737961367741458\n"
     ]
    },
    {
     "name": "stderr",
     "output_type": "stream",
     "text": [
      "100%|██████████| 162/162 [00:14<00:00, 11.44it/s]\n"
     ]
    },
    {
     "name": "stdout",
     "output_type": "stream",
     "text": [
      "Validation loss decreased (0.700289 --> 0.702723).  Saving model ...\n"
     ]
    },
    {
     "name": "stderr",
     "output_type": "stream",
     "text": [
      "\r",
      "  0%|          | 0/646 [00:00<?, ?it/s]"
     ]
    },
    {
     "name": "stdout",
     "output_type": "stream",
     "text": [
      "val mse: 1.7173892\n",
      "val pearson 0.5999733596989226\n",
      "val AUPR 0.6026497194820543\n",
      "val ci: 0.702722675003095\n",
      "Epoch: 4\n"
     ]
    },
    {
     "name": "stderr",
     "output_type": "stream",
     "text": [
      "100%|██████████| 646/646 [02:32<00:00,  4.25it/s]\n",
      "  0%|          | 0/162 [00:00<?, ?it/s]"
     ]
    },
    {
     "name": "stdout",
     "output_type": "stream",
     "text": [
      "Average loss 1.0273047875693708\n"
     ]
    },
    {
     "name": "stderr",
     "output_type": "stream",
     "text": [
      "100%|██████████| 162/162 [00:14<00:00, 11.44it/s]\n"
     ]
    },
    {
     "name": "stdout",
     "output_type": "stream",
     "text": [
      "Validation loss decreased (0.702723 --> 0.713337).  Saving model ...\n"
     ]
    },
    {
     "name": "stderr",
     "output_type": "stream",
     "text": [
      "\r",
      "  0%|          | 0/646 [00:00<?, ?it/s]"
     ]
    },
    {
     "name": "stdout",
     "output_type": "stream",
     "text": [
      "val mse: 1.555685\n",
      "val pearson 0.6335821763899718\n",
      "val AUPR 0.6060328930284188\n",
      "val ci: 0.713337190311164\n",
      "Epoch: 5\n"
     ]
    },
    {
     "name": "stderr",
     "output_type": "stream",
     "text": [
      "100%|██████████| 646/646 [02:32<00:00,  4.25it/s]\n",
      "  0%|          | 0/162 [00:00<?, ?it/s]"
     ]
    },
    {
     "name": "stdout",
     "output_type": "stream",
     "text": [
      "Average loss 0.8963484244634492\n"
     ]
    },
    {
     "name": "stderr",
     "output_type": "stream",
     "text": [
      "100%|██████████| 162/162 [00:14<00:00, 11.30it/s]\n",
      "  0%|          | 0/646 [00:00<?, ?it/s]"
     ]
    },
    {
     "name": "stdout",
     "output_type": "stream",
     "text": [
      "EarlyStopping counter: 1 out of 25\n",
      "val mse: 1.7119403\n",
      "val pearson 0.6313406521492906\n",
      "val AUPR 0.5794309843492872\n",
      "val ci: 0.7120741161089864\n",
      "Epoch: 6\n"
     ]
    },
    {
     "name": "stderr",
     "output_type": "stream",
     "text": [
      "100%|██████████| 646/646 [02:30<00:00,  4.30it/s]\n",
      "  0%|          | 0/162 [00:00<?, ?it/s]"
     ]
    },
    {
     "name": "stdout",
     "output_type": "stream",
     "text": [
      "Average loss 0.7703525486745333\n"
     ]
    },
    {
     "name": "stderr",
     "output_type": "stream",
     "text": [
      "100%|██████████| 162/162 [00:16<00:00,  9.93it/s]\n"
     ]
    },
    {
     "name": "stdout",
     "output_type": "stream",
     "text": [
      "Validation loss decreased (0.713337 --> 0.714838).  Saving model ...\n"
     ]
    },
    {
     "name": "stderr",
     "output_type": "stream",
     "text": [
      "\r",
      "  0%|          | 0/646 [00:00<?, ?it/s]"
     ]
    },
    {
     "name": "stdout",
     "output_type": "stream",
     "text": [
      "val mse: 1.538302\n",
      "val pearson 0.6391862882394724\n",
      "val AUPR 0.5810690172573688\n",
      "val ci: 0.7148379764269449\n",
      "Epoch: 7\n"
     ]
    },
    {
     "name": "stderr",
     "output_type": "stream",
     "text": [
      "100%|██████████| 646/646 [02:27<00:00,  4.37it/s]\n",
      "  0%|          | 0/162 [00:00<?, ?it/s]"
     ]
    },
    {
     "name": "stdout",
     "output_type": "stream",
     "text": [
      "Average loss 0.6686054696977692\n"
     ]
    },
    {
     "name": "stderr",
     "output_type": "stream",
     "text": [
      "100%|██████████| 162/162 [00:17<00:00,  9.33it/s]\n"
     ]
    },
    {
     "name": "stdout",
     "output_type": "stream",
     "text": [
      "Validation loss decreased (0.714838 --> 0.717198).  Saving model ...\n"
     ]
    },
    {
     "name": "stderr",
     "output_type": "stream",
     "text": [
      "\r",
      "  0%|          | 0/646 [00:00<?, ?it/s]"
     ]
    },
    {
     "name": "stdout",
     "output_type": "stream",
     "text": [
      "val mse: 1.5334721\n",
      "val pearson 0.6373592294937489\n",
      "val AUPR 0.6070002440692908\n",
      "val ci: 0.7171983558161539\n",
      "Epoch: 8\n"
     ]
    },
    {
     "name": "stderr",
     "output_type": "stream",
     "text": [
      "100%|██████████| 646/646 [02:29<00:00,  4.31it/s]\n",
      "  0%|          | 0/162 [00:00<?, ?it/s]"
     ]
    },
    {
     "name": "stdout",
     "output_type": "stream",
     "text": [
      "Average loss 0.5941902928215801\n"
     ]
    },
    {
     "name": "stderr",
     "output_type": "stream",
     "text": [
      "100%|██████████| 162/162 [00:14<00:00, 11.42it/s]\n"
     ]
    },
    {
     "name": "stdout",
     "output_type": "stream",
     "text": [
      "Validation loss decreased (0.717198 --> 0.722753).  Saving model ...\n"
     ]
    },
    {
     "name": "stderr",
     "output_type": "stream",
     "text": [
      "\r",
      "  0%|          | 0/646 [00:00<?, ?it/s]"
     ]
    },
    {
     "name": "stdout",
     "output_type": "stream",
     "text": [
      "val mse: 1.4945567\n",
      "val pearson 0.6478971631037318\n",
      "val AUPR 0.6306542998818072\n",
      "val ci: 0.7227528661478205\n",
      "Epoch: 9\n"
     ]
    },
    {
     "name": "stderr",
     "output_type": "stream",
     "text": [
      "100%|██████████| 646/646 [02:30<00:00,  4.28it/s]\n",
      "  0%|          | 0/162 [00:00<?, ?it/s]"
     ]
    },
    {
     "name": "stdout",
     "output_type": "stream",
     "text": [
      "Average loss 0.5198866628087342\n"
     ]
    },
    {
     "name": "stderr",
     "output_type": "stream",
     "text": [
      "100%|██████████| 162/162 [00:14<00:00, 11.11it/s]\n"
     ]
    },
    {
     "name": "stdout",
     "output_type": "stream",
     "text": [
      "Validation loss decreased (0.722753 --> 0.726627).  Saving model ...\n"
     ]
    },
    {
     "name": "stderr",
     "output_type": "stream",
     "text": [
      "\r",
      "  0%|          | 0/646 [00:00<?, ?it/s]"
     ]
    },
    {
     "name": "stdout",
     "output_type": "stream",
     "text": [
      "val mse: 1.4748287\n",
      "val pearson 0.6590901982608229\n",
      "val AUPR 0.630446724870187\n",
      "val ci: 0.7266265946755872\n",
      "Epoch: 10\n"
     ]
    },
    {
     "name": "stderr",
     "output_type": "stream",
     "text": [
      "100%|██████████| 646/646 [02:30<00:00,  4.30it/s]\n",
      "  0%|          | 0/162 [00:00<?, ?it/s]"
     ]
    },
    {
     "name": "stdout",
     "output_type": "stream",
     "text": [
      "Average loss 0.46666572060747413\n"
     ]
    },
    {
     "name": "stderr",
     "output_type": "stream",
     "text": [
      "100%|██████████| 162/162 [00:14<00:00, 11.44it/s]\n",
      "  0%|          | 0/646 [00:00<?, ?it/s]"
     ]
    },
    {
     "name": "stdout",
     "output_type": "stream",
     "text": [
      "EarlyStopping counter: 1 out of 25\n",
      "val mse: 1.5384777\n",
      "val pearson 0.6350288020458832\n",
      "val AUPR 0.6300788369692574\n",
      "val ci: 0.7181506137015508\n",
      "Epoch: 11\n"
     ]
    },
    {
     "name": "stderr",
     "output_type": "stream",
     "text": [
      "100%|██████████| 646/646 [02:32<00:00,  4.24it/s]\n",
      "  0%|          | 0/162 [00:00<?, ?it/s]"
     ]
    },
    {
     "name": "stdout",
     "output_type": "stream",
     "text": [
      "Average loss 0.4161291313199067\n"
     ]
    },
    {
     "name": "stderr",
     "output_type": "stream",
     "text": [
      "100%|██████████| 162/162 [00:13<00:00, 11.58it/s]\n",
      "  0%|          | 0/646 [00:00<?, ?it/s]"
     ]
    },
    {
     "name": "stdout",
     "output_type": "stream",
     "text": [
      "EarlyStopping counter: 2 out of 25\n",
      "val mse: 1.5200443\n",
      "val pearson 0.6397418691859244\n",
      "val AUPR 0.6247696614453094\n",
      "val ci: 0.7209840235142994\n",
      "Epoch: 12\n"
     ]
    },
    {
     "name": "stderr",
     "output_type": "stream",
     "text": [
      "100%|██████████| 646/646 [02:31<00:00,  4.25it/s]\n",
      "  0%|          | 0/162 [00:00<?, ?it/s]"
     ]
    },
    {
     "name": "stdout",
     "output_type": "stream",
     "text": [
      "Average loss 0.3656596843810642\n"
     ]
    },
    {
     "name": "stderr",
     "output_type": "stream",
     "text": [
      "100%|██████████| 162/162 [00:14<00:00, 11.24it/s]\n",
      "  0%|          | 0/646 [00:00<?, ?it/s]"
     ]
    },
    {
     "name": "stdout",
     "output_type": "stream",
     "text": [
      "EarlyStopping counter: 3 out of 25\n",
      "val mse: 1.7354695\n",
      "val pearson 0.6363134536668047\n",
      "val AUPR 0.6483429209468193\n",
      "val ci: 0.7199249752423509\n",
      "Epoch: 13\n"
     ]
    },
    {
     "name": "stderr",
     "output_type": "stream",
     "text": [
      "100%|██████████| 646/646 [02:32<00:00,  4.24it/s]\n",
      "  0%|          | 0/162 [00:00<?, ?it/s]"
     ]
    },
    {
     "name": "stdout",
     "output_type": "stream",
     "text": [
      "Average loss 0.33483263898652404\n"
     ]
    },
    {
     "name": "stderr",
     "output_type": "stream",
     "text": [
      "100%|██████████| 162/162 [00:14<00:00, 11.28it/s]\n",
      "  0%|          | 0/646 [00:00<?, ?it/s]"
     ]
    },
    {
     "name": "stdout",
     "output_type": "stream",
     "text": [
      "EarlyStopping counter: 4 out of 25\n",
      "val mse: 1.5111531\n",
      "val pearson 0.6437310601108656\n",
      "val AUPR 0.6367581320022337\n",
      "val ci: 0.7228409715604514\n",
      "Epoch: 14\n"
     ]
    },
    {
     "name": "stderr",
     "output_type": "stream",
     "text": [
      "100%|██████████| 646/646 [02:32<00:00,  4.25it/s]\n",
      "  0%|          | 0/162 [00:00<?, ?it/s]"
     ]
    },
    {
     "name": "stdout",
     "output_type": "stream",
     "text": [
      "Average loss 0.3019483348025995\n"
     ]
    },
    {
     "name": "stderr",
     "output_type": "stream",
     "text": [
      "100%|██████████| 162/162 [00:15<00:00, 10.66it/s]\n",
      "  0%|          | 0/646 [00:00<?, ?it/s]"
     ]
    },
    {
     "name": "stdout",
     "output_type": "stream",
     "text": [
      "EarlyStopping counter: 5 out of 25\n",
      "val mse: 1.6094556\n",
      "val pearson 0.6247067869608263\n",
      "val AUPR 0.6333158235845326\n",
      "val ci: 0.7164461700519875\n",
      "Epoch: 15\n"
     ]
    },
    {
     "name": "stderr",
     "output_type": "stream",
     "text": [
      "100%|██████████| 646/646 [02:29<00:00,  4.33it/s]\n",
      "  0%|          | 0/162 [00:00<?, ?it/s]"
     ]
    },
    {
     "name": "stdout",
     "output_type": "stream",
     "text": [
      "Average loss 0.2681405379814629\n"
     ]
    },
    {
     "name": "stderr",
     "output_type": "stream",
     "text": [
      "100%|██████████| 162/162 [00:16<00:00, 10.10it/s]\n",
      "  0%|          | 0/646 [00:00<?, ?it/s]"
     ]
    },
    {
     "name": "stdout",
     "output_type": "stream",
     "text": [
      "EarlyStopping counter: 6 out of 25\n",
      "val mse: 1.4952188\n",
      "val pearson 0.646438314393816\n",
      "val AUPR 0.6327947189217591\n",
      "val ci: 0.7229342931851914\n",
      "Epoch: 16\n"
     ]
    },
    {
     "name": "stderr",
     "output_type": "stream",
     "text": [
      "100%|██████████| 646/646 [02:27<00:00,  4.37it/s]\n",
      "  0%|          | 0/162 [00:00<?, ?it/s]"
     ]
    },
    {
     "name": "stdout",
     "output_type": "stream",
     "text": [
      "Average loss 0.24576964446173363\n"
     ]
    },
    {
     "name": "stderr",
     "output_type": "stream",
     "text": [
      "100%|██████████| 162/162 [00:15<00:00, 10.44it/s]\n",
      "  0%|          | 0/646 [00:00<?, ?it/s]"
     ]
    },
    {
     "name": "stdout",
     "output_type": "stream",
     "text": [
      "EarlyStopping counter: 7 out of 25\n",
      "val mse: 1.5103358\n",
      "val pearson 0.644755616453282\n",
      "val AUPR 0.6190057885550566\n",
      "val ci: 0.722245713296709\n",
      "Epoch: 17\n"
     ]
    },
    {
     "name": "stderr",
     "output_type": "stream",
     "text": [
      "100%|██████████| 646/646 [02:29<00:00,  4.33it/s]\n",
      "  0%|          | 0/162 [00:00<?, ?it/s]"
     ]
    },
    {
     "name": "stdout",
     "output_type": "stream",
     "text": [
      "Average loss 0.22424699564467274\n"
     ]
    },
    {
     "name": "stderr",
     "output_type": "stream",
     "text": [
      "100%|██████████| 162/162 [00:15<00:00, 10.50it/s]\n",
      "  0%|          | 0/646 [00:00<?, ?it/s]"
     ]
    },
    {
     "name": "stdout",
     "output_type": "stream",
     "text": [
      "EarlyStopping counter: 8 out of 25\n",
      "val mse: 1.5608912\n",
      "val pearson 0.6423542219434257\n",
      "val AUPR 0.6205054916480566\n",
      "val ci: 0.7213128959499199\n",
      "Epoch: 18\n"
     ]
    },
    {
     "name": "stderr",
     "output_type": "stream",
     "text": [
      "100%|██████████| 646/646 [02:32<00:00,  4.24it/s]\n",
      "  0%|          | 0/162 [00:00<?, ?it/s]"
     ]
    },
    {
     "name": "stdout",
     "output_type": "stream",
     "text": [
      "Average loss 0.20344829703493753\n"
     ]
    },
    {
     "name": "stderr",
     "output_type": "stream",
     "text": [
      "100%|██████████| 162/162 [00:13<00:00, 11.60it/s]\n",
      "  0%|          | 0/646 [00:00<?, ?it/s]"
     ]
    },
    {
     "name": "stdout",
     "output_type": "stream",
     "text": [
      "EarlyStopping counter: 9 out of 25\n",
      "val mse: 1.5418863\n",
      "val pearson 0.6390056225414369\n",
      "val AUPR 0.6288581348515724\n",
      "val ci: 0.7202576583520449\n",
      "Epoch: 19\n"
     ]
    },
    {
     "name": "stderr",
     "output_type": "stream",
     "text": [
      "100%|██████████| 646/646 [02:32<00:00,  4.22it/s]\n",
      "  0%|          | 0/162 [00:00<?, ?it/s]"
     ]
    },
    {
     "name": "stdout",
     "output_type": "stream",
     "text": [
      "Average loss 0.18856108694945695\n"
     ]
    },
    {
     "name": "stderr",
     "output_type": "stream",
     "text": [
      "100%|██████████| 162/162 [00:13<00:00, 11.58it/s]\n",
      "  0%|          | 0/646 [00:00<?, ?it/s]"
     ]
    },
    {
     "name": "stdout",
     "output_type": "stream",
     "text": [
      "EarlyStopping counter: 10 out of 25\n",
      "val mse: 1.6438919\n",
      "val pearson 0.6461154998991855\n",
      "val AUPR 0.6515599273819292\n",
      "val ci: 0.7245052201072564\n",
      "Epoch: 20\n"
     ]
    },
    {
     "name": "stderr",
     "output_type": "stream",
     "text": [
      "100%|██████████| 646/646 [02:31<00:00,  4.25it/s]\n",
      "  0%|          | 0/162 [00:00<?, ?it/s]"
     ]
    },
    {
     "name": "stdout",
     "output_type": "stream",
     "text": [
      "Average loss 0.17344751580396303\n"
     ]
    },
    {
     "name": "stderr",
     "output_type": "stream",
     "text": [
      "100%|██████████| 162/162 [00:14<00:00, 11.45it/s]\n",
      "  0%|          | 0/646 [00:00<?, ?it/s]"
     ]
    },
    {
     "name": "stdout",
     "output_type": "stream",
     "text": [
      "EarlyStopping counter: 11 out of 25\n",
      "val mse: 1.5308939\n",
      "val pearson 0.6443075616922765\n",
      "val AUPR 0.6347594765575714\n",
      "val ci: 0.72311897243578\n",
      "Epoch: 21\n"
     ]
    },
    {
     "name": "stderr",
     "output_type": "stream",
     "text": [
      "100%|██████████| 646/646 [02:32<00:00,  4.25it/s]\n",
      "  0%|          | 0/162 [00:00<?, ?it/s]"
     ]
    },
    {
     "name": "stdout",
     "output_type": "stream",
     "text": [
      "Average loss 0.16582303068632312\n"
     ]
    },
    {
     "name": "stderr",
     "output_type": "stream",
     "text": [
      "100%|██████████| 162/162 [00:14<00:00, 11.44it/s]\n",
      "  0%|          | 0/646 [00:00<?, ?it/s]"
     ]
    },
    {
     "name": "stdout",
     "output_type": "stream",
     "text": [
      "EarlyStopping counter: 12 out of 25\n",
      "val mse: 1.5570124\n",
      "val pearson 0.6320871920409022\n",
      "val AUPR 0.6226132815983388\n",
      "val ci: 0.7195533969765961\n",
      "Epoch: 22\n"
     ]
    },
    {
     "name": "stderr",
     "output_type": "stream",
     "text": [
      "100%|██████████| 646/646 [02:32<00:00,  4.24it/s]\n",
      "  0%|          | 0/162 [00:00<?, ?it/s]"
     ]
    },
    {
     "name": "stdout",
     "output_type": "stream",
     "text": [
      "Average loss 0.1501096710447372\n"
     ]
    },
    {
     "name": "stderr",
     "output_type": "stream",
     "text": [
      "100%|██████████| 162/162 [00:14<00:00, 11.22it/s]\n",
      "  0%|          | 0/646 [00:00<?, ?it/s]"
     ]
    },
    {
     "name": "stdout",
     "output_type": "stream",
     "text": [
      "EarlyStopping counter: 13 out of 25\n",
      "val mse: 1.4949976\n",
      "val pearson 0.6507376614983831\n",
      "val AUPR 0.6329503619151466\n",
      "val ci: 0.7257465729979202\n",
      "Epoch: 23\n"
     ]
    },
    {
     "name": "stderr",
     "output_type": "stream",
     "text": [
      "100%|██████████| 646/646 [02:30<00:00,  4.28it/s]\n",
      "  0%|          | 0/162 [00:00<?, ?it/s]"
     ]
    },
    {
     "name": "stdout",
     "output_type": "stream",
     "text": [
      "Average loss 0.14167295164506502\n"
     ]
    },
    {
     "name": "stderr",
     "output_type": "stream",
     "text": [
      "100%|██████████| 162/162 [00:15<00:00, 10.39it/s]\n"
     ]
    },
    {
     "name": "stdout",
     "output_type": "stream",
     "text": [
      "Validation loss decreased (0.726627 --> 0.727029).  Saving model ...\n"
     ]
    },
    {
     "name": "stderr",
     "output_type": "stream",
     "text": [
      "\r",
      "  0%|          | 0/646 [00:00<?, ?it/s]"
     ]
    },
    {
     "name": "stdout",
     "output_type": "stream",
     "text": [
      "val mse: 1.5115048\n",
      "val pearson 0.6541284858733996\n",
      "val AUPR 0.6483616144113874\n",
      "val ci: 0.7270288812489776\n",
      "Epoch: 24\n"
     ]
    },
    {
     "name": "stderr",
     "output_type": "stream",
     "text": [
      "100%|██████████| 646/646 [02:27<00:00,  4.39it/s]\n",
      "  0%|          | 0/162 [00:00<?, ?it/s]"
     ]
    },
    {
     "name": "stdout",
     "output_type": "stream",
     "text": [
      "Average loss 0.13616496055810814\n"
     ]
    },
    {
     "name": "stderr",
     "output_type": "stream",
     "text": [
      "100%|██████████| 162/162 [00:18<00:00,  8.78it/s]\n"
     ]
    },
    {
     "name": "stdout",
     "output_type": "stream",
     "text": [
      "Validation loss decreased (0.727029 --> 0.727365).  Saving model ...\n"
     ]
    },
    {
     "name": "stderr",
     "output_type": "stream",
     "text": [
      "\r",
      "  0%|          | 0/646 [00:00<?, ?it/s]"
     ]
    },
    {
     "name": "stdout",
     "output_type": "stream",
     "text": [
      "val mse: 1.6624411\n",
      "val pearson 0.6550006619556024\n",
      "val AUPR 0.6536147560936312\n",
      "val ci: 0.7273654618522898\n",
      "Epoch: 25\n"
     ]
    },
    {
     "name": "stderr",
     "output_type": "stream",
     "text": [
      "100%|██████████| 646/646 [02:29<00:00,  4.33it/s]\n",
      "  0%|          | 0/162 [00:00<?, ?it/s]"
     ]
    },
    {
     "name": "stdout",
     "output_type": "stream",
     "text": [
      "Average loss 0.1264751693205014\n"
     ]
    },
    {
     "name": "stderr",
     "output_type": "stream",
     "text": [
      "100%|██████████| 162/162 [00:13<00:00, 11.65it/s]\n",
      "  0%|          | 0/646 [00:00<?, ?it/s]"
     ]
    },
    {
     "name": "stdout",
     "output_type": "stream",
     "text": [
      "EarlyStopping counter: 1 out of 25\n",
      "val mse: 1.493349\n",
      "val pearson 0.6487558763739104\n",
      "val AUPR 0.6333305621379512\n",
      "val ci: 0.725331913466162\n",
      "Epoch: 26\n"
     ]
    },
    {
     "name": "stderr",
     "output_type": "stream",
     "text": [
      "100%|██████████| 646/646 [02:30<00:00,  4.30it/s]\n",
      "  0%|          | 0/162 [00:00<?, ?it/s]"
     ]
    },
    {
     "name": "stdout",
     "output_type": "stream",
     "text": [
      "Average loss 0.11629186424170117\n"
     ]
    },
    {
     "name": "stderr",
     "output_type": "stream",
     "text": [
      "100%|██████████| 162/162 [00:15<00:00, 10.50it/s]\n",
      "  0%|          | 0/646 [00:00<?, ?it/s]"
     ]
    },
    {
     "name": "stdout",
     "output_type": "stream",
     "text": [
      "EarlyStopping counter: 2 out of 25\n",
      "val mse: 1.5433549\n",
      "val pearson 0.6488580092908033\n",
      "val AUPR 0.6365931215243141\n",
      "val ci: 0.7245236540084397\n",
      "Epoch: 27\n"
     ]
    },
    {
     "name": "stderr",
     "output_type": "stream",
     "text": [
      "100%|██████████| 646/646 [02:31<00:00,  4.28it/s]\n",
      "  0%|          | 0/162 [00:00<?, ?it/s]"
     ]
    },
    {
     "name": "stdout",
     "output_type": "stream",
     "text": [
      "Average loss 0.11562707784928773\n"
     ]
    },
    {
     "name": "stderr",
     "output_type": "stream",
     "text": [
      "100%|██████████| 162/162 [00:13<00:00, 11.68it/s]\n",
      "  0%|          | 0/646 [00:00<?, ?it/s]"
     ]
    },
    {
     "name": "stdout",
     "output_type": "stream",
     "text": [
      "EarlyStopping counter: 3 out of 25\n",
      "val mse: 1.4850571\n",
      "val pearson 0.6520300451240021\n",
      "val AUPR 0.6375904959792631\n",
      "val ci: 0.7257879976531504\n",
      "Epoch: 28\n"
     ]
    },
    {
     "name": "stderr",
     "output_type": "stream",
     "text": [
      "100%|██████████| 646/646 [02:33<00:00,  4.22it/s]\n",
      "  0%|          | 0/162 [00:00<?, ?it/s]"
     ]
    },
    {
     "name": "stdout",
     "output_type": "stream",
     "text": [
      "Average loss 0.10555595646817065\n"
     ]
    },
    {
     "name": "stderr",
     "output_type": "stream",
     "text": [
      "100%|██████████| 162/162 [00:14<00:00, 11.40it/s]\n",
      "  0%|          | 0/646 [00:00<?, ?it/s]"
     ]
    },
    {
     "name": "stdout",
     "output_type": "stream",
     "text": [
      "EarlyStopping counter: 4 out of 25\n",
      "val mse: 1.5047772\n",
      "val pearson 0.648869075915923\n",
      "val AUPR 0.639323746054275\n",
      "val ci: 0.7254930505412707\n",
      "Epoch: 29\n"
     ]
    },
    {
     "name": "stderr",
     "output_type": "stream",
     "text": [
      "100%|██████████| 646/646 [02:32<00:00,  4.23it/s]\n",
      "  0%|          | 0/162 [00:00<?, ?it/s]"
     ]
    },
    {
     "name": "stdout",
     "output_type": "stream",
     "text": [
      "Average loss 0.09437945735966642\n"
     ]
    },
    {
     "name": "stderr",
     "output_type": "stream",
     "text": [
      "100%|██████████| 162/162 [00:14<00:00, 11.43it/s]\n",
      "  0%|          | 0/646 [00:00<?, ?it/s]"
     ]
    },
    {
     "name": "stdout",
     "output_type": "stream",
     "text": [
      "EarlyStopping counter: 5 out of 25\n",
      "val mse: 1.6036625\n",
      "val pearson 0.639945951007776\n",
      "val AUPR 0.6409153263548689\n",
      "val ci: 0.7224485378321563\n",
      "Epoch: 30\n"
     ]
    },
    {
     "name": "stderr",
     "output_type": "stream",
     "text": [
      "100%|██████████| 646/646 [02:32<00:00,  4.25it/s]\n",
      "  0%|          | 0/162 [00:00<?, ?it/s]"
     ]
    },
    {
     "name": "stdout",
     "output_type": "stream",
     "text": [
      "Average loss 0.09301650561622976\n"
     ]
    },
    {
     "name": "stderr",
     "output_type": "stream",
     "text": [
      "100%|██████████| 162/162 [00:14<00:00, 11.33it/s]\n",
      "  0%|          | 0/646 [00:00<?, ?it/s]"
     ]
    },
    {
     "name": "stdout",
     "output_type": "stream",
     "text": [
      "EarlyStopping counter: 6 out of 25\n",
      "val mse: 1.6075755\n",
      "val pearson 0.6426035204509455\n",
      "val AUPR 0.6442481288755232\n",
      "val ci: 0.7220280215008368\n",
      "Epoch: 31\n"
     ]
    },
    {
     "name": "stderr",
     "output_type": "stream",
     "text": [
      "100%|██████████| 646/646 [02:31<00:00,  4.25it/s]\n",
      "  0%|          | 0/162 [00:00<?, ?it/s]"
     ]
    },
    {
     "name": "stdout",
     "output_type": "stream",
     "text": [
      "Average loss 0.09285007078119845\n"
     ]
    },
    {
     "name": "stderr",
     "output_type": "stream",
     "text": [
      "100%|██████████| 162/162 [00:14<00:00, 10.98it/s]\n",
      "  0%|          | 0/646 [00:00<?, ?it/s]"
     ]
    },
    {
     "name": "stdout",
     "output_type": "stream",
     "text": [
      "EarlyStopping counter: 7 out of 25\n",
      "val mse: 1.5262117\n",
      "val pearson 0.6441828481717865\n",
      "val AUPR 0.6370561683534333\n",
      "val ci: 0.723099822859971\n",
      "Epoch: 32\n"
     ]
    },
    {
     "name": "stderr",
     "output_type": "stream",
     "text": [
      "100%|██████████| 646/646 [02:28<00:00,  4.34it/s]\n",
      "  0%|          | 0/162 [00:00<?, ?it/s]"
     ]
    },
    {
     "name": "stdout",
     "output_type": "stream",
     "text": [
      "Average loss 0.09021838783825699\n"
     ]
    },
    {
     "name": "stderr",
     "output_type": "stream",
     "text": [
      "100%|██████████| 162/162 [00:15<00:00, 10.20it/s]\n",
      "  0%|          | 0/646 [00:00<?, ?it/s]"
     ]
    },
    {
     "name": "stdout",
     "output_type": "stream",
     "text": [
      "EarlyStopping counter: 8 out of 25\n",
      "val mse: 1.630398\n",
      "val pearson 0.6437156451509688\n",
      "val AUPR 0.6499035932281952\n",
      "val ci: 0.7227082690594946\n",
      "Epoch: 33\n"
     ]
    },
    {
     "name": "stderr",
     "output_type": "stream",
     "text": [
      "100%|██████████| 646/646 [02:28<00:00,  4.36it/s]\n",
      "  0%|          | 0/162 [00:00<?, ?it/s]"
     ]
    },
    {
     "name": "stdout",
     "output_type": "stream",
     "text": [
      "Average loss 0.08561393222411166\n"
     ]
    },
    {
     "name": "stderr",
     "output_type": "stream",
     "text": [
      "100%|██████████| 162/162 [00:14<00:00, 11.24it/s]\n",
      "  0%|          | 0/646 [00:00<?, ?it/s]"
     ]
    },
    {
     "name": "stdout",
     "output_type": "stream",
     "text": [
      "EarlyStopping counter: 9 out of 25\n",
      "val mse: 1.5389415\n",
      "val pearson 0.6406720151869062\n",
      "val AUPR 0.6347893579498741\n",
      "val ci: 0.7224050811302835\n",
      "Epoch: 34\n"
     ]
    },
    {
     "name": "stderr",
     "output_type": "stream",
     "text": [
      "100%|██████████| 646/646 [02:30<00:00,  4.30it/s]\n",
      "  0%|          | 0/162 [00:00<?, ?it/s]"
     ]
    },
    {
     "name": "stdout",
     "output_type": "stream",
     "text": [
      "Average loss 0.08549629665057726\n"
     ]
    },
    {
     "name": "stderr",
     "output_type": "stream",
     "text": [
      "100%|██████████| 162/162 [00:14<00:00, 10.98it/s]\n",
      "  0%|          | 0/646 [00:00<?, ?it/s]"
     ]
    },
    {
     "name": "stdout",
     "output_type": "stream",
     "text": [
      "EarlyStopping counter: 10 out of 25\n",
      "val mse: 1.4961361\n",
      "val pearson 0.648512502317984\n",
      "val AUPR 0.6320859399674643\n",
      "val ci: 0.7247577617376975\n",
      "Epoch: 35\n"
     ]
    },
    {
     "name": "stderr",
     "output_type": "stream",
     "text": [
      "100%|██████████| 646/646 [02:31<00:00,  4.26it/s]\n",
      "  0%|          | 0/162 [00:00<?, ?it/s]"
     ]
    },
    {
     "name": "stdout",
     "output_type": "stream",
     "text": [
      "Average loss 0.07423462223942066\n"
     ]
    },
    {
     "name": "stderr",
     "output_type": "stream",
     "text": [
      "100%|██████████| 162/162 [00:13<00:00, 11.76it/s]\n",
      "  0%|          | 0/646 [00:00<?, ?it/s]"
     ]
    },
    {
     "name": "stdout",
     "output_type": "stream",
     "text": [
      "EarlyStopping counter: 11 out of 25\n",
      "val mse: 1.4876269\n",
      "val pearson 0.6475463747091404\n",
      "val AUPR 0.6387380114578992\n",
      "val ci: 0.7254404402436091\n",
      "Epoch: 36\n"
     ]
    },
    {
     "name": "stderr",
     "output_type": "stream",
     "text": [
      "100%|██████████| 646/646 [02:32<00:00,  4.24it/s]\n",
      "  0%|          | 0/162 [00:00<?, ?it/s]"
     ]
    },
    {
     "name": "stdout",
     "output_type": "stream",
     "text": [
      "Average loss 0.07067181278977416\n"
     ]
    },
    {
     "name": "stderr",
     "output_type": "stream",
     "text": [
      "100%|██████████| 162/162 [00:14<00:00, 11.44it/s]\n"
     ]
    },
    {
     "name": "stdout",
     "output_type": "stream",
     "text": [
      "Validation loss decreased (0.727365 --> 0.727675).  Saving model ...\n"
     ]
    },
    {
     "name": "stderr",
     "output_type": "stream",
     "text": [
      "\r",
      "  0%|          | 0/646 [00:00<?, ?it/s]"
     ]
    },
    {
     "name": "stdout",
     "output_type": "stream",
     "text": [
      "val mse: 1.5029057\n",
      "val pearson 0.6544976657458589\n",
      "val AUPR 0.6412119727117779\n",
      "val ci: 0.7276750110730117\n",
      "Epoch: 37\n"
     ]
    },
    {
     "name": "stderr",
     "output_type": "stream",
     "text": [
      "100%|██████████| 646/646 [02:32<00:00,  4.24it/s]\n",
      "  0%|          | 0/162 [00:00<?, ?it/s]"
     ]
    },
    {
     "name": "stdout",
     "output_type": "stream",
     "text": [
      "Average loss 0.06728261693643157\n"
     ]
    },
    {
     "name": "stderr",
     "output_type": "stream",
     "text": [
      "100%|██████████| 162/162 [00:14<00:00, 11.42it/s]\n",
      "  0%|          | 0/646 [00:00<?, ?it/s]"
     ]
    },
    {
     "name": "stdout",
     "output_type": "stream",
     "text": [
      "EarlyStopping counter: 1 out of 25\n",
      "val mse: 1.5093321\n",
      "val pearson 0.6436372396130932\n",
      "val AUPR 0.6335459172544667\n",
      "val ci: 0.7235048900052683\n",
      "Epoch: 38\n"
     ]
    },
    {
     "name": "stderr",
     "output_type": "stream",
     "text": [
      "100%|██████████| 646/646 [02:31<00:00,  4.26it/s]\n",
      "  0%|          | 0/162 [00:00<?, ?it/s]"
     ]
    },
    {
     "name": "stdout",
     "output_type": "stream",
     "text": [
      "Average loss 0.06570513558000234\n"
     ]
    },
    {
     "name": "stderr",
     "output_type": "stream",
     "text": [
      "100%|██████████| 162/162 [00:14<00:00, 11.40it/s]\n",
      "  0%|          | 0/646 [00:00<?, ?it/s]"
     ]
    },
    {
     "name": "stdout",
     "output_type": "stream",
     "text": [
      "EarlyStopping counter: 2 out of 25\n",
      "val mse: 1.5782716\n",
      "val pearson 0.6413956998160423\n",
      "val AUPR 0.6415358536665097\n",
      "val ci: 0.7217532000980262\n",
      "Epoch: 39\n"
     ]
    },
    {
     "name": "stderr",
     "output_type": "stream",
     "text": [
      "100%|██████████| 646/646 [02:32<00:00,  4.23it/s]\n",
      "  0%|          | 0/162 [00:00<?, ?it/s]"
     ]
    },
    {
     "name": "stdout",
     "output_type": "stream",
     "text": [
      "Average loss 0.06560045068985537\n"
     ]
    },
    {
     "name": "stderr",
     "output_type": "stream",
     "text": [
      "100%|██████████| 162/162 [00:14<00:00, 11.42it/s]\n",
      "  0%|          | 0/646 [00:00<?, ?it/s]"
     ]
    },
    {
     "name": "stdout",
     "output_type": "stream",
     "text": [
      "EarlyStopping counter: 3 out of 25\n",
      "val mse: 1.5001271\n",
      "val pearson 0.6527104086617345\n",
      "val AUPR 0.6433696193568256\n",
      "val ci: 0.7276581234983152\n",
      "Epoch: 40\n"
     ]
    },
    {
     "name": "stderr",
     "output_type": "stream",
     "text": [
      "100%|██████████| 646/646 [02:30<00:00,  4.29it/s]\n",
      "  0%|          | 0/162 [00:00<?, ?it/s]"
     ]
    },
    {
     "name": "stdout",
     "output_type": "stream",
     "text": [
      "Average loss 0.06006261766902618\n"
     ]
    },
    {
     "name": "stderr",
     "output_type": "stream",
     "text": [
      "100%|██████████| 162/162 [00:15<00:00, 10.37it/s]\n",
      "  0%|          | 0/646 [00:00<?, ?it/s]"
     ]
    },
    {
     "name": "stdout",
     "output_type": "stream",
     "text": [
      "EarlyStopping counter: 4 out of 25\n",
      "val mse: 1.5265793\n",
      "val pearson 0.6463040922943823\n",
      "val AUPR 0.6426505926989758\n",
      "val ci: 0.7236174667971557\n",
      "Epoch: 41\n"
     ]
    },
    {
     "name": "stderr",
     "output_type": "stream",
     "text": [
      "100%|██████████| 646/646 [02:26<00:00,  4.40it/s]\n",
      "  0%|          | 0/162 [00:00<?, ?it/s]"
     ]
    },
    {
     "name": "stdout",
     "output_type": "stream",
     "text": [
      "Average loss 0.0730545207909986\n"
     ]
    },
    {
     "name": "stderr",
     "output_type": "stream",
     "text": [
      "100%|██████████| 162/162 [00:16<00:00,  9.70it/s]\n",
      "  0%|          | 0/646 [00:00<?, ?it/s]"
     ]
    },
    {
     "name": "stdout",
     "output_type": "stream",
     "text": [
      "EarlyStopping counter: 5 out of 25\n",
      "val mse: 1.5440967\n",
      "val pearson 0.6357903556529402\n",
      "val AUPR 0.6210098939864415\n",
      "val ci: 0.7178207674791444\n",
      "Epoch: 42\n"
     ]
    },
    {
     "name": "stderr",
     "output_type": "stream",
     "text": [
      "100%|██████████| 646/646 [02:29<00:00,  4.32it/s]\n",
      "  0%|          | 0/162 [00:00<?, ?it/s]"
     ]
    },
    {
     "name": "stdout",
     "output_type": "stream",
     "text": [
      "Average loss 0.07930107548509958\n"
     ]
    },
    {
     "name": "stderr",
     "output_type": "stream",
     "text": [
      "100%|██████████| 162/162 [00:13<00:00, 11.58it/s]\n",
      "  0%|          | 0/646 [00:00<?, ?it/s]"
     ]
    },
    {
     "name": "stdout",
     "output_type": "stream",
     "text": [
      "EarlyStopping counter: 6 out of 25\n",
      "val mse: 1.5250946\n",
      "val pearson 0.6407243433126443\n",
      "val AUPR 0.6353408116569501\n",
      "val ci: 0.7229243840247157\n",
      "Epoch: 43\n"
     ]
    },
    {
     "name": "stderr",
     "output_type": "stream",
     "text": [
      "100%|██████████| 646/646 [02:30<00:00,  4.28it/s]\n",
      "  0%|          | 0/162 [00:00<?, ?it/s]"
     ]
    },
    {
     "name": "stdout",
     "output_type": "stream",
     "text": [
      "Average loss 0.05841685374247216\n"
     ]
    },
    {
     "name": "stderr",
     "output_type": "stream",
     "text": [
      "100%|██████████| 162/162 [00:14<00:00, 11.55it/s]\n",
      "  0%|          | 0/646 [00:00<?, ?it/s]"
     ]
    },
    {
     "name": "stdout",
     "output_type": "stream",
     "text": [
      "EarlyStopping counter: 7 out of 25\n",
      "val mse: 1.4966885\n",
      "val pearson 0.6520557074138095\n",
      "val AUPR 0.6433396654629033\n",
      "val ci: 0.7269313758607688\n",
      "Epoch: 44\n"
     ]
    },
    {
     "name": "stderr",
     "output_type": "stream",
     "text": [
      "100%|██████████| 646/646 [02:33<00:00,  4.22it/s]\n",
      "  0%|          | 0/162 [00:00<?, ?it/s]"
     ]
    },
    {
     "name": "stdout",
     "output_type": "stream",
     "text": [
      "Average loss 0.042068578132742514\n"
     ]
    },
    {
     "name": "stderr",
     "output_type": "stream",
     "text": [
      "100%|██████████| 162/162 [00:14<00:00, 11.56it/s]\n",
      "  0%|          | 0/646 [00:00<?, ?it/s]"
     ]
    },
    {
     "name": "stdout",
     "output_type": "stream",
     "text": [
      "EarlyStopping counter: 8 out of 25\n",
      "val mse: 1.5150082\n",
      "val pearson 0.6468596617019425\n",
      "val AUPR 0.6419924113636662\n",
      "val ci: 0.7254610774840503\n",
      "Epoch: 45\n"
     ]
    },
    {
     "name": "stderr",
     "output_type": "stream",
     "text": [
      "100%|██████████| 646/646 [02:32<00:00,  4.23it/s]\n",
      "  0%|          | 0/162 [00:00<?, ?it/s]"
     ]
    },
    {
     "name": "stdout",
     "output_type": "stream",
     "text": [
      "Average loss 0.0380779119560224\n"
     ]
    },
    {
     "name": "stderr",
     "output_type": "stream",
     "text": [
      "100%|██████████| 162/162 [00:13<00:00, 11.99it/s]\n",
      "  0%|          | 0/646 [00:00<?, ?it/s]"
     ]
    },
    {
     "name": "stdout",
     "output_type": "stream",
     "text": [
      "EarlyStopping counter: 9 out of 25\n",
      "val mse: 1.4930247\n",
      "val pearson 0.6470977137278211\n",
      "val AUPR 0.632889355379811\n",
      "val ci: 0.7245807437253169\n",
      "Epoch: 46\n"
     ]
    },
    {
     "name": "stderr",
     "output_type": "stream",
     "text": [
      "100%|██████████| 646/646 [02:26<00:00,  4.41it/s]\n",
      "  0%|          | 0/162 [00:00<?, ?it/s]"
     ]
    },
    {
     "name": "stdout",
     "output_type": "stream",
     "text": [
      "Average loss 0.05710501978664022\n"
     ]
    },
    {
     "name": "stderr",
     "output_type": "stream",
     "text": [
      "100%|██████████| 162/162 [00:13<00:00, 11.70it/s]\n",
      "  0%|          | 0/646 [00:00<?, ?it/s]"
     ]
    },
    {
     "name": "stdout",
     "output_type": "stream",
     "text": [
      "EarlyStopping counter: 10 out of 25\n",
      "val mse: 1.4911401\n",
      "val pearson 0.6508694775645015\n",
      "val AUPR 0.6331796372453633\n",
      "val ci: 0.7254098516061569\n",
      "Epoch: 47\n"
     ]
    },
    {
     "name": "stderr",
     "output_type": "stream",
     "text": [
      "100%|██████████| 646/646 [02:25<00:00,  4.44it/s]\n",
      "  0%|          | 0/162 [00:00<?, ?it/s]"
     ]
    },
    {
     "name": "stdout",
     "output_type": "stream",
     "text": [
      "Average loss 0.06818115592418071\n"
     ]
    },
    {
     "name": "stderr",
     "output_type": "stream",
     "text": [
      "100%|██████████| 162/162 [00:13<00:00, 11.58it/s]\n",
      "  0%|          | 0/646 [00:00<?, ?it/s]"
     ]
    },
    {
     "name": "stdout",
     "output_type": "stream",
     "text": [
      "EarlyStopping counter: 11 out of 25\n",
      "val mse: 1.5084828\n",
      "val pearson 0.6492738180303832\n",
      "val AUPR 0.6407133264831579\n",
      "val ci: 0.7261462995679766\n",
      "Epoch: 48\n"
     ]
    },
    {
     "name": "stderr",
     "output_type": "stream",
     "text": [
      "100%|██████████| 646/646 [02:25<00:00,  4.44it/s]\n",
      "  0%|          | 0/162 [00:00<?, ?it/s]"
     ]
    },
    {
     "name": "stdout",
     "output_type": "stream",
     "text": [
      "Average loss 0.05783524568374312\n"
     ]
    },
    {
     "name": "stderr",
     "output_type": "stream",
     "text": [
      "100%|██████████| 162/162 [00:13<00:00, 12.00it/s]\n",
      "  0%|          | 0/646 [00:00<?, ?it/s]"
     ]
    },
    {
     "name": "stdout",
     "output_type": "stream",
     "text": [
      "EarlyStopping counter: 12 out of 25\n",
      "val mse: 1.5267631\n",
      "val pearson 0.6454761808027232\n",
      "val AUPR 0.6334025343664138\n",
      "val ci: 0.7240934584711144\n",
      "Epoch: 49\n"
     ]
    },
    {
     "name": "stderr",
     "output_type": "stream",
     "text": [
      "100%|██████████| 646/646 [02:24<00:00,  4.47it/s]\n",
      "  0%|          | 0/162 [00:00<?, ?it/s]"
     ]
    },
    {
     "name": "stdout",
     "output_type": "stream",
     "text": [
      "Average loss 0.03795472313664369\n"
     ]
    },
    {
     "name": "stderr",
     "output_type": "stream",
     "text": [
      "100%|██████████| 162/162 [00:13<00:00, 11.95it/s]\n",
      "  0%|          | 0/646 [00:00<?, ?it/s]"
     ]
    },
    {
     "name": "stdout",
     "output_type": "stream",
     "text": [
      "EarlyStopping counter: 13 out of 25\n",
      "val mse: 1.5028137\n",
      "val pearson 0.6464140798573429\n",
      "val AUPR 0.6353443703187438\n",
      "val ci: 0.7245884190423701\n",
      "Epoch: 50\n"
     ]
    },
    {
     "name": "stderr",
     "output_type": "stream",
     "text": [
      "100%|██████████| 646/646 [02:20<00:00,  4.60it/s]\n",
      "  0%|          | 0/162 [00:00<?, ?it/s]"
     ]
    },
    {
     "name": "stdout",
     "output_type": "stream",
     "text": [
      "Average loss 0.03851169369964869\n"
     ]
    },
    {
     "name": "stderr",
     "output_type": "stream",
     "text": [
      "100%|██████████| 162/162 [00:14<00:00, 11.01it/s]\n",
      "  0%|          | 0/646 [00:00<?, ?it/s]"
     ]
    },
    {
     "name": "stdout",
     "output_type": "stream",
     "text": [
      "EarlyStopping counter: 14 out of 25\n",
      "val mse: 1.5022061\n",
      "val pearson 0.6515746172292779\n",
      "val AUPR 0.6423588793740265\n",
      "val ci: 0.7273071965518467\n",
      "Epoch: 51\n"
     ]
    },
    {
     "name": "stderr",
     "output_type": "stream",
     "text": [
      "100%|██████████| 646/646 [02:20<00:00,  4.61it/s]\n",
      "  0%|          | 0/162 [00:00<?, ?it/s]"
     ]
    },
    {
     "name": "stdout",
     "output_type": "stream",
     "text": [
      "Average loss 0.03669172444383703\n"
     ]
    },
    {
     "name": "stderr",
     "output_type": "stream",
     "text": [
      "100%|██████████| 162/162 [00:13<00:00, 11.64it/s]\n",
      "  0%|          | 0/646 [00:00<?, ?it/s]"
     ]
    },
    {
     "name": "stdout",
     "output_type": "stream",
     "text": [
      "EarlyStopping counter: 15 out of 25\n",
      "val mse: 1.5405419\n",
      "val pearson 0.6483210602653741\n",
      "val AUPR 0.6456812111622694\n",
      "val ci: 0.7260125317677407\n",
      "Epoch: 52\n"
     ]
    },
    {
     "name": "stderr",
     "output_type": "stream",
     "text": [
      "100%|██████████| 646/646 [02:21<00:00,  4.58it/s]\n",
      "  0%|          | 0/162 [00:00<?, ?it/s]"
     ]
    },
    {
     "name": "stdout",
     "output_type": "stream",
     "text": [
      "Average loss 0.04861061396682779\n"
     ]
    },
    {
     "name": "stderr",
     "output_type": "stream",
     "text": [
      "100%|██████████| 162/162 [00:14<00:00, 11.38it/s]\n",
      "  0%|          | 0/646 [00:00<?, ?it/s]"
     ]
    },
    {
     "name": "stdout",
     "output_type": "stream",
     "text": [
      "EarlyStopping counter: 16 out of 25\n",
      "val mse: 1.5842099\n",
      "val pearson 0.638163747596492\n",
      "val AUPR 0.6435699165277794\n",
      "val ci: 0.7212788110659347\n",
      "Epoch: 53\n"
     ]
    },
    {
     "name": "stderr",
     "output_type": "stream",
     "text": [
      "100%|██████████| 646/646 [02:23<00:00,  4.51it/s]\n",
      "  0%|          | 0/162 [00:00<?, ?it/s]"
     ]
    },
    {
     "name": "stdout",
     "output_type": "stream",
     "text": [
      "Average loss 0.0631592880542341\n"
     ]
    },
    {
     "name": "stderr",
     "output_type": "stream",
     "text": [
      "100%|██████████| 162/162 [00:13<00:00, 12.03it/s]\n",
      "  0%|          | 0/646 [00:00<?, ?it/s]"
     ]
    },
    {
     "name": "stdout",
     "output_type": "stream",
     "text": [
      "EarlyStopping counter: 17 out of 25\n",
      "val mse: 1.5734533\n",
      "val pearson 0.6299509996286614\n",
      "val AUPR 0.6339169111495562\n",
      "val ci: 0.7182264869442645\n",
      "Epoch: 54\n"
     ]
    },
    {
     "name": "stderr",
     "output_type": "stream",
     "text": [
      "100%|██████████| 646/646 [02:25<00:00,  4.44it/s]\n",
      "  0%|          | 0/162 [00:00<?, ?it/s]"
     ]
    },
    {
     "name": "stdout",
     "output_type": "stream",
     "text": [
      "Average loss 0.04677678083845244\n"
     ]
    },
    {
     "name": "stderr",
     "output_type": "stream",
     "text": [
      "100%|██████████| 162/162 [00:13<00:00, 12.05it/s]\n",
      "  0%|          | 0/646 [00:00<?, ?it/s]"
     ]
    },
    {
     "name": "stdout",
     "output_type": "stream",
     "text": [
      "EarlyStopping counter: 18 out of 25\n",
      "val mse: 1.5529406\n",
      "val pearson 0.6360154471261014\n",
      "val AUPR 0.6351559530802072\n",
      "val ci: 0.7206607192619157\n",
      "Epoch: 55\n"
     ]
    },
    {
     "name": "stderr",
     "output_type": "stream",
     "text": [
      "100%|██████████| 646/646 [02:21<00:00,  4.56it/s]\n",
      "  0%|          | 0/162 [00:00<?, ?it/s]"
     ]
    },
    {
     "name": "stdout",
     "output_type": "stream",
     "text": [
      "Average loss 0.03569085821624696\n"
     ]
    },
    {
     "name": "stderr",
     "output_type": "stream",
     "text": [
      "100%|██████████| 162/162 [00:13<00:00, 12.08it/s]\n",
      "  0%|          | 0/646 [00:00<?, ?it/s]"
     ]
    },
    {
     "name": "stdout",
     "output_type": "stream",
     "text": [
      "EarlyStopping counter: 19 out of 25\n",
      "val mse: 1.5057577\n",
      "val pearson 0.6470909093899713\n",
      "val AUPR 0.639466652239728\n",
      "val ci: 0.7254922269288323\n",
      "Epoch: 56\n"
     ]
    },
    {
     "name": "stderr",
     "output_type": "stream",
     "text": [
      "100%|██████████| 646/646 [02:23<00:00,  4.52it/s]\n",
      "  0%|          | 0/162 [00:00<?, ?it/s]"
     ]
    },
    {
     "name": "stdout",
     "output_type": "stream",
     "text": [
      "Average loss 0.03018511335823927\n"
     ]
    },
    {
     "name": "stderr",
     "output_type": "stream",
     "text": [
      "100%|██████████| 162/162 [00:13<00:00, 11.89it/s]\n",
      "  0%|          | 0/646 [00:00<?, ?it/s]"
     ]
    },
    {
     "name": "stdout",
     "output_type": "stream",
     "text": [
      "EarlyStopping counter: 20 out of 25\n",
      "val mse: 1.4996065\n",
      "val pearson 0.6500067984635165\n",
      "val AUPR 0.639240033500716\n",
      "val ci: 0.7261073387106387\n",
      "Epoch: 57\n"
     ]
    },
    {
     "name": "stderr",
     "output_type": "stream",
     "text": [
      "100%|██████████| 646/646 [02:21<00:00,  4.55it/s]\n",
      "  0%|          | 0/162 [00:00<?, ?it/s]"
     ]
    },
    {
     "name": "stdout",
     "output_type": "stream",
     "text": [
      "Average loss 0.03948269334791845\n"
     ]
    },
    {
     "name": "stderr",
     "output_type": "stream",
     "text": [
      "100%|██████████| 162/162 [00:13<00:00, 12.09it/s]\n",
      "  0%|          | 0/646 [00:00<?, ?it/s]"
     ]
    },
    {
     "name": "stdout",
     "output_type": "stream",
     "text": [
      "EarlyStopping counter: 21 out of 25\n",
      "val mse: 1.5633084\n",
      "val pearson 0.6447215689641818\n",
      "val AUPR 0.6417548117642206\n",
      "val ci: 0.7240945800857739\n",
      "Epoch: 58\n"
     ]
    },
    {
     "name": "stderr",
     "output_type": "stream",
     "text": [
      "100%|██████████| 646/646 [02:21<00:00,  4.55it/s]\n",
      "  0%|          | 0/162 [00:00<?, ?it/s]"
     ]
    },
    {
     "name": "stdout",
     "output_type": "stream",
     "text": [
      "Average loss 0.06688721378509752\n"
     ]
    },
    {
     "name": "stderr",
     "output_type": "stream",
     "text": [
      "100%|██████████| 162/162 [00:14<00:00, 11.49it/s]\n",
      "  0%|          | 0/646 [00:00<?, ?it/s]"
     ]
    },
    {
     "name": "stdout",
     "output_type": "stream",
     "text": [
      "EarlyStopping counter: 22 out of 25\n",
      "val mse: 1.5724231\n",
      "val pearson 0.6380066049918249\n",
      "val AUPR 0.639723285043375\n",
      "val ci: 0.7209393865359124\n",
      "Epoch: 59\n"
     ]
    },
    {
     "name": "stderr",
     "output_type": "stream",
     "text": [
      "100%|██████████| 646/646 [02:20<00:00,  4.60it/s]\n",
      "  0%|          | 0/162 [00:00<?, ?it/s]"
     ]
    },
    {
     "name": "stdout",
     "output_type": "stream",
     "text": [
      "Average loss 0.060901176585201694\n"
     ]
    },
    {
     "name": "stderr",
     "output_type": "stream",
     "text": [
      "100%|██████████| 162/162 [00:14<00:00, 11.44it/s]\n",
      "  0%|          | 0/646 [00:00<?, ?it/s]"
     ]
    },
    {
     "name": "stdout",
     "output_type": "stream",
     "text": [
      "EarlyStopping counter: 23 out of 25\n",
      "val mse: 1.5384914\n",
      "val pearson 0.6415961487407261\n",
      "val AUPR 0.6438783240847971\n",
      "val ci: 0.7232947022338341\n",
      "Epoch: 60\n"
     ]
    },
    {
     "name": "stderr",
     "output_type": "stream",
     "text": [
      "100%|██████████| 646/646 [02:20<00:00,  4.61it/s]\n",
      "  0%|          | 0/162 [00:00<?, ?it/s]"
     ]
    },
    {
     "name": "stdout",
     "output_type": "stream",
     "text": [
      "Average loss 0.030450314792282534\n"
     ]
    },
    {
     "name": "stderr",
     "output_type": "stream",
     "text": [
      "100%|██████████| 162/162 [00:13<00:00, 12.08it/s]\n",
      "  0%|          | 0/646 [00:00<?, ?it/s]"
     ]
    },
    {
     "name": "stdout",
     "output_type": "stream",
     "text": [
      "EarlyStopping counter: 24 out of 25\n",
      "val mse: 1.5130305\n",
      "val pearson 0.6514555175497029\n",
      "val AUPR 0.6412801265895532\n",
      "val ci: 0.7261823367184821\n",
      "Epoch: 61\n"
     ]
    },
    {
     "name": "stderr",
     "output_type": "stream",
     "text": [
      "100%|██████████| 646/646 [02:20<00:00,  4.59it/s]\n",
      "  0%|          | 0/162 [00:00<?, ?it/s]"
     ]
    },
    {
     "name": "stdout",
     "output_type": "stream",
     "text": [
      "Average loss 0.019700332265058906\n"
     ]
    },
    {
     "name": "stderr",
     "output_type": "stream",
     "text": [
      "100%|██████████| 162/162 [00:13<00:00, 11.64it/s]\n",
      "  0%|          | 0/202 [00:00<?, ?it/s]"
     ]
    },
    {
     "name": "stdout",
     "output_type": "stream",
     "text": [
      "EarlyStopping counter: 25 out of 25\n",
      "Early stopping\n"
     ]
    },
    {
     "name": "stderr",
     "output_type": "stream",
     "text": [
      "100%|██████████| 202/202 [00:16<00:00, 12.13it/s]\n"
     ]
    },
    {
     "name": "stdout",
     "output_type": "stream",
     "text": [
      "-------------------test results---------------------------------\n",
      "val mse: 0.82158524\n",
      "val pearson 0.8197442378972106\n",
      "val AUPR 0.7854882124503705\n",
      "val ci: 0.8136257344234963\n",
      "-------------------test results---------------------------------\n"
     ]
    },
    {
     "name": "stderr",
     "output_type": "stream",
     "text": [
      "100%|██████████| 646/646 [02:21<00:00,  4.55it/s]\n",
      "  0%|          | 0/162 [00:00<?, ?it/s]"
     ]
    },
    {
     "name": "stdout",
     "output_type": "stream",
     "text": [
      "Average loss 2.4178642545691216\n"
     ]
    },
    {
     "name": "stderr",
     "output_type": "stream",
     "text": [
      "100%|██████████| 162/162 [00:15<00:00, 10.34it/s]\n"
     ]
    },
    {
     "name": "stdout",
     "output_type": "stream",
     "text": [
      "Validation loss decreased (inf --> 0.688735).  Saving model ...\n"
     ]
    },
    {
     "name": "stderr",
     "output_type": "stream",
     "text": [
      "\r",
      "  0%|          | 0/646 [00:00<?, ?it/s]"
     ]
    },
    {
     "name": "stdout",
     "output_type": "stream",
     "text": [
      "val mse: 2.2800212\n",
      "val pearson 0.5727686727054166\n",
      "val AUPR 0.6164704052194536\n",
      "val ci: 0.6887346066023593\n",
      "Epoch: 2\n"
     ]
    },
    {
     "name": "stderr",
     "output_type": "stream",
     "text": [
      "100%|██████████| 646/646 [02:20<00:00,  4.61it/s]\n",
      "  0%|          | 0/162 [00:00<?, ?it/s]"
     ]
    },
    {
     "name": "stdout",
     "output_type": "stream",
     "text": [
      "Average loss 1.384979852212841\n"
     ]
    },
    {
     "name": "stderr",
     "output_type": "stream",
     "text": [
      "100%|██████████| 162/162 [00:13<00:00, 11.92it/s]\n"
     ]
    },
    {
     "name": "stdout",
     "output_type": "stream",
     "text": [
      "Validation loss decreased (0.688735 --> 0.701924).  Saving model ...\n"
     ]
    },
    {
     "name": "stderr",
     "output_type": "stream",
     "text": [
      "\r",
      "  0%|          | 0/646 [00:00<?, ?it/s]"
     ]
    },
    {
     "name": "stdout",
     "output_type": "stream",
     "text": [
      "val mse: 1.8175522\n",
      "val pearson 0.6070502611195627\n",
      "val AUPR 0.6148039774448449\n",
      "val ci: 0.7019244381570654\n",
      "Epoch: 3\n"
     ]
    },
    {
     "name": "stderr",
     "output_type": "stream",
     "text": [
      "100%|██████████| 646/646 [02:23<00:00,  4.50it/s]\n",
      "  0%|          | 0/162 [00:00<?, ?it/s]"
     ]
    },
    {
     "name": "stdout",
     "output_type": "stream",
     "text": [
      "Average loss 1.1817944814730723\n"
     ]
    },
    {
     "name": "stderr",
     "output_type": "stream",
     "text": [
      "100%|██████████| 162/162 [00:13<00:00, 12.18it/s]\n"
     ]
    },
    {
     "name": "stdout",
     "output_type": "stream",
     "text": [
      "Validation loss decreased (0.701924 --> 0.704021).  Saving model ...\n"
     ]
    },
    {
     "name": "stderr",
     "output_type": "stream",
     "text": [
      "\r",
      "  0%|          | 0/646 [00:00<?, ?it/s]"
     ]
    },
    {
     "name": "stdout",
     "output_type": "stream",
     "text": [
      "val mse: 1.6724169\n",
      "val pearson 0.6137384882000425\n",
      "val AUPR 0.6082424951893325\n",
      "val ci: 0.7040206805591479\n",
      "Epoch: 4\n"
     ]
    },
    {
     "name": "stderr",
     "output_type": "stream",
     "text": [
      "100%|██████████| 646/646 [02:22<00:00,  4.54it/s]\n",
      "  0%|          | 0/162 [00:00<?, ?it/s]"
     ]
    },
    {
     "name": "stdout",
     "output_type": "stream",
     "text": [
      "Average loss 1.012388336584664\n"
     ]
    },
    {
     "name": "stderr",
     "output_type": "stream",
     "text": [
      "100%|██████████| 162/162 [00:13<00:00, 11.78it/s]\n"
     ]
    },
    {
     "name": "stdout",
     "output_type": "stream",
     "text": [
      "Validation loss decreased (0.704021 --> 0.710363).  Saving model ...\n"
     ]
    },
    {
     "name": "stderr",
     "output_type": "stream",
     "text": [
      "\r",
      "  0%|          | 0/646 [00:00<?, ?it/s]"
     ]
    },
    {
     "name": "stdout",
     "output_type": "stream",
     "text": [
      "val mse: 1.5934043\n",
      "val pearson 0.6210268376258232\n",
      "val AUPR 0.5625070465352712\n",
      "val ci: 0.7103626003096783\n",
      "Epoch: 5\n"
     ]
    },
    {
     "name": "stderr",
     "output_type": "stream",
     "text": [
      "100%|██████████| 646/646 [02:23<00:00,  4.50it/s]\n",
      "  0%|          | 0/162 [00:00<?, ?it/s]"
     ]
    },
    {
     "name": "stdout",
     "output_type": "stream",
     "text": [
      "Average loss 0.8858645607258883\n"
     ]
    },
    {
     "name": "stderr",
     "output_type": "stream",
     "text": [
      "100%|██████████| 162/162 [00:13<00:00, 12.21it/s]\n"
     ]
    },
    {
     "name": "stdout",
     "output_type": "stream",
     "text": [
      "Validation loss decreased (0.710363 --> 0.714061).  Saving model ...\n"
     ]
    },
    {
     "name": "stderr",
     "output_type": "stream",
     "text": [
      "\r",
      "  0%|          | 0/646 [00:00<?, ?it/s]"
     ]
    },
    {
     "name": "stdout",
     "output_type": "stream",
     "text": [
      "val mse: 1.580921\n",
      "val pearson 0.6265891674752221\n",
      "val AUPR 0.5828767907074166\n",
      "val ci: 0.7140609545587796\n",
      "Epoch: 6\n"
     ]
    },
    {
     "name": "stderr",
     "output_type": "stream",
     "text": [
      "100%|██████████| 646/646 [02:22<00:00,  4.52it/s]\n",
      "  0%|          | 0/162 [00:00<?, ?it/s]"
     ]
    },
    {
     "name": "stdout",
     "output_type": "stream",
     "text": [
      "Average loss 0.7692642840254048\n"
     ]
    },
    {
     "name": "stderr",
     "output_type": "stream",
     "text": [
      "100%|██████████| 162/162 [00:13<00:00, 12.09it/s]\n"
     ]
    },
    {
     "name": "stdout",
     "output_type": "stream",
     "text": [
      "Validation loss decreased (0.714061 --> 0.716238).  Saving model ...\n"
     ]
    },
    {
     "name": "stderr",
     "output_type": "stream",
     "text": [
      "\r",
      "  0%|          | 0/646 [00:00<?, ?it/s]"
     ]
    },
    {
     "name": "stdout",
     "output_type": "stream",
     "text": [
      "val mse: 1.6619728\n",
      "val pearson 0.6318833401824203\n",
      "val AUPR 0.6327741494219653\n",
      "val ci: 0.7162378973880084\n",
      "Epoch: 7\n"
     ]
    },
    {
     "name": "stderr",
     "output_type": "stream",
     "text": [
      "100%|██████████| 646/646 [02:21<00:00,  4.55it/s]\n",
      "  0%|          | 0/162 [00:00<?, ?it/s]"
     ]
    },
    {
     "name": "stdout",
     "output_type": "stream",
     "text": [
      "Average loss 0.6801841220711776\n"
     ]
    },
    {
     "name": "stderr",
     "output_type": "stream",
     "text": [
      "100%|██████████| 162/162 [00:13<00:00, 11.89it/s]\n",
      "  0%|          | 0/646 [00:00<?, ?it/s]"
     ]
    },
    {
     "name": "stdout",
     "output_type": "stream",
     "text": [
      "EarlyStopping counter: 1 out of 25\n",
      "val mse: 1.5235623\n",
      "val pearson 0.6277432738739401\n",
      "val AUPR 0.591598292799957\n",
      "val ci: 0.7124726658745986\n",
      "Epoch: 8\n"
     ]
    },
    {
     "name": "stderr",
     "output_type": "stream",
     "text": [
      "100%|██████████| 646/646 [02:20<00:00,  4.59it/s]\n",
      "  0%|          | 0/162 [00:00<?, ?it/s]"
     ]
    },
    {
     "name": "stdout",
     "output_type": "stream",
     "text": [
      "Average loss 0.5949524047297221\n"
     ]
    },
    {
     "name": "stderr",
     "output_type": "stream",
     "text": [
      "100%|██████████| 162/162 [00:13<00:00, 11.91it/s]\n"
     ]
    },
    {
     "name": "stdout",
     "output_type": "stream",
     "text": [
      "Validation loss decreased (0.716238 --> 0.717206).  Saving model ...\n"
     ]
    },
    {
     "name": "stderr",
     "output_type": "stream",
     "text": [
      "\r",
      "  0%|          | 0/646 [00:00<?, ?it/s]"
     ]
    },
    {
     "name": "stdout",
     "output_type": "stream",
     "text": [
      "val mse: 1.5572183\n",
      "val pearson 0.6343253416890663\n",
      "val AUPR 0.6304861047659215\n",
      "val ci: 0.717206112448208\n",
      "Epoch: 9\n"
     ]
    },
    {
     "name": "stderr",
     "output_type": "stream",
     "text": [
      "100%|██████████| 646/646 [02:21<00:00,  4.57it/s]\n",
      "  0%|          | 0/162 [00:00<?, ?it/s]"
     ]
    },
    {
     "name": "stdout",
     "output_type": "stream",
     "text": [
      "Average loss 0.532609775800823\n"
     ]
    },
    {
     "name": "stderr",
     "output_type": "stream",
     "text": [
      "100%|██████████| 162/162 [00:13<00:00, 11.59it/s]\n",
      "  0%|          | 0/646 [00:00<?, ?it/s]"
     ]
    },
    {
     "name": "stdout",
     "output_type": "stream",
     "text": [
      "EarlyStopping counter: 1 out of 25\n",
      "val mse: 1.560667\n",
      "val pearson 0.6253252411582004\n",
      "val AUPR 0.6196841166463046\n",
      "val ci: 0.714260047055351\n",
      "Epoch: 10\n"
     ]
    },
    {
     "name": "stderr",
     "output_type": "stream",
     "text": [
      "100%|██████████| 646/646 [02:19<00:00,  4.65it/s]\n",
      "  0%|          | 0/162 [00:00<?, ?it/s]"
     ]
    },
    {
     "name": "stdout",
     "output_type": "stream",
     "text": [
      "Average loss 0.4585181224410748\n"
     ]
    },
    {
     "name": "stderr",
     "output_type": "stream",
     "text": [
      "100%|██████████| 162/162 [00:14<00:00, 11.39it/s]\n",
      "  0%|          | 0/646 [00:00<?, ?it/s]"
     ]
    },
    {
     "name": "stdout",
     "output_type": "stream",
     "text": [
      "EarlyStopping counter: 2 out of 25\n",
      "val mse: 1.5431811\n",
      "val pearson 0.6281702204968075\n",
      "val AUPR 0.6197438733586332\n",
      "val ci: 0.716746287552742\n",
      "Epoch: 11\n"
     ]
    },
    {
     "name": "stderr",
     "output_type": "stream",
     "text": [
      "100%|██████████| 646/646 [02:21<00:00,  4.58it/s]\n",
      "  0%|          | 0/162 [00:00<?, ?it/s]"
     ]
    },
    {
     "name": "stdout",
     "output_type": "stream",
     "text": [
      "Average loss 0.4114491483744453\n"
     ]
    },
    {
     "name": "stderr",
     "output_type": "stream",
     "text": [
      "100%|██████████| 162/162 [00:14<00:00, 11.50it/s]\n",
      "  0%|          | 0/646 [00:00<?, ?it/s]"
     ]
    },
    {
     "name": "stdout",
     "output_type": "stream",
     "text": [
      "EarlyStopping counter: 3 out of 25\n",
      "val mse: 1.5531259\n",
      "val pearson 0.6301905019667917\n",
      "val AUPR 0.6239837026948241\n",
      "val ci: 0.7148234435998577\n",
      "Epoch: 12\n"
     ]
    },
    {
     "name": "stderr",
     "output_type": "stream",
     "text": [
      "100%|██████████| 646/646 [02:23<00:00,  4.49it/s]\n",
      "  0%|          | 0/162 [00:00<?, ?it/s]"
     ]
    },
    {
     "name": "stdout",
     "output_type": "stream",
     "text": [
      "Average loss 0.374643662304332\n"
     ]
    },
    {
     "name": "stderr",
     "output_type": "stream",
     "text": [
      "100%|██████████| 162/162 [00:13<00:00, 12.19it/s]\n"
     ]
    },
    {
     "name": "stdout",
     "output_type": "stream",
     "text": [
      "Validation loss decreased (0.717206 --> 0.721897).  Saving model ...\n"
     ]
    },
    {
     "name": "stderr",
     "output_type": "stream",
     "text": [
      "\r",
      "  0%|          | 0/646 [00:00<?, ?it/s]"
     ]
    },
    {
     "name": "stdout",
     "output_type": "stream",
     "text": [
      "val mse: 1.6213431\n",
      "val pearson 0.639769105821261\n",
      "val AUPR 0.6451524586639397\n",
      "val ci: 0.7218970078021769\n",
      "Epoch: 13\n"
     ]
    },
    {
     "name": "stderr",
     "output_type": "stream",
     "text": [
      "100%|██████████| 646/646 [02:23<00:00,  4.51it/s]\n",
      "  0%|          | 0/162 [00:00<?, ?it/s]"
     ]
    },
    {
     "name": "stdout",
     "output_type": "stream",
     "text": [
      "Average loss 0.3318142310569161\n"
     ]
    },
    {
     "name": "stderr",
     "output_type": "stream",
     "text": [
      "100%|██████████| 162/162 [00:13<00:00, 11.89it/s]\n",
      "  0%|          | 0/646 [00:00<?, ?it/s]"
     ]
    },
    {
     "name": "stdout",
     "output_type": "stream",
     "text": [
      "EarlyStopping counter: 1 out of 25\n",
      "val mse: 1.555873\n",
      "val pearson 0.6323929880349008\n",
      "val AUPR 0.6350230386317094\n",
      "val ci: 0.7197037686113952\n",
      "Epoch: 14\n"
     ]
    },
    {
     "name": "stderr",
     "output_type": "stream",
     "text": [
      "100%|██████████| 646/646 [02:21<00:00,  4.58it/s]\n",
      "  0%|          | 0/162 [00:00<?, ?it/s]"
     ]
    },
    {
     "name": "stdout",
     "output_type": "stream",
     "text": [
      "Average loss 0.2939735822402656\n"
     ]
    },
    {
     "name": "stderr",
     "output_type": "stream",
     "text": [
      "100%|██████████| 162/162 [00:13<00:00, 11.88it/s]\n"
     ]
    },
    {
     "name": "stdout",
     "output_type": "stream",
     "text": [
      "Validation loss decreased (0.721897 --> 0.725326).  Saving model ...\n"
     ]
    },
    {
     "name": "stderr",
     "output_type": "stream",
     "text": [
      "\r",
      "  0%|          | 0/646 [00:00<?, ?it/s]"
     ]
    },
    {
     "name": "stdout",
     "output_type": "stream",
     "text": [
      "val mse: 1.539012\n",
      "val pearson 0.6473348741778708\n",
      "val AUPR 0.605723678949724\n",
      "val ci: 0.7253255440495134\n",
      "Epoch: 15\n"
     ]
    },
    {
     "name": "stderr",
     "output_type": "stream",
     "text": [
      "100%|██████████| 646/646 [02:23<00:00,  4.51it/s]\n",
      "  0%|          | 0/162 [00:00<?, ?it/s]"
     ]
    },
    {
     "name": "stdout",
     "output_type": "stream",
     "text": [
      "Average loss 0.2797273096193101\n"
     ]
    },
    {
     "name": "stderr",
     "output_type": "stream",
     "text": [
      "100%|██████████| 162/162 [00:13<00:00, 11.69it/s]\n",
      "  0%|          | 0/646 [00:00<?, ?it/s]"
     ]
    },
    {
     "name": "stdout",
     "output_type": "stream",
     "text": [
      "EarlyStopping counter: 1 out of 25\n",
      "val mse: 1.5490946\n",
      "val pearson 0.6415395384353678\n",
      "val AUPR 0.6410157710568349\n",
      "val ci: 0.7218149252933957\n",
      "Epoch: 16\n"
     ]
    },
    {
     "name": "stderr",
     "output_type": "stream",
     "text": [
      "100%|██████████| 646/646 [02:20<00:00,  4.59it/s]\n",
      "  0%|          | 0/162 [00:00<?, ?it/s]"
     ]
    },
    {
     "name": "stdout",
     "output_type": "stream",
     "text": [
      "Average loss 0.24976246621771125\n"
     ]
    },
    {
     "name": "stderr",
     "output_type": "stream",
     "text": [
      "100%|██████████| 162/162 [00:14<00:00, 11.32it/s]\n",
      "  0%|          | 0/646 [00:00<?, ?it/s]"
     ]
    },
    {
     "name": "stdout",
     "output_type": "stream",
     "text": [
      "EarlyStopping counter: 2 out of 25\n",
      "val mse: 1.6524553\n",
      "val pearson 0.6365077625845046\n",
      "val AUPR 0.6489890207880727\n",
      "val ci: 0.720530234657188\n",
      "Epoch: 17\n"
     ]
    },
    {
     "name": "stderr",
     "output_type": "stream",
     "text": [
      "100%|██████████| 646/646 [02:20<00:00,  4.61it/s]\n",
      "  0%|          | 0/162 [00:00<?, ?it/s]"
     ]
    },
    {
     "name": "stdout",
     "output_type": "stream",
     "text": [
      "Average loss 0.227317296037733\n"
     ]
    },
    {
     "name": "stderr",
     "output_type": "stream",
     "text": [
      "100%|██████████| 162/162 [00:13<00:00, 12.20it/s]\n",
      "  0%|          | 0/646 [00:00<?, ?it/s]"
     ]
    },
    {
     "name": "stdout",
     "output_type": "stream",
     "text": [
      "EarlyStopping counter: 3 out of 25\n",
      "val mse: 1.6214437\n",
      "val pearson 0.6402667763702381\n",
      "val AUPR 0.607333884968004\n",
      "val ci: 0.7211261253722903\n",
      "Epoch: 18\n"
     ]
    },
    {
     "name": "stderr",
     "output_type": "stream",
     "text": [
      "100%|██████████| 646/646 [02:22<00:00,  4.54it/s]\n",
      "  0%|          | 0/162 [00:00<?, ?it/s]"
     ]
    },
    {
     "name": "stdout",
     "output_type": "stream",
     "text": [
      "Average loss 0.20734109526540473\n"
     ]
    },
    {
     "name": "stderr",
     "output_type": "stream",
     "text": [
      "100%|██████████| 162/162 [00:13<00:00, 11.71it/s]\n"
     ]
    },
    {
     "name": "stdout",
     "output_type": "stream",
     "text": [
      "Validation loss decreased (0.725326 --> 0.725814).  Saving model ...\n"
     ]
    },
    {
     "name": "stderr",
     "output_type": "stream",
     "text": [
      "\r",
      "  0%|          | 0/646 [00:00<?, ?it/s]"
     ]
    },
    {
     "name": "stdout",
     "output_type": "stream",
     "text": [
      "val mse: 1.5301365\n",
      "val pearson 0.6496891601521869\n",
      "val AUPR 0.6495153604358195\n",
      "val ci: 0.7258135925067879\n",
      "Epoch: 19\n"
     ]
    },
    {
     "name": "stderr",
     "output_type": "stream",
     "text": [
      "100%|██████████| 646/646 [02:22<00:00,  4.54it/s]\n",
      "  0%|          | 0/162 [00:00<?, ?it/s]"
     ]
    },
    {
     "name": "stdout",
     "output_type": "stream",
     "text": [
      "Average loss 0.18599105934286633\n"
     ]
    },
    {
     "name": "stderr",
     "output_type": "stream",
     "text": [
      "100%|██████████| 162/162 [00:13<00:00, 12.16it/s]\n",
      "  0%|          | 0/646 [00:00<?, ?it/s]"
     ]
    },
    {
     "name": "stdout",
     "output_type": "stream",
     "text": [
      "EarlyStopping counter: 1 out of 25\n",
      "val mse: 1.5580263\n",
      "val pearson 0.6380807969137728\n",
      "val AUPR 0.6335260606625517\n",
      "val ci: 0.7200072141376261\n",
      "Epoch: 20\n"
     ]
    },
    {
     "name": "stderr",
     "output_type": "stream",
     "text": [
      "100%|██████████| 646/646 [02:21<00:00,  4.57it/s]\n",
      "  0%|          | 0/162 [00:00<?, ?it/s]"
     ]
    },
    {
     "name": "stdout",
     "output_type": "stream",
     "text": [
      "Average loss 0.17649813265115852\n"
     ]
    },
    {
     "name": "stderr",
     "output_type": "stream",
     "text": [
      "100%|██████████| 162/162 [00:13<00:00, 12.07it/s]\n",
      "  0%|          | 0/646 [00:00<?, ?it/s]"
     ]
    },
    {
     "name": "stdout",
     "output_type": "stream",
     "text": [
      "EarlyStopping counter: 2 out of 25\n",
      "val mse: 1.4978583\n",
      "val pearson 0.6469408391275139\n",
      "val AUPR 0.6425651537382987\n",
      "val ci: 0.7253809282139103\n",
      "Epoch: 21\n"
     ]
    },
    {
     "name": "stderr",
     "output_type": "stream",
     "text": [
      "100%|██████████| 646/646 [02:21<00:00,  4.56it/s]\n",
      "  0%|          | 0/162 [00:00<?, ?it/s]"
     ]
    },
    {
     "name": "stdout",
     "output_type": "stream",
     "text": [
      "Average loss 0.16920418452598363\n"
     ]
    },
    {
     "name": "stderr",
     "output_type": "stream",
     "text": [
      "100%|██████████| 162/162 [00:13<00:00, 11.92it/s]\n",
      "  0%|          | 0/646 [00:00<?, ?it/s]"
     ]
    },
    {
     "name": "stdout",
     "output_type": "stream",
     "text": [
      "EarlyStopping counter: 3 out of 25\n",
      "val mse: 1.6067373\n",
      "val pearson 0.6368603171985813\n",
      "val AUPR 0.6488510567673367\n",
      "val ci: 0.7224741993516615\n",
      "Epoch: 22\n"
     ]
    },
    {
     "name": "stderr",
     "output_type": "stream",
     "text": [
      "100%|██████████| 646/646 [02:23<00:00,  4.51it/s]\n",
      "  0%|          | 0/162 [00:00<?, ?it/s]"
     ]
    },
    {
     "name": "stdout",
     "output_type": "stream",
     "text": [
      "Average loss 0.14892458302133224\n"
     ]
    },
    {
     "name": "stderr",
     "output_type": "stream",
     "text": [
      "100%|██████████| 162/162 [00:13<00:00, 11.91it/s]\n",
      "  0%|          | 0/646 [00:00<?, ?it/s]"
     ]
    },
    {
     "name": "stdout",
     "output_type": "stream",
     "text": [
      "EarlyStopping counter: 4 out of 25\n",
      "val mse: 1.639965\n",
      "val pearson 0.6457250090555844\n",
      "val AUPR 0.6573696616255177\n",
      "val ci: 0.7248920185954133\n",
      "Epoch: 23\n"
     ]
    },
    {
     "name": "stderr",
     "output_type": "stream",
     "text": [
      "100%|██████████| 646/646 [02:23<00:00,  4.51it/s]\n",
      "  0%|          | 0/162 [00:00<?, ?it/s]"
     ]
    },
    {
     "name": "stdout",
     "output_type": "stream",
     "text": [
      "Average loss 0.15227136838223912\n"
     ]
    },
    {
     "name": "stderr",
     "output_type": "stream",
     "text": [
      "100%|██████████| 162/162 [00:14<00:00, 11.44it/s]\n",
      "  0%|          | 0/646 [00:00<?, ?it/s]"
     ]
    },
    {
     "name": "stdout",
     "output_type": "stream",
     "text": [
      "EarlyStopping counter: 5 out of 25\n",
      "val mse: 1.5589433\n",
      "val pearson 0.6423090516451738\n",
      "val AUPR 0.6481407635199333\n",
      "val ci: 0.7239654114665395\n",
      "Epoch: 24\n"
     ]
    },
    {
     "name": "stderr",
     "output_type": "stream",
     "text": [
      "100%|██████████| 646/646 [02:21<00:00,  4.57it/s]\n",
      "  0%|          | 0/162 [00:00<?, ?it/s]"
     ]
    },
    {
     "name": "stdout",
     "output_type": "stream",
     "text": [
      "Average loss 0.1320197843361196\n"
     ]
    },
    {
     "name": "stderr",
     "output_type": "stream",
     "text": [
      "100%|██████████| 162/162 [00:13<00:00, 11.60it/s]\n",
      "  0%|          | 0/646 [00:00<?, ?it/s]"
     ]
    },
    {
     "name": "stdout",
     "output_type": "stream",
     "text": [
      "EarlyStopping counter: 6 out of 25\n",
      "val mse: 1.5006616\n",
      "val pearson 0.6451970570653063\n",
      "val AUPR 0.6208129768149526\n",
      "val ci: 0.7228913721284884\n",
      "Epoch: 25\n"
     ]
    },
    {
     "name": "stderr",
     "output_type": "stream",
     "text": [
      "100%|██████████| 646/646 [02:21<00:00,  4.58it/s]\n",
      "  0%|          | 0/162 [00:00<?, ?it/s]"
     ]
    },
    {
     "name": "stdout",
     "output_type": "stream",
     "text": [
      "Average loss 0.12055203469683512\n"
     ]
    },
    {
     "name": "stderr",
     "output_type": "stream",
     "text": [
      "100%|██████████| 162/162 [00:13<00:00, 12.14it/s]\n",
      "  0%|          | 0/646 [00:00<?, ?it/s]"
     ]
    },
    {
     "name": "stdout",
     "output_type": "stream",
     "text": [
      "EarlyStopping counter: 7 out of 25\n",
      "val mse: 1.5071161\n",
      "val pearson 0.648971145612795\n",
      "val AUPR 0.6476485825919409\n",
      "val ci: 0.7252685736589958\n",
      "Epoch: 26\n"
     ]
    },
    {
     "name": "stderr",
     "output_type": "stream",
     "text": [
      "100%|██████████| 646/646 [02:23<00:00,  4.51it/s]\n",
      "  0%|          | 0/162 [00:00<?, ?it/s]"
     ]
    },
    {
     "name": "stdout",
     "output_type": "stream",
     "text": [
      "Average loss 0.1204239604504485\n"
     ]
    },
    {
     "name": "stderr",
     "output_type": "stream",
     "text": [
      "100%|██████████| 162/162 [00:13<00:00, 12.12it/s]\n",
      "  0%|          | 0/646 [00:00<?, ?it/s]"
     ]
    },
    {
     "name": "stdout",
     "output_type": "stream",
     "text": [
      "EarlyStopping counter: 8 out of 25\n",
      "val mse: 1.5355699\n",
      "val pearson 0.6381490459683778\n",
      "val AUPR 0.6405225362067428\n",
      "val ci: 0.7219976580732288\n",
      "Epoch: 27\n"
     ]
    },
    {
     "name": "stderr",
     "output_type": "stream",
     "text": [
      "100%|██████████| 646/646 [02:24<00:00,  4.47it/s]\n",
      "  0%|          | 0/162 [00:00<?, ?it/s]"
     ]
    },
    {
     "name": "stdout",
     "output_type": "stream",
     "text": [
      "Average loss 0.1113584762433365\n"
     ]
    },
    {
     "name": "stderr",
     "output_type": "stream",
     "text": [
      "100%|██████████| 162/162 [00:13<00:00, 11.83it/s]\n"
     ]
    },
    {
     "name": "stdout",
     "output_type": "stream",
     "text": [
      "Validation loss decreased (0.725814 --> 0.726196).  Saving model ...\n"
     ]
    },
    {
     "name": "stderr",
     "output_type": "stream",
     "text": [
      "\r",
      "  0%|          | 0/646 [00:00<?, ?it/s]"
     ]
    },
    {
     "name": "stdout",
     "output_type": "stream",
     "text": [
      "val mse: 1.5059441\n",
      "val pearson 0.6462850848177802\n",
      "val AUPR 0.6480232327495148\n",
      "val ci: 0.7261957580240023\n",
      "Epoch: 28\n"
     ]
    },
    {
     "name": "stderr",
     "output_type": "stream",
     "text": [
      "100%|██████████| 646/646 [02:22<00:00,  4.53it/s]\n",
      "  0%|          | 0/162 [00:00<?, ?it/s]"
     ]
    },
    {
     "name": "stdout",
     "output_type": "stream",
     "text": [
      "Average loss 0.10206451434815078\n"
     ]
    },
    {
     "name": "stderr",
     "output_type": "stream",
     "text": [
      "100%|██████████| 162/162 [00:13<00:00, 11.89it/s]\n",
      "  0%|          | 0/646 [00:00<?, ?it/s]"
     ]
    },
    {
     "name": "stdout",
     "output_type": "stream",
     "text": [
      "EarlyStopping counter: 1 out of 25\n",
      "val mse: 1.5374495\n",
      "val pearson 0.6427751411359758\n",
      "val AUPR 0.6467897323843538\n",
      "val ci: 0.7236760331379344\n",
      "Epoch: 29\n"
     ]
    },
    {
     "name": "stderr",
     "output_type": "stream",
     "text": [
      "100%|██████████| 646/646 [02:23<00:00,  4.50it/s]\n",
      "  0%|          | 0/162 [00:00<?, ?it/s]"
     ]
    },
    {
     "name": "stdout",
     "output_type": "stream",
     "text": [
      "Average loss 0.09776834368521214\n"
     ]
    },
    {
     "name": "stderr",
     "output_type": "stream",
     "text": [
      "100%|██████████| 162/162 [00:13<00:00, 11.81it/s]\n",
      "  0%|          | 0/646 [00:00<?, ?it/s]"
     ]
    },
    {
     "name": "stdout",
     "output_type": "stream",
     "text": [
      "EarlyStopping counter: 2 out of 25\n",
      "val mse: 1.6160637\n",
      "val pearson 0.6429111944261791\n",
      "val AUPR 0.6560155508779271\n",
      "val ci: 0.7242947974214196\n",
      "Epoch: 30\n"
     ]
    },
    {
     "name": "stderr",
     "output_type": "stream",
     "text": [
      "100%|██████████| 646/646 [02:21<00:00,  4.58it/s]\n",
      "  0%|          | 0/162 [00:00<?, ?it/s]"
     ]
    },
    {
     "name": "stdout",
     "output_type": "stream",
     "text": [
      "Average loss 0.09751814834473672\n"
     ]
    },
    {
     "name": "stderr",
     "output_type": "stream",
     "text": [
      "100%|██████████| 162/162 [00:13<00:00, 12.06it/s]\n",
      "  0%|          | 0/646 [00:00<?, ?it/s]"
     ]
    },
    {
     "name": "stdout",
     "output_type": "stream",
     "text": [
      "EarlyStopping counter: 3 out of 25\n",
      "val mse: 1.5016785\n",
      "val pearson 0.6467012762889831\n",
      "val AUPR 0.6383912131536043\n",
      "val ci: 0.7260545909387048\n",
      "Epoch: 31\n"
     ]
    },
    {
     "name": "stderr",
     "output_type": "stream",
     "text": [
      "100%|██████████| 646/646 [02:23<00:00,  4.52it/s]\n",
      "  0%|          | 0/162 [00:00<?, ?it/s]"
     ]
    },
    {
     "name": "stdout",
     "output_type": "stream",
     "text": [
      "Average loss 0.09466062333354086\n"
     ]
    },
    {
     "name": "stderr",
     "output_type": "stream",
     "text": [
      "100%|██████████| 162/162 [00:14<00:00, 10.94it/s]\n"
     ]
    },
    {
     "name": "stdout",
     "output_type": "stream",
     "text": [
      "Validation loss decreased (0.726196 --> 0.726786).  Saving model ...\n"
     ]
    },
    {
     "name": "stderr",
     "output_type": "stream",
     "text": [
      "\r",
      "  0%|          | 0/646 [00:00<?, ?it/s]"
     ]
    },
    {
     "name": "stdout",
     "output_type": "stream",
     "text": [
      "val mse: 1.4969007\n",
      "val pearson 0.6489126896651591\n",
      "val AUPR 0.6346200284119052\n",
      "val ci: 0.7267864700393282\n",
      "Epoch: 32\n"
     ]
    },
    {
     "name": "stderr",
     "output_type": "stream",
     "text": [
      "100%|██████████| 646/646 [02:21<00:00,  4.58it/s]\n",
      "  0%|          | 0/162 [00:00<?, ?it/s]"
     ]
    },
    {
     "name": "stdout",
     "output_type": "stream",
     "text": [
      "Average loss 0.0880075479762473\n"
     ]
    },
    {
     "name": "stderr",
     "output_type": "stream",
     "text": [
      "100%|██████████| 162/162 [00:15<00:00, 10.50it/s]\n"
     ]
    },
    {
     "name": "stdout",
     "output_type": "stream",
     "text": [
      "Validation loss decreased (0.726786 --> 0.729166).  Saving model ...\n"
     ]
    },
    {
     "name": "stderr",
     "output_type": "stream",
     "text": [
      "\r",
      "  0%|          | 0/646 [00:00<?, ?it/s]"
     ]
    },
    {
     "name": "stdout",
     "output_type": "stream",
     "text": [
      "val mse: 1.4720016\n",
      "val pearson 0.6533169394867744\n",
      "val AUPR 0.6469455783768991\n",
      "val ci: 0.7291660368300868\n",
      "Epoch: 33\n"
     ]
    },
    {
     "name": "stderr",
     "output_type": "stream",
     "text": [
      "100%|██████████| 646/646 [02:22<00:00,  4.54it/s]\n",
      "  0%|          | 0/162 [00:00<?, ?it/s]"
     ]
    },
    {
     "name": "stdout",
     "output_type": "stream",
     "text": [
      "Average loss 0.08013623203770849\n"
     ]
    },
    {
     "name": "stderr",
     "output_type": "stream",
     "text": [
      "100%|██████████| 162/162 [00:15<00:00, 10.52it/s]\n",
      "  0%|          | 0/646 [00:00<?, ?it/s]"
     ]
    },
    {
     "name": "stdout",
     "output_type": "stream",
     "text": [
      "EarlyStopping counter: 1 out of 25\n",
      "val mse: 1.4877664\n",
      "val pearson 0.6471668604276737\n",
      "val AUPR 0.6296357249249325\n",
      "val ci: 0.7251658490922473\n",
      "Epoch: 34\n"
     ]
    },
    {
     "name": "stderr",
     "output_type": "stream",
     "text": [
      "100%|██████████| 646/646 [02:21<00:00,  4.55it/s]\n",
      "  0%|          | 0/162 [00:00<?, ?it/s]"
     ]
    },
    {
     "name": "stdout",
     "output_type": "stream",
     "text": [
      "Average loss 0.08078678638527267\n"
     ]
    },
    {
     "name": "stderr",
     "output_type": "stream",
     "text": [
      "100%|██████████| 162/162 [00:13<00:00, 11.94it/s]\n",
      "  0%|          | 0/646 [00:00<?, ?it/s]"
     ]
    },
    {
     "name": "stdout",
     "output_type": "stream",
     "text": [
      "EarlyStopping counter: 2 out of 25\n",
      "val mse: 1.500778\n",
      "val pearson 0.6468992064826465\n",
      "val AUPR 0.6424763395546619\n",
      "val ci: 0.7255735350166972\n",
      "Epoch: 35\n"
     ]
    },
    {
     "name": "stderr",
     "output_type": "stream",
     "text": [
      "100%|██████████| 646/646 [02:23<00:00,  4.49it/s]\n",
      "  0%|          | 0/162 [00:00<?, ?it/s]"
     ]
    },
    {
     "name": "stdout",
     "output_type": "stream",
     "text": [
      "Average loss 0.07703075900489331\n"
     ]
    },
    {
     "name": "stderr",
     "output_type": "stream",
     "text": [
      "100%|██████████| 162/162 [00:13<00:00, 11.60it/s]\n",
      "  0%|          | 0/646 [00:00<?, ?it/s]"
     ]
    },
    {
     "name": "stdout",
     "output_type": "stream",
     "text": [
      "EarlyStopping counter: 3 out of 25\n",
      "val mse: 1.4722785\n",
      "val pearson 0.6502909410510381\n",
      "val AUPR 0.6392821560961909\n",
      "val ci: 0.7273101311502082\n",
      "Epoch: 36\n"
     ]
    },
    {
     "name": "stderr",
     "output_type": "stream",
     "text": [
      "100%|██████████| 646/646 [02:25<00:00,  4.45it/s]\n",
      "  0%|          | 0/162 [00:00<?, ?it/s]"
     ]
    },
    {
     "name": "stdout",
     "output_type": "stream",
     "text": [
      "Average loss 0.0757036224445876\n"
     ]
    },
    {
     "name": "stderr",
     "output_type": "stream",
     "text": [
      "100%|██████████| 162/162 [00:13<00:00, 12.15it/s]\n",
      "  0%|          | 0/646 [00:00<?, ?it/s]"
     ]
    },
    {
     "name": "stdout",
     "output_type": "stream",
     "text": [
      "EarlyStopping counter: 4 out of 25\n",
      "val mse: 1.4684864\n",
      "val pearson 0.6532592774468284\n",
      "val AUPR 0.6446075127091293\n",
      "val ci: 0.7275170796897571\n",
      "Epoch: 37\n"
     ]
    },
    {
     "name": "stderr",
     "output_type": "stream",
     "text": [
      "100%|██████████| 646/646 [02:23<00:00,  4.49it/s]\n",
      "  0%|          | 0/162 [00:00<?, ?it/s]"
     ]
    },
    {
     "name": "stdout",
     "output_type": "stream",
     "text": [
      "Average loss 0.07062724141559734\n"
     ]
    },
    {
     "name": "stderr",
     "output_type": "stream",
     "text": [
      "100%|██████████| 162/162 [00:13<00:00, 11.73it/s]\n",
      "  0%|          | 0/646 [00:00<?, ?it/s]"
     ]
    },
    {
     "name": "stdout",
     "output_type": "stream",
     "text": [
      "EarlyStopping counter: 5 out of 25\n",
      "val mse: 1.5259118\n",
      "val pearson 0.6434238912940712\n",
      "val AUPR 0.6470183481410923\n",
      "val ci: 0.7242183863749672\n",
      "Epoch: 38\n"
     ]
    },
    {
     "name": "stderr",
     "output_type": "stream",
     "text": [
      "100%|██████████| 646/646 [02:27<00:00,  4.38it/s]\n",
      "  0%|          | 0/162 [00:00<?, ?it/s]"
     ]
    },
    {
     "name": "stdout",
     "output_type": "stream",
     "text": [
      "Average loss 0.07337049387925919\n"
     ]
    },
    {
     "name": "stderr",
     "output_type": "stream",
     "text": [
      "100%|██████████| 162/162 [00:13<00:00, 11.96it/s]\n",
      "  0%|          | 0/646 [00:00<?, ?it/s]"
     ]
    },
    {
     "name": "stdout",
     "output_type": "stream",
     "text": [
      "EarlyStopping counter: 6 out of 25\n",
      "val mse: 1.5066382\n",
      "val pearson 0.6490465736633657\n",
      "val AUPR 0.6488519728832374\n",
      "val ci: 0.7264245828743876\n",
      "Epoch: 39\n"
     ]
    },
    {
     "name": "stderr",
     "output_type": "stream",
     "text": [
      "100%|██████████| 646/646 [02:26<00:00,  4.42it/s]\n",
      "  0%|          | 0/162 [00:00<?, ?it/s]"
     ]
    },
    {
     "name": "stdout",
     "output_type": "stream",
     "text": [
      "Average loss 0.06419372481896597\n"
     ]
    },
    {
     "name": "stderr",
     "output_type": "stream",
     "text": [
      "100%|██████████| 162/162 [00:13<00:00, 12.07it/s]\n",
      "  0%|          | 0/646 [00:00<?, ?it/s]"
     ]
    },
    {
     "name": "stdout",
     "output_type": "stream",
     "text": [
      "EarlyStopping counter: 7 out of 25\n",
      "val mse: 1.514174\n",
      "val pearson 0.6509664774990779\n",
      "val AUPR 0.6396220962076506\n",
      "val ci: 0.7267988853091593\n",
      "Epoch: 40\n"
     ]
    },
    {
     "name": "stderr",
     "output_type": "stream",
     "text": [
      "100%|██████████| 646/646 [02:27<00:00,  4.38it/s]\n",
      "  0%|          | 0/162 [00:00<?, ?it/s]"
     ]
    },
    {
     "name": "stdout",
     "output_type": "stream",
     "text": [
      "Average loss 0.056784363881606986\n"
     ]
    },
    {
     "name": "stderr",
     "output_type": "stream",
     "text": [
      "100%|██████████| 162/162 [00:13<00:00, 11.99it/s]\n",
      "  0%|          | 0/646 [00:00<?, ?it/s]"
     ]
    },
    {
     "name": "stdout",
     "output_type": "stream",
     "text": [
      "EarlyStopping counter: 8 out of 25\n",
      "val mse: 1.4708916\n",
      "val pearson 0.6534753647607995\n",
      "val AUPR 0.6427568270742305\n",
      "val ci: 0.7284289320999202\n",
      "Epoch: 41\n"
     ]
    },
    {
     "name": "stderr",
     "output_type": "stream",
     "text": [
      "100%|██████████| 646/646 [02:28<00:00,  4.36it/s]\n",
      "  0%|          | 0/162 [00:00<?, ?it/s]"
     ]
    },
    {
     "name": "stdout",
     "output_type": "stream",
     "text": [
      "Average loss 0.06263105167024091\n"
     ]
    },
    {
     "name": "stderr",
     "output_type": "stream",
     "text": [
      "100%|██████████| 162/162 [00:13<00:00, 11.59it/s]\n",
      "  0%|          | 0/646 [00:00<?, ?it/s]"
     ]
    },
    {
     "name": "stdout",
     "output_type": "stream",
     "text": [
      "EarlyStopping counter: 9 out of 25\n",
      "val mse: 1.5868528\n",
      "val pearson 0.6412424658251915\n",
      "val AUPR 0.6473267838703743\n",
      "val ci: 0.722468734380307\n",
      "Epoch: 42\n"
     ]
    },
    {
     "name": "stderr",
     "output_type": "stream",
     "text": [
      "100%|██████████| 646/646 [02:24<00:00,  4.48it/s]\n",
      "  0%|          | 0/162 [00:00<?, ?it/s]"
     ]
    },
    {
     "name": "stdout",
     "output_type": "stream",
     "text": [
      "Average loss 0.06695411099415076\n"
     ]
    },
    {
     "name": "stderr",
     "output_type": "stream",
     "text": [
      "100%|██████████| 162/162 [00:14<00:00, 11.47it/s]\n",
      "  0%|          | 0/646 [00:00<?, ?it/s]"
     ]
    },
    {
     "name": "stdout",
     "output_type": "stream",
     "text": [
      "EarlyStopping counter: 10 out of 25\n",
      "val mse: 1.4914212\n",
      "val pearson 0.6459580505052416\n",
      "val AUPR 0.6445352461471785\n",
      "val ci: 0.7266930352199359\n",
      "Epoch: 43\n"
     ]
    },
    {
     "name": "stderr",
     "output_type": "stream",
     "text": [
      "100%|██████████| 646/646 [02:24<00:00,  4.49it/s]\n",
      "  0%|          | 0/162 [00:00<?, ?it/s]"
     ]
    },
    {
     "name": "stdout",
     "output_type": "stream",
     "text": [
      "Average loss 0.06383793492550636\n"
     ]
    },
    {
     "name": "stderr",
     "output_type": "stream",
     "text": [
      "100%|██████████| 162/162 [00:15<00:00, 10.57it/s]\n",
      "  0%|          | 0/646 [00:00<?, ?it/s]"
     ]
    },
    {
     "name": "stdout",
     "output_type": "stream",
     "text": [
      "EarlyStopping counter: 11 out of 25\n",
      "val mse: 1.5320835\n",
      "val pearson 0.6450014639332544\n",
      "val AUPR 0.6467548551346365\n",
      "val ci: 0.7255418386521388\n",
      "Epoch: 44\n"
     ]
    },
    {
     "name": "stderr",
     "output_type": "stream",
     "text": [
      "100%|██████████| 646/646 [02:23<00:00,  4.50it/s]\n",
      "  0%|          | 0/162 [00:00<?, ?it/s]"
     ]
    },
    {
     "name": "stdout",
     "output_type": "stream",
     "text": [
      "Average loss 0.06796568280356956\n"
     ]
    },
    {
     "name": "stderr",
     "output_type": "stream",
     "text": [
      "100%|██████████| 162/162 [00:14<00:00, 10.81it/s]\n",
      "  0%|          | 0/646 [00:00<?, ?it/s]"
     ]
    },
    {
     "name": "stdout",
     "output_type": "stream",
     "text": [
      "EarlyStopping counter: 12 out of 25\n",
      "val mse: 1.4936173\n",
      "val pearson 0.6453769151589971\n",
      "val AUPR 0.639023426703896\n",
      "val ci: 0.7248257068347959\n",
      "Epoch: 45\n"
     ]
    },
    {
     "name": "stderr",
     "output_type": "stream",
     "text": [
      "100%|██████████| 646/646 [02:21<00:00,  4.57it/s]\n",
      "  0%|          | 0/162 [00:00<?, ?it/s]"
     ]
    },
    {
     "name": "stdout",
     "output_type": "stream",
     "text": [
      "Average loss 0.04997543655566571\n"
     ]
    },
    {
     "name": "stderr",
     "output_type": "stream",
     "text": [
      "100%|██████████| 162/162 [00:14<00:00, 11.16it/s]\n",
      "  0%|          | 0/646 [00:00<?, ?it/s]"
     ]
    },
    {
     "name": "stdout",
     "output_type": "stream",
     "text": [
      "EarlyStopping counter: 13 out of 25\n",
      "val mse: 1.5541178\n",
      "val pearson 0.6419676585589819\n",
      "val AUPR 0.6447395071501376\n",
      "val ci: 0.7226922256626851\n",
      "Epoch: 46\n"
     ]
    },
    {
     "name": "stderr",
     "output_type": "stream",
     "text": [
      "100%|██████████| 646/646 [02:24<00:00,  4.47it/s]\n",
      "  0%|          | 0/162 [00:00<?, ?it/s]"
     ]
    },
    {
     "name": "stdout",
     "output_type": "stream",
     "text": [
      "Average loss 0.04820416743460547\n"
     ]
    },
    {
     "name": "stderr",
     "output_type": "stream",
     "text": [
      "100%|██████████| 162/162 [00:13<00:00, 12.11it/s]\n"
     ]
    },
    {
     "name": "stdout",
     "output_type": "stream",
     "text": [
      "Validation loss decreased (0.729166 --> 0.731238).  Saving model ...\n"
     ]
    },
    {
     "name": "stderr",
     "output_type": "stream",
     "text": [
      "\r",
      "  0%|          | 0/646 [00:00<?, ?it/s]"
     ]
    },
    {
     "name": "stdout",
     "output_type": "stream",
     "text": [
      "val mse: 1.474482\n",
      "val pearson 0.6594338902546554\n",
      "val AUPR 0.6491116150160632\n",
      "val ci: 0.731237706806225\n",
      "Epoch: 47\n"
     ]
    },
    {
     "name": "stderr",
     "output_type": "stream",
     "text": [
      "100%|██████████| 646/646 [02:24<00:00,  4.48it/s]\n",
      "  0%|          | 0/162 [00:00<?, ?it/s]"
     ]
    },
    {
     "name": "stdout",
     "output_type": "stream",
     "text": [
      "Average loss 0.040005469490015655\n"
     ]
    },
    {
     "name": "stderr",
     "output_type": "stream",
     "text": [
      "100%|██████████| 162/162 [00:14<00:00, 11.02it/s]\n",
      "  0%|          | 0/646 [00:00<?, ?it/s]"
     ]
    },
    {
     "name": "stdout",
     "output_type": "stream",
     "text": [
      "EarlyStopping counter: 1 out of 25\n",
      "val mse: 1.490639\n",
      "val pearson 0.650132832337948\n",
      "val AUPR 0.6450726841518013\n",
      "val ci: 0.7286905444319441\n",
      "Epoch: 48\n"
     ]
    },
    {
     "name": "stderr",
     "output_type": "stream",
     "text": [
      "100%|██████████| 646/646 [02:24<00:00,  4.48it/s]\n",
      "  0%|          | 0/162 [00:00<?, ?it/s]"
     ]
    },
    {
     "name": "stdout",
     "output_type": "stream",
     "text": [
      "Average loss 0.06539035401950034\n"
     ]
    },
    {
     "name": "stderr",
     "output_type": "stream",
     "text": [
      "100%|██████████| 162/162 [00:13<00:00, 12.16it/s]\n",
      "  0%|          | 0/646 [00:00<?, ?it/s]"
     ]
    },
    {
     "name": "stdout",
     "output_type": "stream",
     "text": [
      "EarlyStopping counter: 2 out of 25\n",
      "val mse: 1.5427147\n",
      "val pearson 0.6357568181300545\n",
      "val AUPR 0.6374327037654874\n",
      "val ci: 0.7207879213142114\n",
      "Epoch: 49\n"
     ]
    },
    {
     "name": "stderr",
     "output_type": "stream",
     "text": [
      "100%|██████████| 646/646 [02:24<00:00,  4.46it/s]\n",
      "  0%|          | 0/162 [00:00<?, ?it/s]"
     ]
    },
    {
     "name": "stdout",
     "output_type": "stream",
     "text": [
      "Average loss 0.05523661214673759\n"
     ]
    },
    {
     "name": "stderr",
     "output_type": "stream",
     "text": [
      "100%|██████████| 162/162 [00:13<00:00, 12.04it/s]\n",
      "  0%|          | 0/646 [00:00<?, ?it/s]"
     ]
    },
    {
     "name": "stdout",
     "output_type": "stream",
     "text": [
      "EarlyStopping counter: 3 out of 25\n",
      "val mse: 1.4876475\n",
      "val pearson 0.6475321430932132\n",
      "val AUPR 0.6347136190841843\n",
      "val ci: 0.7254554996135005\n",
      "Epoch: 50\n"
     ]
    },
    {
     "name": "stderr",
     "output_type": "stream",
     "text": [
      "100%|██████████| 646/646 [02:25<00:00,  4.45it/s]\n",
      "  0%|          | 0/162 [00:00<?, ?it/s]"
     ]
    },
    {
     "name": "stdout",
     "output_type": "stream",
     "text": [
      "Average loss 0.044354026312521735\n"
     ]
    },
    {
     "name": "stderr",
     "output_type": "stream",
     "text": [
      "100%|██████████| 162/162 [00:13<00:00, 11.97it/s]\n",
      "  0%|          | 0/646 [00:00<?, ?it/s]"
     ]
    },
    {
     "name": "stdout",
     "output_type": "stream",
     "text": [
      "EarlyStopping counter: 4 out of 25\n",
      "val mse: 1.519233\n",
      "val pearson 0.652101549384373\n",
      "val AUPR 0.650465140629662\n",
      "val ci: 0.7281189516036497\n",
      "Epoch: 51\n"
     ]
    },
    {
     "name": "stderr",
     "output_type": "stream",
     "text": [
      "100%|██████████| 646/646 [02:25<00:00,  4.43it/s]\n",
      "  0%|          | 0/162 [00:00<?, ?it/s]"
     ]
    },
    {
     "name": "stdout",
     "output_type": "stream",
     "text": [
      "Average loss 0.033282517219083416\n"
     ]
    },
    {
     "name": "stderr",
     "output_type": "stream",
     "text": [
      "100%|██████████| 162/162 [00:13<00:00, 11.78it/s]\n",
      "  0%|          | 0/646 [00:00<?, ?it/s]"
     ]
    },
    {
     "name": "stdout",
     "output_type": "stream",
     "text": [
      "EarlyStopping counter: 5 out of 25\n",
      "val mse: 1.4811202\n",
      "val pearson 0.6544672359480878\n",
      "val AUPR 0.6413053687380175\n",
      "val ci: 0.7292315789425272\n",
      "Epoch: 52\n"
     ]
    },
    {
     "name": "stderr",
     "output_type": "stream",
     "text": [
      "100%|██████████| 646/646 [02:27<00:00,  4.39it/s]\n",
      "  0%|          | 0/162 [00:00<?, ?it/s]"
     ]
    },
    {
     "name": "stdout",
     "output_type": "stream",
     "text": [
      "Average loss 0.029639080913604784\n"
     ]
    },
    {
     "name": "stderr",
     "output_type": "stream",
     "text": [
      "100%|██████████| 162/162 [00:13<00:00, 11.72it/s]\n",
      "  0%|          | 0/646 [00:00<?, ?it/s]"
     ]
    },
    {
     "name": "stdout",
     "output_type": "stream",
     "text": [
      "EarlyStopping counter: 6 out of 25\n",
      "val mse: 1.4852763\n",
      "val pearson 0.6508689365088379\n",
      "val AUPR 0.6425068077476417\n",
      "val ci: 0.7272072000924854\n",
      "Epoch: 53\n"
     ]
    },
    {
     "name": "stderr",
     "output_type": "stream",
     "text": [
      "100%|██████████| 646/646 [02:26<00:00,  4.42it/s]\n",
      "  0%|          | 0/162 [00:00<?, ?it/s]"
     ]
    },
    {
     "name": "stdout",
     "output_type": "stream",
     "text": [
      "Average loss 0.03568681213578019\n"
     ]
    },
    {
     "name": "stderr",
     "output_type": "stream",
     "text": [
      "100%|██████████| 162/162 [00:13<00:00, 11.95it/s]\n",
      "  0%|          | 0/646 [00:00<?, ?it/s]"
     ]
    },
    {
     "name": "stdout",
     "output_type": "stream",
     "text": [
      "EarlyStopping counter: 7 out of 25\n",
      "val mse: 1.527547\n",
      "val pearson 0.6465247196154251\n",
      "val AUPR 0.6450504164714499\n",
      "val ci: 0.7242278098721588\n",
      "Epoch: 54\n"
     ]
    },
    {
     "name": "stderr",
     "output_type": "stream",
     "text": [
      "100%|██████████| 646/646 [02:21<00:00,  4.55it/s]\n",
      "  0%|          | 0/162 [00:00<?, ?it/s]"
     ]
    },
    {
     "name": "stdout",
     "output_type": "stream",
     "text": [
      "Average loss 0.08541219104831063\n"
     ]
    },
    {
     "name": "stderr",
     "output_type": "stream",
     "text": [
      "100%|██████████| 162/162 [00:14<00:00, 11.41it/s]\n",
      "  0%|          | 0/646 [00:00<?, ?it/s]"
     ]
    },
    {
     "name": "stdout",
     "output_type": "stream",
     "text": [
      "EarlyStopping counter: 8 out of 25\n",
      "val mse: 1.542808\n",
      "val pearson 0.6344173852864612\n",
      "val AUPR 0.637392002485392\n",
      "val ci: 0.7199954535380431\n",
      "Epoch: 55\n"
     ]
    },
    {
     "name": "stderr",
     "output_type": "stream",
     "text": [
      "100%|██████████| 646/646 [02:21<00:00,  4.56it/s]\n",
      "  0%|          | 0/162 [00:00<?, ?it/s]"
     ]
    },
    {
     "name": "stdout",
     "output_type": "stream",
     "text": [
      "Average loss 0.06192046099691292\n"
     ]
    },
    {
     "name": "stderr",
     "output_type": "stream",
     "text": [
      "100%|██████████| 162/162 [00:14<00:00, 11.15it/s]\n",
      "  0%|          | 0/646 [00:00<?, ?it/s]"
     ]
    },
    {
     "name": "stdout",
     "output_type": "stream",
     "text": [
      "EarlyStopping counter: 9 out of 25\n",
      "val mse: 1.5395956\n",
      "val pearson 0.6440030043800498\n",
      "val AUPR 0.6424504901398299\n",
      "val ci: 0.7250797493954202\n",
      "Epoch: 56\n"
     ]
    },
    {
     "name": "stderr",
     "output_type": "stream",
     "text": [
      "100%|██████████| 646/646 [02:23<00:00,  4.50it/s]\n",
      "  0%|          | 0/162 [00:00<?, ?it/s]"
     ]
    },
    {
     "name": "stdout",
     "output_type": "stream",
     "text": [
      "Average loss 0.07713209540689878\n"
     ]
    },
    {
     "name": "stderr",
     "output_type": "stream",
     "text": [
      "100%|██████████| 162/162 [00:14<00:00, 11.41it/s]\n",
      "  0%|          | 0/646 [00:00<?, ?it/s]"
     ]
    },
    {
     "name": "stdout",
     "output_type": "stream",
     "text": [
      "EarlyStopping counter: 10 out of 25\n",
      "val mse: 1.4975182\n",
      "val pearson 0.6480050179213364\n",
      "val AUPR 0.6401118543341981\n",
      "val ci: 0.7263340506610776\n",
      "Epoch: 57\n"
     ]
    },
    {
     "name": "stderr",
     "output_type": "stream",
     "text": [
      "100%|██████████| 646/646 [02:23<00:00,  4.50it/s]\n",
      "  0%|          | 0/162 [00:00<?, ?it/s]"
     ]
    },
    {
     "name": "stdout",
     "output_type": "stream",
     "text": [
      "Average loss 0.03596740133552913\n"
     ]
    },
    {
     "name": "stderr",
     "output_type": "stream",
     "text": [
      "100%|██████████| 162/162 [00:13<00:00, 11.97it/s]\n",
      "  0%|          | 0/646 [00:00<?, ?it/s]"
     ]
    },
    {
     "name": "stdout",
     "output_type": "stream",
     "text": [
      "EarlyStopping counter: 11 out of 25\n",
      "val mse: 1.4844757\n",
      "val pearson 0.6559809901940398\n",
      "val AUPR 0.645557775755606\n",
      "val ci: 0.7296561619295463\n",
      "Epoch: 58\n"
     ]
    },
    {
     "name": "stderr",
     "output_type": "stream",
     "text": [
      "100%|██████████| 646/646 [02:24<00:00,  4.46it/s]\n",
      "  0%|          | 0/162 [00:00<?, ?it/s]"
     ]
    },
    {
     "name": "stdout",
     "output_type": "stream",
     "text": [
      "Average loss 0.023191700516493514\n"
     ]
    },
    {
     "name": "stderr",
     "output_type": "stream",
     "text": [
      "100%|██████████| 162/162 [00:14<00:00, 11.08it/s]\n",
      "  0%|          | 0/646 [00:00<?, ?it/s]"
     ]
    },
    {
     "name": "stdout",
     "output_type": "stream",
     "text": [
      "EarlyStopping counter: 12 out of 25\n",
      "val mse: 1.469439\n",
      "val pearson 0.6567119163446014\n",
      "val AUPR 0.648832416303691\n",
      "val ci: 0.7298164388159218\n",
      "Epoch: 59\n"
     ]
    },
    {
     "name": "stderr",
     "output_type": "stream",
     "text": [
      "100%|██████████| 646/646 [02:24<00:00,  4.46it/s]\n",
      "  0%|          | 0/162 [00:00<?, ?it/s]"
     ]
    },
    {
     "name": "stdout",
     "output_type": "stream",
     "text": [
      "Average loss 0.02090289601306474\n"
     ]
    },
    {
     "name": "stderr",
     "output_type": "stream",
     "text": [
      "100%|██████████| 162/162 [00:13<00:00, 12.08it/s]\n",
      "  0%|          | 0/646 [00:00<?, ?it/s]"
     ]
    },
    {
     "name": "stdout",
     "output_type": "stream",
     "text": [
      "EarlyStopping counter: 13 out of 25\n",
      "val mse: 1.4797125\n",
      "val pearson 0.6531033839554321\n",
      "val AUPR 0.6478320658559555\n",
      "val ci: 0.7290050325323245\n",
      "Epoch: 60\n"
     ]
    },
    {
     "name": "stderr",
     "output_type": "stream",
     "text": [
      "100%|██████████| 646/646 [02:21<00:00,  4.56it/s]\n",
      "  0%|          | 0/162 [00:00<?, ?it/s]"
     ]
    },
    {
     "name": "stdout",
     "output_type": "stream",
     "text": [
      "Average loss 0.019756812559031296\n"
     ]
    },
    {
     "name": "stderr",
     "output_type": "stream",
     "text": [
      "100%|██████████| 162/162 [00:13<00:00, 12.10it/s]\n",
      "  0%|          | 0/646 [00:00<?, ?it/s]"
     ]
    },
    {
     "name": "stdout",
     "output_type": "stream",
     "text": [
      "EarlyStopping counter: 14 out of 25\n",
      "val mse: 1.4699233\n",
      "val pearson 0.6541374529260046\n",
      "val AUPR 0.6451146143594384\n",
      "val ci: 0.7294202319124536\n",
      "Epoch: 61\n"
     ]
    },
    {
     "name": "stderr",
     "output_type": "stream",
     "text": [
      "100%|██████████| 646/646 [02:24<00:00,  4.46it/s]\n",
      "  0%|          | 0/162 [00:00<?, ?it/s]"
     ]
    },
    {
     "name": "stdout",
     "output_type": "stream",
     "text": [
      "Average loss 0.031014504953469194\n"
     ]
    },
    {
     "name": "stderr",
     "output_type": "stream",
     "text": [
      "100%|██████████| 162/162 [00:13<00:00, 11.72it/s]\n",
      "  0%|          | 0/646 [00:00<?, ?it/s]"
     ]
    },
    {
     "name": "stdout",
     "output_type": "stream",
     "text": [
      "EarlyStopping counter: 15 out of 25\n",
      "val mse: 1.4889629\n",
      "val pearson 0.657893270352617\n",
      "val AUPR 0.6467969911649929\n",
      "val ci: 0.7297286355685565\n",
      "Epoch: 62\n"
     ]
    },
    {
     "name": "stderr",
     "output_type": "stream",
     "text": [
      "100%|██████████| 646/646 [02:25<00:00,  4.45it/s]\n",
      "  0%|          | 0/162 [00:00<?, ?it/s]"
     ]
    },
    {
     "name": "stdout",
     "output_type": "stream",
     "text": [
      "Average loss 0.05851858406509316\n"
     ]
    },
    {
     "name": "stderr",
     "output_type": "stream",
     "text": [
      "100%|██████████| 162/162 [00:13<00:00, 11.79it/s]\n",
      "  0%|          | 0/646 [00:00<?, ?it/s]"
     ]
    },
    {
     "name": "stdout",
     "output_type": "stream",
     "text": [
      "EarlyStopping counter: 16 out of 25\n",
      "val mse: 1.5196396\n",
      "val pearson 0.6446976049343618\n",
      "val AUPR 0.6417554459225218\n",
      "val ci: 0.7245724691196738\n",
      "Epoch: 63\n"
     ]
    },
    {
     "name": "stderr",
     "output_type": "stream",
     "text": [
      "100%|██████████| 646/646 [02:25<00:00,  4.44it/s]\n",
      "  0%|          | 0/162 [00:00<?, ?it/s]"
     ]
    },
    {
     "name": "stdout",
     "output_type": "stream",
     "text": [
      "Average loss 0.045425281251547135\n"
     ]
    },
    {
     "name": "stderr",
     "output_type": "stream",
     "text": [
      "100%|██████████| 162/162 [00:13<00:00, 11.90it/s]\n",
      "  0%|          | 0/646 [00:00<?, ?it/s]"
     ]
    },
    {
     "name": "stdout",
     "output_type": "stream",
     "text": [
      "EarlyStopping counter: 17 out of 25\n",
      "val mse: 1.4880652\n",
      "val pearson 0.6495359264841469\n",
      "val AUPR 0.6447356027761602\n",
      "val ci: 0.7269519819412005\n",
      "Epoch: 64\n"
     ]
    },
    {
     "name": "stderr",
     "output_type": "stream",
     "text": [
      "100%|██████████| 646/646 [02:25<00:00,  4.45it/s]\n",
      "  0%|          | 0/162 [00:00<?, ?it/s]"
     ]
    },
    {
     "name": "stdout",
     "output_type": "stream",
     "text": [
      "Average loss 0.028168099610878863\n"
     ]
    },
    {
     "name": "stderr",
     "output_type": "stream",
     "text": [
      "100%|██████████| 162/162 [00:13<00:00, 11.73it/s]\n",
      "  0%|          | 0/646 [00:00<?, ?it/s]"
     ]
    },
    {
     "name": "stdout",
     "output_type": "stream",
     "text": [
      "EarlyStopping counter: 18 out of 25\n",
      "val mse: 1.504418\n",
      "val pearson 0.6460136901128081\n",
      "val AUPR 0.6418879621351763\n",
      "val ci: 0.7248945363774071\n",
      "Epoch: 65\n"
     ]
    },
    {
     "name": "stderr",
     "output_type": "stream",
     "text": [
      "100%|██████████| 646/646 [02:21<00:00,  4.56it/s]\n",
      "  0%|          | 0/162 [00:00<?, ?it/s]"
     ]
    },
    {
     "name": "stdout",
     "output_type": "stream",
     "text": [
      "Average loss 0.024294325779120066\n"
     ]
    },
    {
     "name": "stderr",
     "output_type": "stream",
     "text": [
      "100%|██████████| 162/162 [00:15<00:00, 10.42it/s]\n",
      "  0%|          | 0/646 [00:00<?, ?it/s]"
     ]
    },
    {
     "name": "stdout",
     "output_type": "stream",
     "text": [
      "EarlyStopping counter: 19 out of 25\n",
      "val mse: 1.5029336\n",
      "val pearson 0.6492538836249451\n",
      "val AUPR 0.6482660484327668\n",
      "val ci: 0.7273462670707145\n",
      "Epoch: 66\n"
     ]
    },
    {
     "name": "stderr",
     "output_type": "stream",
     "text": [
      "100%|██████████| 646/646 [02:20<00:00,  4.59it/s]\n",
      "  0%|          | 0/162 [00:00<?, ?it/s]"
     ]
    },
    {
     "name": "stdout",
     "output_type": "stream",
     "text": [
      "Average loss 0.030077473779465576\n"
     ]
    },
    {
     "name": "stderr",
     "output_type": "stream",
     "text": [
      "100%|██████████| 162/162 [00:15<00:00, 10.14it/s]\n",
      "  0%|          | 0/646 [00:00<?, ?it/s]"
     ]
    },
    {
     "name": "stdout",
     "output_type": "stream",
     "text": [
      "EarlyStopping counter: 20 out of 25\n",
      "val mse: 1.6005307\n",
      "val pearson 0.6338592049551979\n",
      "val AUPR 0.6396202319972468\n",
      "val ci: 0.7197286554667777\n",
      "Epoch: 67\n"
     ]
    },
    {
     "name": "stderr",
     "output_type": "stream",
     "text": [
      "100%|██████████| 646/646 [02:22<00:00,  4.54it/s]\n",
      "  0%|          | 0/162 [00:00<?, ?it/s]"
     ]
    },
    {
     "name": "stdout",
     "output_type": "stream",
     "text": [
      "Average loss 0.05959878559728894\n"
     ]
    },
    {
     "name": "stderr",
     "output_type": "stream",
     "text": [
      "100%|██████████| 162/162 [00:13<00:00, 11.67it/s]\n",
      "  0%|          | 0/646 [00:00<?, ?it/s]"
     ]
    },
    {
     "name": "stdout",
     "output_type": "stream",
     "text": [
      "EarlyStopping counter: 21 out of 25\n",
      "val mse: 1.5416329\n",
      "val pearson 0.6389055749588682\n",
      "val AUPR 0.6286024815814497\n",
      "val ci: 0.7221297207837493\n",
      "Epoch: 68\n"
     ]
    },
    {
     "name": "stderr",
     "output_type": "stream",
     "text": [
      "100%|██████████| 646/646 [02:25<00:00,  4.43it/s]\n",
      "  0%|          | 0/162 [00:00<?, ?it/s]"
     ]
    },
    {
     "name": "stdout",
     "output_type": "stream",
     "text": [
      "Average loss 0.049004997850479355\n"
     ]
    },
    {
     "name": "stderr",
     "output_type": "stream",
     "text": [
      "100%|██████████| 162/162 [00:13<00:00, 12.04it/s]\n",
      "  0%|          | 0/646 [00:00<?, ?it/s]"
     ]
    },
    {
     "name": "stdout",
     "output_type": "stream",
     "text": [
      "EarlyStopping counter: 22 out of 25\n",
      "val mse: 1.5423928\n",
      "val pearson 0.6431783991908564\n",
      "val AUPR 0.6470183157032564\n",
      "val ci: 0.7252418166524026\n",
      "Epoch: 69\n"
     ]
    },
    {
     "name": "stderr",
     "output_type": "stream",
     "text": [
      "100%|██████████| 646/646 [02:26<00:00,  4.40it/s]\n",
      "  0%|          | 0/162 [00:00<?, ?it/s]"
     ]
    },
    {
     "name": "stdout",
     "output_type": "stream",
     "text": [
      "Average loss 0.024409470638554347\n"
     ]
    },
    {
     "name": "stderr",
     "output_type": "stream",
     "text": [
      "100%|██████████| 162/162 [00:14<00:00, 11.10it/s]\n",
      "  0%|          | 0/646 [00:00<?, ?it/s]"
     ]
    },
    {
     "name": "stdout",
     "output_type": "stream",
     "text": [
      "EarlyStopping counter: 23 out of 25\n",
      "val mse: 1.5198469\n",
      "val pearson 0.6501837611823207\n",
      "val AUPR 0.6538638054402776\n",
      "val ci: 0.728130972663439\n",
      "Epoch: 70\n"
     ]
    },
    {
     "name": "stderr",
     "output_type": "stream",
     "text": [
      "100%|██████████| 646/646 [02:24<00:00,  4.46it/s]\n",
      "  0%|          | 0/162 [00:00<?, ?it/s]"
     ]
    },
    {
     "name": "stdout",
     "output_type": "stream",
     "text": [
      "Average loss 0.022866817864505777\n"
     ]
    },
    {
     "name": "stderr",
     "output_type": "stream",
     "text": [
      "100%|██████████| 162/162 [00:14<00:00, 10.93it/s]\n",
      "  0%|          | 0/646 [00:00<?, ?it/s]"
     ]
    },
    {
     "name": "stdout",
     "output_type": "stream",
     "text": [
      "EarlyStopping counter: 24 out of 25\n",
      "val mse: 1.5368569\n",
      "val pearson 0.6396858531646259\n",
      "val AUPR 0.641133058786664\n",
      "val ci: 0.7230176296268445\n",
      "Epoch: 71\n"
     ]
    },
    {
     "name": "stderr",
     "output_type": "stream",
     "text": [
      "100%|██████████| 646/646 [02:25<00:00,  4.45it/s]\n",
      "  0%|          | 0/162 [00:00<?, ?it/s]"
     ]
    },
    {
     "name": "stdout",
     "output_type": "stream",
     "text": [
      "Average loss 0.0358441484264522\n"
     ]
    },
    {
     "name": "stderr",
     "output_type": "stream",
     "text": [
      "100%|██████████| 162/162 [00:13<00:00, 12.08it/s]\n",
      "  0%|          | 0/202 [00:00<?, ?it/s]"
     ]
    },
    {
     "name": "stdout",
     "output_type": "stream",
     "text": [
      "EarlyStopping counter: 25 out of 25\n",
      "Early stopping\n"
     ]
    },
    {
     "name": "stderr",
     "output_type": "stream",
     "text": [
      "100%|██████████| 202/202 [00:18<00:00, 10.79it/s]\n"
     ]
    },
    {
     "name": "stdout",
     "output_type": "stream",
     "text": [
      "-------------------test results---------------------------------\n",
      "val mse: 0.80987966\n",
      "val pearson 0.8228486352151826\n",
      "val AUPR 0.7863616483724958\n",
      "val ci: 0.8177364242460283\n",
      "-------------------test results---------------------------------\n"
     ]
    },
    {
     "name": "stderr",
     "output_type": "stream",
     "text": [
      "100%|██████████| 646/646 [02:24<00:00,  4.46it/s]\n",
      "  0%|          | 0/162 [00:00<?, ?it/s]"
     ]
    },
    {
     "name": "stdout",
     "output_type": "stream",
     "text": [
      "Average loss 2.370896876596445\n"
     ]
    },
    {
     "name": "stderr",
     "output_type": "stream",
     "text": [
      "100%|██████████| 162/162 [00:13<00:00, 11.91it/s]\n"
     ]
    },
    {
     "name": "stdout",
     "output_type": "stream",
     "text": [
      "Validation loss decreased (inf --> 0.701338).  Saving model ...\n"
     ]
    },
    {
     "name": "stderr",
     "output_type": "stream",
     "text": [
      "\r",
      "  0%|          | 0/646 [00:00<?, ?it/s]"
     ]
    },
    {
     "name": "stdout",
     "output_type": "stream",
     "text": [
      "val mse: 1.6641812\n",
      "val pearson 0.5908887529494804\n",
      "val AUPR 0.5376460053668523\n",
      "val ci: 0.7013384908105844\n",
      "Epoch: 2\n"
     ]
    },
    {
     "name": "stderr",
     "output_type": "stream",
     "text": [
      "100%|██████████| 646/646 [02:27<00:00,  4.38it/s]\n",
      "  0%|          | 0/162 [00:00<?, ?it/s]"
     ]
    },
    {
     "name": "stdout",
     "output_type": "stream",
     "text": [
      "Average loss 1.376464030137372\n"
     ]
    },
    {
     "name": "stderr",
     "output_type": "stream",
     "text": [
      "100%|██████████| 162/162 [00:14<00:00, 11.21it/s]\n"
     ]
    },
    {
     "name": "stdout",
     "output_type": "stream",
     "text": [
      "Validation loss decreased (0.701338 --> 0.701449).  Saving model ...\n"
     ]
    },
    {
     "name": "stderr",
     "output_type": "stream",
     "text": [
      "\r",
      "  0%|          | 0/646 [00:00<?, ?it/s]"
     ]
    },
    {
     "name": "stdout",
     "output_type": "stream",
     "text": [
      "val mse: 1.6116325\n",
      "val pearson 0.6045814262002002\n",
      "val AUPR 0.5595205577560052\n",
      "val ci: 0.7014494015916817\n",
      "Epoch: 3\n"
     ]
    },
    {
     "name": "stderr",
     "output_type": "stream",
     "text": [
      "100%|██████████| 646/646 [02:24<00:00,  4.48it/s]\n",
      "  0%|          | 0/162 [00:00<?, ?it/s]"
     ]
    },
    {
     "name": "stdout",
     "output_type": "stream",
     "text": [
      "Average loss 1.1788182816822832\n"
     ]
    },
    {
     "name": "stderr",
     "output_type": "stream",
     "text": [
      "100%|██████████| 162/162 [00:13<00:00, 12.19it/s]\n"
     ]
    },
    {
     "name": "stdout",
     "output_type": "stream",
     "text": [
      "Validation loss decreased (0.701449 --> 0.703520).  Saving model ...\n"
     ]
    },
    {
     "name": "stderr",
     "output_type": "stream",
     "text": [
      "\r",
      "  0%|          | 0/646 [00:00<?, ?it/s]"
     ]
    },
    {
     "name": "stdout",
     "output_type": "stream",
     "text": [
      "val mse: 1.609042\n",
      "val pearson 0.6079980307443736\n",
      "val AUPR 0.5670548240799631\n",
      "val ci: 0.7035197791917605\n",
      "Epoch: 4\n"
     ]
    },
    {
     "name": "stderr",
     "output_type": "stream",
     "text": [
      "100%|██████████| 646/646 [02:26<00:00,  4.42it/s]\n",
      "  0%|          | 0/162 [00:00<?, ?it/s]"
     ]
    },
    {
     "name": "stdout",
     "output_type": "stream",
     "text": [
      "Average loss 1.0150631909769017\n"
     ]
    },
    {
     "name": "stderr",
     "output_type": "stream",
     "text": [
      "100%|██████████| 162/162 [00:13<00:00, 11.91it/s]\n"
     ]
    },
    {
     "name": "stdout",
     "output_type": "stream",
     "text": [
      "Validation loss decreased (0.703520 --> 0.705684).  Saving model ...\n"
     ]
    },
    {
     "name": "stderr",
     "output_type": "stream",
     "text": [
      "\r",
      "  0%|          | 0/646 [00:00<?, ?it/s]"
     ]
    },
    {
     "name": "stdout",
     "output_type": "stream",
     "text": [
      "val mse: 1.6230257\n",
      "val pearson 0.6053404430624513\n",
      "val AUPR 0.5975197108891247\n",
      "val ci: 0.7056836023983142\n",
      "Epoch: 5\n"
     ]
    },
    {
     "name": "stderr",
     "output_type": "stream",
     "text": [
      "100%|██████████| 646/646 [02:24<00:00,  4.48it/s]\n",
      "  0%|          | 0/162 [00:00<?, ?it/s]"
     ]
    },
    {
     "name": "stdout",
     "output_type": "stream",
     "text": [
      "Average loss 0.8912263432338879\n"
     ]
    },
    {
     "name": "stderr",
     "output_type": "stream",
     "text": [
      "100%|██████████| 162/162 [00:13<00:00, 11.98it/s]\n"
     ]
    },
    {
     "name": "stdout",
     "output_type": "stream",
     "text": [
      "Validation loss decreased (0.705684 --> 0.709737).  Saving model ...\n"
     ]
    },
    {
     "name": "stderr",
     "output_type": "stream",
     "text": [
      "\r",
      "  0%|          | 0/646 [00:00<?, ?it/s]"
     ]
    },
    {
     "name": "stdout",
     "output_type": "stream",
     "text": [
      "val mse: 2.1367202\n",
      "val pearson 0.6204612683657352\n",
      "val AUPR 0.6485652043474677\n",
      "val ci: 0.7097370880419241\n",
      "Epoch: 6\n"
     ]
    },
    {
     "name": "stderr",
     "output_type": "stream",
     "text": [
      "100%|██████████| 646/646 [02:22<00:00,  4.52it/s]\n",
      "  0%|          | 0/162 [00:00<?, ?it/s]"
     ]
    },
    {
     "name": "stdout",
     "output_type": "stream",
     "text": [
      "Average loss 0.7749793785552123\n"
     ]
    },
    {
     "name": "stderr",
     "output_type": "stream",
     "text": [
      "100%|██████████| 162/162 [00:13<00:00, 11.76it/s]\n"
     ]
    },
    {
     "name": "stdout",
     "output_type": "stream",
     "text": [
      "Validation loss decreased (0.709737 --> 0.715794).  Saving model ...\n"
     ]
    },
    {
     "name": "stderr",
     "output_type": "stream",
     "text": [
      "\r",
      "  0%|          | 0/646 [00:00<?, ?it/s]"
     ]
    },
    {
     "name": "stdout",
     "output_type": "stream",
     "text": [
      "val mse: 1.5499821\n",
      "val pearson 0.6334588350654569\n",
      "val AUPR 0.620998264139406\n",
      "val ci: 0.7157939768110632\n",
      "Epoch: 7\n"
     ]
    },
    {
     "name": "stderr",
     "output_type": "stream",
     "text": [
      "100%|██████████| 646/646 [02:24<00:00,  4.47it/s]\n",
      "  0%|          | 0/162 [00:00<?, ?it/s]"
     ]
    },
    {
     "name": "stdout",
     "output_type": "stream",
     "text": [
      "Average loss 0.6743534199962675\n"
     ]
    },
    {
     "name": "stderr",
     "output_type": "stream",
     "text": [
      "100%|██████████| 162/162 [00:13<00:00, 11.78it/s]\n",
      "  0%|          | 0/646 [00:00<?, ?it/s]"
     ]
    },
    {
     "name": "stdout",
     "output_type": "stream",
     "text": [
      "EarlyStopping counter: 1 out of 25\n",
      "val mse: 1.542962\n",
      "val pearson 0.6313162993972007\n",
      "val AUPR 0.6079524712187083\n",
      "val ci: 0.7145248806793959\n",
      "Epoch: 8\n"
     ]
    },
    {
     "name": "stderr",
     "output_type": "stream",
     "text": [
      "100%|██████████| 646/646 [02:25<00:00,  4.45it/s]\n",
      "  0%|          | 0/162 [00:00<?, ?it/s]"
     ]
    },
    {
     "name": "stdout",
     "output_type": "stream",
     "text": [
      "Average loss 0.5997836325928891\n"
     ]
    },
    {
     "name": "stderr",
     "output_type": "stream",
     "text": [
      "100%|██████████| 162/162 [00:13<00:00, 11.76it/s]\n"
     ]
    },
    {
     "name": "stdout",
     "output_type": "stream",
     "text": [
      "Validation loss decreased (0.715794 --> 0.716446).  Saving model ...\n"
     ]
    },
    {
     "name": "stderr",
     "output_type": "stream",
     "text": [
      "\r",
      "  0%|          | 0/646 [00:00<?, ?it/s]"
     ]
    },
    {
     "name": "stdout",
     "output_type": "stream",
     "text": [
      "val mse: 1.5483483\n",
      "val pearson 0.6312397912522649\n",
      "val AUPR 0.6232663131714451\n",
      "val ci: 0.7164460592739634\n",
      "Epoch: 9\n"
     ]
    },
    {
     "name": "stderr",
     "output_type": "stream",
     "text": [
      "100%|██████████| 646/646 [02:25<00:00,  4.44it/s]\n",
      "  0%|          | 0/162 [00:00<?, ?it/s]"
     ]
    },
    {
     "name": "stdout",
     "output_type": "stream",
     "text": [
      "Average loss 0.5366148184696587\n"
     ]
    },
    {
     "name": "stderr",
     "output_type": "stream",
     "text": [
      "100%|██████████| 162/162 [00:14<00:00, 11.26it/s]\n"
     ]
    },
    {
     "name": "stdout",
     "output_type": "stream",
     "text": [
      "Validation loss decreased (0.716446 --> 0.719213).  Saving model ...\n"
     ]
    },
    {
     "name": "stderr",
     "output_type": "stream",
     "text": [
      "\r",
      "  0%|          | 0/646 [00:00<?, ?it/s]"
     ]
    },
    {
     "name": "stdout",
     "output_type": "stream",
     "text": [
      "val mse: 1.9834789\n",
      "val pearson 0.6449166023193461\n",
      "val AUPR 0.6517086181529946\n",
      "val ci: 0.719212589395331\n",
      "Epoch: 10\n"
     ]
    },
    {
     "name": "stderr",
     "output_type": "stream",
     "text": [
      "100%|██████████| 646/646 [02:20<00:00,  4.61it/s]\n",
      "  0%|          | 0/162 [00:00<?, ?it/s]"
     ]
    },
    {
     "name": "stdout",
     "output_type": "stream",
     "text": [
      "Average loss 0.4716901475615546\n"
     ]
    },
    {
     "name": "stderr",
     "output_type": "stream",
     "text": [
      "100%|██████████| 162/162 [00:14<00:00, 11.17it/s]\n",
      "  0%|          | 0/646 [00:00<?, ?it/s]"
     ]
    },
    {
     "name": "stdout",
     "output_type": "stream",
     "text": [
      "EarlyStopping counter: 1 out of 25\n",
      "val mse: 1.6017854\n",
      "val pearson 0.6259951977461881\n",
      "val AUPR 0.647281826536953\n",
      "val ci: 0.7160130717129174\n",
      "Epoch: 11\n"
     ]
    },
    {
     "name": "stderr",
     "output_type": "stream",
     "text": [
      "100%|██████████| 646/646 [02:21<00:00,  4.57it/s]\n",
      "  0%|          | 0/162 [00:00<?, ?it/s]"
     ]
    },
    {
     "name": "stdout",
     "output_type": "stream",
     "text": [
      "Average loss 0.41582114046479896\n"
     ]
    },
    {
     "name": "stderr",
     "output_type": "stream",
     "text": [
      "100%|██████████| 162/162 [00:13<00:00, 12.10it/s]\n",
      "  0%|          | 0/646 [00:00<?, ?it/s]"
     ]
    },
    {
     "name": "stdout",
     "output_type": "stream",
     "text": [
      "EarlyStopping counter: 2 out of 25\n",
      "val mse: 1.6833822\n",
      "val pearson 0.6313462622190282\n",
      "val AUPR 0.6444363031676639\n",
      "val ci: 0.7157294779188358\n",
      "Epoch: 12\n"
     ]
    },
    {
     "name": "stderr",
     "output_type": "stream",
     "text": [
      "100%|██████████| 646/646 [02:24<00:00,  4.47it/s]\n",
      "  0%|          | 0/162 [00:00<?, ?it/s]"
     ]
    },
    {
     "name": "stdout",
     "output_type": "stream",
     "text": [
      "Average loss 0.36722106205143795\n"
     ]
    },
    {
     "name": "stderr",
     "output_type": "stream",
     "text": [
      "100%|██████████| 162/162 [00:13<00:00, 11.87it/s]\n"
     ]
    },
    {
     "name": "stdout",
     "output_type": "stream",
     "text": [
      "Validation loss decreased (0.719213 --> 0.723690).  Saving model ...\n"
     ]
    },
    {
     "name": "stderr",
     "output_type": "stream",
     "text": [
      "\r",
      "  0%|          | 0/646 [00:00<?, ?it/s]"
     ]
    },
    {
     "name": "stdout",
     "output_type": "stream",
     "text": [
      "val mse: 1.5796592\n",
      "val pearson 0.6424194827552581\n",
      "val AUPR 0.6561002129307276\n",
      "val ci: 0.7236899440095552\n",
      "Epoch: 13\n"
     ]
    },
    {
     "name": "stderr",
     "output_type": "stream",
     "text": [
      "100%|██████████| 646/646 [02:24<00:00,  4.48it/s]\n",
      "  0%|          | 0/162 [00:00<?, ?it/s]"
     ]
    },
    {
     "name": "stdout",
     "output_type": "stream",
     "text": [
      "Average loss 0.3386778446727493\n"
     ]
    },
    {
     "name": "stderr",
     "output_type": "stream",
     "text": [
      "100%|██████████| 162/162 [00:13<00:00, 11.88it/s]\n",
      "  0%|          | 0/646 [00:00<?, ?it/s]"
     ]
    },
    {
     "name": "stdout",
     "output_type": "stream",
     "text": [
      "EarlyStopping counter: 1 out of 25\n",
      "val mse: 1.6064663\n",
      "val pearson 0.6233852447336359\n",
      "val AUPR 0.6382200200236744\n",
      "val ci: 0.7129110896274888\n",
      "Epoch: 14\n"
     ]
    },
    {
     "name": "stderr",
     "output_type": "stream",
     "text": [
      "100%|██████████| 646/646 [02:25<00:00,  4.45it/s]\n",
      "  0%|          | 0/162 [00:00<?, ?it/s]"
     ]
    },
    {
     "name": "stdout",
     "output_type": "stream",
     "text": [
      "Average loss 0.2992272829585031\n"
     ]
    },
    {
     "name": "stderr",
     "output_type": "stream",
     "text": [
      "100%|██████████| 162/162 [00:13<00:00, 12.12it/s]\n",
      "  0%|          | 0/646 [00:00<?, ?it/s]"
     ]
    },
    {
     "name": "stdout",
     "output_type": "stream",
     "text": [
      "EarlyStopping counter: 2 out of 25\n",
      "val mse: 1.5612878\n",
      "val pearson 0.6424057014951041\n",
      "val AUPR 0.6435233587837039\n",
      "val ci: 0.7202288593494219\n",
      "Epoch: 15\n"
     ]
    },
    {
     "name": "stderr",
     "output_type": "stream",
     "text": [
      "100%|██████████| 646/646 [02:25<00:00,  4.44it/s]\n",
      "  0%|          | 0/162 [00:00<?, ?it/s]"
     ]
    },
    {
     "name": "stdout",
     "output_type": "stream",
     "text": [
      "Average loss 0.26830870406730994\n"
     ]
    },
    {
     "name": "stderr",
     "output_type": "stream",
     "text": [
      "100%|██████████| 162/162 [00:13<00:00, 11.81it/s]\n"
     ]
    },
    {
     "name": "stdout",
     "output_type": "stream",
     "text": [
      "Validation loss decreased (0.723690 --> 0.724524).  Saving model ...\n"
     ]
    },
    {
     "name": "stderr",
     "output_type": "stream",
     "text": [
      "\r",
      "  0%|          | 0/646 [00:00<?, ?it/s]"
     ]
    },
    {
     "name": "stdout",
     "output_type": "stream",
     "text": [
      "val mse: 1.5348763\n",
      "val pearson 0.644103769268015\n",
      "val AUPR 0.6431882176632684\n",
      "val ci: 0.7245243748158536\n",
      "Epoch: 16\n"
     ]
    },
    {
     "name": "stderr",
     "output_type": "stream",
     "text": [
      "100%|██████████| 646/646 [02:25<00:00,  4.44it/s]\n",
      "  0%|          | 0/162 [00:00<?, ?it/s]"
     ]
    },
    {
     "name": "stdout",
     "output_type": "stream",
     "text": [
      "Average loss 0.24611507280046357\n"
     ]
    },
    {
     "name": "stderr",
     "output_type": "stream",
     "text": [
      "100%|██████████| 162/162 [00:13<00:00, 11.95it/s]\n",
      "  0%|          | 0/646 [00:00<?, ?it/s]"
     ]
    },
    {
     "name": "stdout",
     "output_type": "stream",
     "text": [
      "EarlyStopping counter: 1 out of 25\n",
      "val mse: 1.5830417\n",
      "val pearson 0.6439437438201459\n",
      "val AUPR 0.6187822939253913\n",
      "val ci: 0.7230135750281352\n",
      "Epoch: 17\n"
     ]
    },
    {
     "name": "stderr",
     "output_type": "stream",
     "text": [
      "100%|██████████| 646/646 [02:24<00:00,  4.48it/s]\n",
      "  0%|          | 0/162 [00:00<?, ?it/s]"
     ]
    },
    {
     "name": "stdout",
     "output_type": "stream",
     "text": [
      "Average loss 0.22266285933392704\n"
     ]
    },
    {
     "name": "stderr",
     "output_type": "stream",
     "text": [
      "100%|██████████| 162/162 [00:13<00:00, 11.73it/s]\n",
      "  0%|          | 0/646 [00:00<?, ?it/s]"
     ]
    },
    {
     "name": "stdout",
     "output_type": "stream",
     "text": [
      "EarlyStopping counter: 2 out of 25\n",
      "val mse: 1.5435971\n",
      "val pearson 0.6424733270792437\n",
      "val AUPR 0.6485415382374828\n",
      "val ci: 0.7210103924758179\n",
      "Epoch: 18\n"
     ]
    },
    {
     "name": "stderr",
     "output_type": "stream",
     "text": [
      "100%|██████████| 646/646 [02:23<00:00,  4.51it/s]\n",
      "  0%|          | 0/162 [00:00<?, ?it/s]"
     ]
    },
    {
     "name": "stdout",
     "output_type": "stream",
     "text": [
      "Average loss 0.20449915568664348\n"
     ]
    },
    {
     "name": "stderr",
     "output_type": "stream",
     "text": [
      "100%|██████████| 162/162 [00:13<00:00, 11.86it/s]\n"
     ]
    },
    {
     "name": "stdout",
     "output_type": "stream",
     "text": [
      "Validation loss decreased (0.724524 --> 0.724602).  Saving model ...\n"
     ]
    },
    {
     "name": "stderr",
     "output_type": "stream",
     "text": [
      "\r",
      "  0%|          | 0/646 [00:00<?, ?it/s]"
     ]
    },
    {
     "name": "stdout",
     "output_type": "stream",
     "text": [
      "val mse: 1.4893178\n",
      "val pearson 0.6503574619461124\n",
      "val AUPR 0.6463729839245795\n",
      "val ci: 0.7246016059447465\n",
      "Epoch: 19\n"
     ]
    },
    {
     "name": "stderr",
     "output_type": "stream",
     "text": [
      "100%|██████████| 646/646 [02:24<00:00,  4.48it/s]\n",
      "  0%|          | 0/162 [00:00<?, ?it/s]"
     ]
    },
    {
     "name": "stdout",
     "output_type": "stream",
     "text": [
      "Average loss 0.19280629377846747\n"
     ]
    },
    {
     "name": "stderr",
     "output_type": "stream",
     "text": [
      "100%|██████████| 162/162 [00:14<00:00, 11.24it/s]\n"
     ]
    },
    {
     "name": "stdout",
     "output_type": "stream",
     "text": [
      "Validation loss decreased (0.724602 --> 0.726106).  Saving model ...\n"
     ]
    },
    {
     "name": "stderr",
     "output_type": "stream",
     "text": [
      "\r",
      "  0%|          | 0/646 [00:00<?, ?it/s]"
     ]
    },
    {
     "name": "stdout",
     "output_type": "stream",
     "text": [
      "val mse: 1.4695638\n",
      "val pearson 0.6545684097273219\n",
      "val AUPR 0.6461370680652039\n",
      "val ci: 0.726105941060144\n",
      "Epoch: 20\n"
     ]
    },
    {
     "name": "stderr",
     "output_type": "stream",
     "text": [
      "100%|██████████| 646/646 [02:22<00:00,  4.55it/s]\n",
      "  0%|          | 0/162 [00:00<?, ?it/s]"
     ]
    },
    {
     "name": "stdout",
     "output_type": "stream",
     "text": [
      "Average loss 0.17372502458077096\n"
     ]
    },
    {
     "name": "stderr",
     "output_type": "stream",
     "text": [
      "100%|██████████| 162/162 [00:14<00:00, 11.13it/s]\n",
      "  0%|          | 0/646 [00:00<?, ?it/s]"
     ]
    },
    {
     "name": "stdout",
     "output_type": "stream",
     "text": [
      "EarlyStopping counter: 1 out of 25\n",
      "val mse: 1.5560744\n",
      "val pearson 0.6451867772593479\n",
      "val AUPR 0.646571579272893\n",
      "val ci: 0.7234099755943251\n",
      "Epoch: 21\n"
     ]
    },
    {
     "name": "stderr",
     "output_type": "stream",
     "text": [
      "100%|██████████| 646/646 [02:20<00:00,  4.59it/s]\n",
      "  0%|          | 0/162 [00:00<?, ?it/s]"
     ]
    },
    {
     "name": "stdout",
     "output_type": "stream",
     "text": [
      "Average loss 0.16583508865521418\n"
     ]
    },
    {
     "name": "stderr",
     "output_type": "stream",
     "text": [
      "100%|██████████| 162/162 [00:15<00:00, 10.50it/s]\n"
     ]
    },
    {
     "name": "stdout",
     "output_type": "stream",
     "text": [
      "Validation loss decreased (0.726106 --> 0.726474).  Saving model ...\n"
     ]
    },
    {
     "name": "stderr",
     "output_type": "stream",
     "text": [
      "\r",
      "  0%|          | 0/646 [00:00<?, ?it/s]"
     ]
    },
    {
     "name": "stdout",
     "output_type": "stream",
     "text": [
      "val mse: 1.487752\n",
      "val pearson 0.655473771620446\n",
      "val AUPR 0.6470717124426437\n",
      "val ci: 0.7264740448991039\n",
      "Epoch: 22\n"
     ]
    },
    {
     "name": "stderr",
     "output_type": "stream",
     "text": [
      "100%|██████████| 646/646 [02:23<00:00,  4.51it/s]\n",
      "  0%|          | 0/162 [00:00<?, ?it/s]"
     ]
    },
    {
     "name": "stdout",
     "output_type": "stream",
     "text": [
      "Average loss 0.1529431432808516\n"
     ]
    },
    {
     "name": "stderr",
     "output_type": "stream",
     "text": [
      "100%|██████████| 162/162 [00:13<00:00, 12.12it/s]\n",
      "  0%|          | 0/646 [00:00<?, ?it/s]"
     ]
    },
    {
     "name": "stdout",
     "output_type": "stream",
     "text": [
      "EarlyStopping counter: 1 out of 25\n",
      "val mse: 1.5164304\n",
      "val pearson 0.6426609159789282\n",
      "val AUPR 0.6429320168193214\n",
      "val ci: 0.7216292200072725\n",
      "Epoch: 23\n"
     ]
    },
    {
     "name": "stderr",
     "output_type": "stream",
     "text": [
      "100%|██████████| 646/646 [02:22<00:00,  4.52it/s]\n",
      "  0%|          | 0/162 [00:00<?, ?it/s]"
     ]
    },
    {
     "name": "stdout",
     "output_type": "stream",
     "text": [
      "Average loss 0.14262290889449164\n"
     ]
    },
    {
     "name": "stderr",
     "output_type": "stream",
     "text": [
      "100%|██████████| 162/162 [00:13<00:00, 11.61it/s]\n"
     ]
    },
    {
     "name": "stdout",
     "output_type": "stream",
     "text": [
      "Validation loss decreased (0.726474 --> 0.727453).  Saving model ...\n"
     ]
    },
    {
     "name": "stderr",
     "output_type": "stream",
     "text": [
      "\r",
      "  0%|          | 0/646 [00:00<?, ?it/s]"
     ]
    },
    {
     "name": "stdout",
     "output_type": "stream",
     "text": [
      "val mse: 1.4783248\n",
      "val pearson 0.6544319181572329\n",
      "val AUPR 0.6485628134129505\n",
      "val ci: 0.7274528784168216\n",
      "Epoch: 24\n"
     ]
    },
    {
     "name": "stderr",
     "output_type": "stream",
     "text": [
      "100%|██████████| 646/646 [02:23<00:00,  4.49it/s]\n",
      "  0%|          | 0/162 [00:00<?, ?it/s]"
     ]
    },
    {
     "name": "stdout",
     "output_type": "stream",
     "text": [
      "Average loss 0.13421663164446598\n"
     ]
    },
    {
     "name": "stderr",
     "output_type": "stream",
     "text": [
      "100%|██████████| 162/162 [00:13<00:00, 12.06it/s]\n",
      "  0%|          | 0/646 [00:00<?, ?it/s]"
     ]
    },
    {
     "name": "stdout",
     "output_type": "stream",
     "text": [
      "EarlyStopping counter: 1 out of 25\n",
      "val mse: 1.54085\n",
      "val pearson 0.6441933917068527\n",
      "val AUPR 0.6454948938584748\n",
      "val ci: 0.7217689132459699\n",
      "Epoch: 25\n"
     ]
    },
    {
     "name": "stderr",
     "output_type": "stream",
     "text": [
      "100%|██████████| 646/646 [02:24<00:00,  4.46it/s]\n",
      "  0%|          | 0/162 [00:00<?, ?it/s]"
     ]
    },
    {
     "name": "stdout",
     "output_type": "stream",
     "text": [
      "Average loss 0.1259764888476661\n"
     ]
    },
    {
     "name": "stderr",
     "output_type": "stream",
     "text": [
      "100%|██████████| 162/162 [00:13<00:00, 12.05it/s]\n",
      "  0%|          | 0/646 [00:00<?, ?it/s]"
     ]
    },
    {
     "name": "stdout",
     "output_type": "stream",
     "text": [
      "EarlyStopping counter: 2 out of 25\n",
      "val mse: 1.6195052\n",
      "val pearson 0.6512406989758011\n",
      "val AUPR 0.6540665948996769\n",
      "val ci: 0.7251061742060287\n",
      "Epoch: 26\n"
     ]
    },
    {
     "name": "stderr",
     "output_type": "stream",
     "text": [
      "100%|██████████| 646/646 [02:26<00:00,  4.40it/s]\n",
      "  0%|          | 0/162 [00:00<?, ?it/s]"
     ]
    },
    {
     "name": "stdout",
     "output_type": "stream",
     "text": [
      "Average loss 0.12185273563991021\n"
     ]
    },
    {
     "name": "stderr",
     "output_type": "stream",
     "text": [
      "100%|██████████| 162/162 [00:13<00:00, 11.89it/s]\n",
      "  0%|          | 0/646 [00:00<?, ?it/s]"
     ]
    },
    {
     "name": "stdout",
     "output_type": "stream",
     "text": [
      "EarlyStopping counter: 3 out of 25\n",
      "val mse: 1.540426\n",
      "val pearson 0.6409773289896381\n",
      "val AUPR 0.6295757084137809\n",
      "val ci: 0.7196705322341022\n",
      "Epoch: 27\n"
     ]
    },
    {
     "name": "stderr",
     "output_type": "stream",
     "text": [
      "100%|██████████| 646/646 [02:24<00:00,  4.48it/s]\n",
      "  0%|          | 0/162 [00:00<?, ?it/s]"
     ]
    },
    {
     "name": "stdout",
     "output_type": "stream",
     "text": [
      "Average loss 0.10864225401321062\n"
     ]
    },
    {
     "name": "stderr",
     "output_type": "stream",
     "text": [
      "100%|██████████| 162/162 [00:13<00:00, 12.03it/s]\n",
      "  0%|          | 0/646 [00:00<?, ?it/s]"
     ]
    },
    {
     "name": "stdout",
     "output_type": "stream",
     "text": [
      "EarlyStopping counter: 4 out of 25\n",
      "val mse: 1.5473081\n",
      "val pearson 0.6433493775764557\n",
      "val AUPR 0.6540385125703541\n",
      "val ci: 0.723289807777908\n",
      "Epoch: 28\n"
     ]
    },
    {
     "name": "stderr",
     "output_type": "stream",
     "text": [
      "100%|██████████| 646/646 [02:24<00:00,  4.46it/s]\n",
      "  0%|          | 0/162 [00:00<?, ?it/s]"
     ]
    },
    {
     "name": "stdout",
     "output_type": "stream",
     "text": [
      "Average loss 0.10432104450353528\n"
     ]
    },
    {
     "name": "stderr",
     "output_type": "stream",
     "text": [
      "100%|██████████| 162/162 [00:13<00:00, 11.81it/s]\n",
      "  0%|          | 0/646 [00:00<?, ?it/s]"
     ]
    },
    {
     "name": "stdout",
     "output_type": "stream",
     "text": [
      "EarlyStopping counter: 5 out of 25\n",
      "val mse: 1.5106033\n",
      "val pearson 0.647299082307772\n",
      "val AUPR 0.6411935671226955\n",
      "val ci: 0.7226793690680677\n",
      "Epoch: 29\n"
     ]
    },
    {
     "name": "stderr",
     "output_type": "stream",
     "text": [
      "100%|██████████| 646/646 [02:23<00:00,  4.50it/s]\n",
      "  0%|          | 0/162 [00:00<?, ?it/s]"
     ]
    },
    {
     "name": "stdout",
     "output_type": "stream",
     "text": [
      "Average loss 0.1035307822258849\n"
     ]
    },
    {
     "name": "stderr",
     "output_type": "stream",
     "text": [
      "100%|██████████| 162/162 [00:13<00:00, 11.75it/s]\n",
      "  0%|          | 0/646 [00:00<?, ?it/s]"
     ]
    },
    {
     "name": "stdout",
     "output_type": "stream",
     "text": [
      "EarlyStopping counter: 6 out of 25\n",
      "val mse: 1.5121416\n",
      "val pearson 0.6477033096127754\n",
      "val AUPR 0.6417495153237537\n",
      "val ci: 0.7238158866203758\n",
      "Epoch: 30\n"
     ]
    },
    {
     "name": "stderr",
     "output_type": "stream",
     "text": [
      "100%|██████████| 646/646 [02:23<00:00,  4.52it/s]\n",
      "  0%|          | 0/162 [00:00<?, ?it/s]"
     ]
    },
    {
     "name": "stdout",
     "output_type": "stream",
     "text": [
      "Average loss 0.095010834206876\n"
     ]
    },
    {
     "name": "stderr",
     "output_type": "stream",
     "text": [
      "100%|██████████| 162/162 [00:14<00:00, 11.06it/s]\n",
      "  0%|          | 0/646 [00:00<?, ?it/s]"
     ]
    },
    {
     "name": "stdout",
     "output_type": "stream",
     "text": [
      "EarlyStopping counter: 7 out of 25\n",
      "val mse: 1.5103115\n",
      "val pearson 0.6485779300597148\n",
      "val AUPR 0.6504863017119762\n",
      "val ci: 0.724856391469469\n",
      "Epoch: 31\n"
     ]
    },
    {
     "name": "stderr",
     "output_type": "stream",
     "text": [
      "100%|██████████| 646/646 [02:20<00:00,  4.60it/s]\n",
      "  0%|          | 0/162 [00:00<?, ?it/s]"
     ]
    },
    {
     "name": "stdout",
     "output_type": "stream",
     "text": [
      "Average loss 0.08585031088960614\n"
     ]
    },
    {
     "name": "stderr",
     "output_type": "stream",
     "text": [
      "100%|██████████| 162/162 [00:13<00:00, 11.68it/s]\n",
      "  0%|          | 0/646 [00:00<?, ?it/s]"
     ]
    },
    {
     "name": "stdout",
     "output_type": "stream",
     "text": [
      "EarlyStopping counter: 8 out of 25\n",
      "val mse: 1.5597854\n",
      "val pearson 0.648807961590663\n",
      "val AUPR 0.6475141572936183\n",
      "val ci: 0.7234066951544322\n",
      "Epoch: 32\n"
     ]
    },
    {
     "name": "stderr",
     "output_type": "stream",
     "text": [
      "100%|██████████| 646/646 [02:20<00:00,  4.59it/s]\n",
      "  0%|          | 0/162 [00:00<?, ?it/s]"
     ]
    },
    {
     "name": "stdout",
     "output_type": "stream",
     "text": [
      "Average loss 0.09359013063735083\n"
     ]
    },
    {
     "name": "stderr",
     "output_type": "stream",
     "text": [
      "100%|██████████| 162/162 [00:14<00:00, 10.99it/s]\n",
      "  0%|          | 0/646 [00:00<?, ?it/s]"
     ]
    },
    {
     "name": "stdout",
     "output_type": "stream",
     "text": [
      "EarlyStopping counter: 9 out of 25\n",
      "val mse: 1.4978626\n",
      "val pearson 0.6532888433137373\n",
      "val AUPR 0.6449892208386351\n",
      "val ci: 0.7272665245577602\n",
      "Epoch: 33\n"
     ]
    },
    {
     "name": "stderr",
     "output_type": "stream",
     "text": [
      "100%|██████████| 646/646 [02:23<00:00,  4.50it/s]\n",
      "  0%|          | 0/162 [00:00<?, ?it/s]"
     ]
    },
    {
     "name": "stdout",
     "output_type": "stream",
     "text": [
      "Average loss 0.08421672550217471\n"
     ]
    },
    {
     "name": "stderr",
     "output_type": "stream",
     "text": [
      "100%|██████████| 162/162 [00:13<00:00, 12.17it/s]\n",
      "  0%|          | 0/646 [00:00<?, ?it/s]"
     ]
    },
    {
     "name": "stdout",
     "output_type": "stream",
     "text": [
      "EarlyStopping counter: 10 out of 25\n",
      "val mse: 1.5182571\n",
      "val pearson 0.6481991476927919\n",
      "val AUPR 0.6521709825821356\n",
      "val ci: 0.7239235803177154\n",
      "Epoch: 34\n"
     ]
    },
    {
     "name": "stderr",
     "output_type": "stream",
     "text": [
      "100%|██████████| 646/646 [02:24<00:00,  4.47it/s]\n",
      "  0%|          | 0/162 [00:00<?, ?it/s]"
     ]
    },
    {
     "name": "stdout",
     "output_type": "stream",
     "text": [
      "Average loss 0.07959824855275013\n"
     ]
    },
    {
     "name": "stderr",
     "output_type": "stream",
     "text": [
      "100%|██████████| 162/162 [00:13<00:00, 12.22it/s]\n"
     ]
    },
    {
     "name": "stdout",
     "output_type": "stream",
     "text": [
      "Validation loss decreased (0.727453 --> 0.727787).  Saving model ...\n"
     ]
    },
    {
     "name": "stderr",
     "output_type": "stream",
     "text": [
      "\r",
      "  0%|          | 0/646 [00:00<?, ?it/s]"
     ]
    },
    {
     "name": "stdout",
     "output_type": "stream",
     "text": [
      "val mse: 1.4669365\n",
      "val pearson 0.6571755257138875\n",
      "val AUPR 0.6529469432718971\n",
      "val ci: 0.7277866455769892\n",
      "Epoch: 35\n"
     ]
    },
    {
     "name": "stderr",
     "output_type": "stream",
     "text": [
      "100%|██████████| 646/646 [02:23<00:00,  4.51it/s]\n",
      "  0%|          | 0/162 [00:00<?, ?it/s]"
     ]
    },
    {
     "name": "stdout",
     "output_type": "stream",
     "text": [
      "Average loss 0.07492548117742819\n"
     ]
    },
    {
     "name": "stderr",
     "output_type": "stream",
     "text": [
      "100%|██████████| 162/162 [00:13<00:00, 12.09it/s]\n",
      "  0%|          | 0/646 [00:00<?, ?it/s]"
     ]
    },
    {
     "name": "stdout",
     "output_type": "stream",
     "text": [
      "EarlyStopping counter: 1 out of 25\n",
      "val mse: 1.490393\n",
      "val pearson 0.6513674388274963\n",
      "val AUPR 0.6433688218759375\n",
      "val ci: 0.7256155575335914\n",
      "Epoch: 36\n"
     ]
    },
    {
     "name": "stderr",
     "output_type": "stream",
     "text": [
      "100%|██████████| 646/646 [02:22<00:00,  4.54it/s]\n",
      "  0%|          | 0/162 [00:00<?, ?it/s]"
     ]
    },
    {
     "name": "stdout",
     "output_type": "stream",
     "text": [
      "Average loss 0.06730698111925516\n"
     ]
    },
    {
     "name": "stderr",
     "output_type": "stream",
     "text": [
      "100%|██████████| 162/162 [00:13<00:00, 11.97it/s]\n",
      "  0%|          | 0/646 [00:00<?, ?it/s]"
     ]
    },
    {
     "name": "stdout",
     "output_type": "stream",
     "text": [
      "EarlyStopping counter: 2 out of 25\n",
      "val mse: 1.5669369\n",
      "val pearson 0.6468552951189338\n",
      "val AUPR 0.6544514908265155\n",
      "val ci: 0.724249768206886\n",
      "Epoch: 37\n"
     ]
    },
    {
     "name": "stderr",
     "output_type": "stream",
     "text": [
      "100%|██████████| 646/646 [02:23<00:00,  4.51it/s]\n",
      "  0%|          | 0/162 [00:00<?, ?it/s]"
     ]
    },
    {
     "name": "stdout",
     "output_type": "stream",
     "text": [
      "Average loss 0.06928922692688626\n"
     ]
    },
    {
     "name": "stderr",
     "output_type": "stream",
     "text": [
      "100%|██████████| 162/162 [00:14<00:00, 11.50it/s]\n",
      "  0%|          | 0/646 [00:00<?, ?it/s]"
     ]
    },
    {
     "name": "stdout",
     "output_type": "stream",
     "text": [
      "EarlyStopping counter: 3 out of 25\n",
      "val mse: 1.4942826\n",
      "val pearson 0.6532520140769063\n",
      "val AUPR 0.6444337598017331\n",
      "val ci: 0.7256465199115498\n",
      "Epoch: 38\n"
     ]
    },
    {
     "name": "stderr",
     "output_type": "stream",
     "text": [
      "100%|██████████| 646/646 [02:23<00:00,  4.50it/s]\n",
      "  0%|          | 0/162 [00:00<?, ?it/s]"
     ]
    },
    {
     "name": "stdout",
     "output_type": "stream",
     "text": [
      "Average loss 0.07432852786945485\n"
     ]
    },
    {
     "name": "stderr",
     "output_type": "stream",
     "text": [
      "100%|██████████| 162/162 [00:14<00:00, 11.39it/s]\n",
      "  0%|          | 0/646 [00:00<?, ?it/s]"
     ]
    },
    {
     "name": "stdout",
     "output_type": "stream",
     "text": [
      "EarlyStopping counter: 4 out of 25\n",
      "val mse: 1.5226073\n",
      "val pearson 0.6488755390338042\n",
      "val AUPR 0.6469122558362538\n",
      "val ci: 0.7241310669676744\n",
      "Epoch: 39\n"
     ]
    },
    {
     "name": "stderr",
     "output_type": "stream",
     "text": [
      "100%|██████████| 646/646 [02:20<00:00,  4.60it/s]\n",
      "  0%|          | 0/162 [00:00<?, ?it/s]"
     ]
    },
    {
     "name": "stdout",
     "output_type": "stream",
     "text": [
      "Average loss 0.06665611389920623\n"
     ]
    },
    {
     "name": "stderr",
     "output_type": "stream",
     "text": [
      "100%|██████████| 162/162 [00:13<00:00, 11.79it/s]\n",
      "  0%|          | 0/646 [00:00<?, ?it/s]"
     ]
    },
    {
     "name": "stdout",
     "output_type": "stream",
     "text": [
      "EarlyStopping counter: 5 out of 25\n",
      "val mse: 1.5382596\n",
      "val pearson 0.6400810151847615\n",
      "val AUPR 0.6463862636483402\n",
      "val ci: 0.7212755425949656\n",
      "Epoch: 40\n"
     ]
    },
    {
     "name": "stderr",
     "output_type": "stream",
     "text": [
      "100%|██████████| 646/646 [02:22<00:00,  4.54it/s]\n",
      "  0%|          | 0/162 [00:00<?, ?it/s]"
     ]
    },
    {
     "name": "stdout",
     "output_type": "stream",
     "text": [
      "Average loss 0.06220990267723522\n"
     ]
    },
    {
     "name": "stderr",
     "output_type": "stream",
     "text": [
      "100%|██████████| 162/162 [00:13<00:00, 12.13it/s]\n",
      "  0%|          | 0/646 [00:00<?, ?it/s]"
     ]
    },
    {
     "name": "stdout",
     "output_type": "stream",
     "text": [
      "EarlyStopping counter: 6 out of 25\n",
      "val mse: 1.5455294\n",
      "val pearson 0.6504885390971396\n",
      "val AUPR 0.6527761059237518\n",
      "val ci: 0.7254485014840283\n",
      "Epoch: 41\n"
     ]
    },
    {
     "name": "stderr",
     "output_type": "stream",
     "text": [
      "100%|██████████| 646/646 [02:21<00:00,  4.55it/s]\n",
      "  0%|          | 0/162 [00:00<?, ?it/s]"
     ]
    },
    {
     "name": "stdout",
     "output_type": "stream",
     "text": [
      "Average loss 0.06760714183800821\n"
     ]
    },
    {
     "name": "stderr",
     "output_type": "stream",
     "text": [
      "100%|██████████| 162/162 [00:13<00:00, 12.01it/s]\n",
      "  0%|          | 0/646 [00:00<?, ?it/s]"
     ]
    },
    {
     "name": "stdout",
     "output_type": "stream",
     "text": [
      "EarlyStopping counter: 7 out of 25\n",
      "val mse: 1.5335635\n",
      "val pearson 0.6478364087540989\n",
      "val AUPR 0.6428633701513096\n",
      "val ci: 0.7239475054716118\n",
      "Epoch: 42\n"
     ]
    },
    {
     "name": "stderr",
     "output_type": "stream",
     "text": [
      "100%|██████████| 646/646 [02:23<00:00,  4.51it/s]\n",
      "  0%|          | 0/162 [00:00<?, ?it/s]"
     ]
    },
    {
     "name": "stdout",
     "output_type": "stream",
     "text": [
      "Average loss 0.07396293561271285\n"
     ]
    },
    {
     "name": "stderr",
     "output_type": "stream",
     "text": [
      "100%|██████████| 162/162 [00:13<00:00, 12.12it/s]\n",
      "  0%|          | 0/646 [00:00<?, ?it/s]"
     ]
    },
    {
     "name": "stdout",
     "output_type": "stream",
     "text": [
      "EarlyStopping counter: 8 out of 25\n",
      "val mse: 1.5399234\n",
      "val pearson 0.6447744984215092\n",
      "val AUPR 0.6451927861780743\n",
      "val ci: 0.7228574725504029\n",
      "Epoch: 43\n"
     ]
    },
    {
     "name": "stderr",
     "output_type": "stream",
     "text": [
      "100%|██████████| 646/646 [02:23<00:00,  4.51it/s]\n",
      "  0%|          | 0/162 [00:00<?, ?it/s]"
     ]
    },
    {
     "name": "stdout",
     "output_type": "stream",
     "text": [
      "Average loss 0.05344187252615627\n"
     ]
    },
    {
     "name": "stderr",
     "output_type": "stream",
     "text": [
      "100%|██████████| 162/162 [00:13<00:00, 12.09it/s]\n",
      "  0%|          | 0/646 [00:00<?, ?it/s]"
     ]
    },
    {
     "name": "stdout",
     "output_type": "stream",
     "text": [
      "EarlyStopping counter: 9 out of 25\n",
      "val mse: 1.474238\n",
      "val pearson 0.653034398916596\n",
      "val AUPR 0.6485487185348546\n",
      "val ci: 0.725534571967053\n",
      "Epoch: 44\n"
     ]
    },
    {
     "name": "stderr",
     "output_type": "stream",
     "text": [
      "100%|██████████| 646/646 [02:23<00:00,  4.49it/s]\n",
      "  0%|          | 0/162 [00:00<?, ?it/s]"
     ]
    },
    {
     "name": "stdout",
     "output_type": "stream",
     "text": [
      "Average loss 0.0456560654623359\n"
     ]
    },
    {
     "name": "stderr",
     "output_type": "stream",
     "text": [
      "100%|██████████| 162/162 [00:13<00:00, 11.82it/s]\n",
      "  0%|          | 0/646 [00:00<?, ?it/s]"
     ]
    },
    {
     "name": "stdout",
     "output_type": "stream",
     "text": [
      "EarlyStopping counter: 10 out of 25\n",
      "val mse: 1.5416619\n",
      "val pearson 0.6488866511835419\n",
      "val AUPR 0.6557785309223769\n",
      "val ci: 0.7247474681938004\n",
      "Epoch: 45\n"
     ]
    },
    {
     "name": "stderr",
     "output_type": "stream",
     "text": [
      "100%|██████████| 646/646 [02:22<00:00,  4.53it/s]\n",
      "  0%|          | 0/162 [00:00<?, ?it/s]"
     ]
    },
    {
     "name": "stdout",
     "output_type": "stream",
     "text": [
      "Average loss 0.050660915767929686\n"
     ]
    },
    {
     "name": "stderr",
     "output_type": "stream",
     "text": [
      "100%|██████████| 162/162 [00:13<00:00, 11.94it/s]\n"
     ]
    },
    {
     "name": "stdout",
     "output_type": "stream",
     "text": [
      "Validation loss decreased (0.727787 --> 0.729480).  Saving model ...\n"
     ]
    },
    {
     "name": "stderr",
     "output_type": "stream",
     "text": [
      "\r",
      "  0%|          | 0/646 [00:00<?, ?it/s]"
     ]
    },
    {
     "name": "stdout",
     "output_type": "stream",
     "text": [
      "val mse: 1.4876974\n",
      "val pearson 0.6568591977932972\n",
      "val AUPR 0.6583546583653301\n",
      "val ci: 0.7294801574192529\n",
      "Epoch: 46\n"
     ]
    },
    {
     "name": "stderr",
     "output_type": "stream",
     "text": [
      "100%|██████████| 646/646 [02:20<00:00,  4.59it/s]\n",
      "  0%|          | 0/162 [00:00<?, ?it/s]"
     ]
    },
    {
     "name": "stdout",
     "output_type": "stream",
     "text": [
      "Average loss 0.05285795186084029\n"
     ]
    },
    {
     "name": "stderr",
     "output_type": "stream",
     "text": [
      "100%|██████████| 162/162 [00:15<00:00, 10.64it/s]\n",
      "  0%|          | 0/646 [00:00<?, ?it/s]"
     ]
    },
    {
     "name": "stdout",
     "output_type": "stream",
     "text": [
      "EarlyStopping counter: 1 out of 25\n",
      "val mse: 1.5445349\n",
      "val pearson 0.6512467388858483\n",
      "val AUPR 0.6517522842886038\n",
      "val ci: 0.7258912834342821\n",
      "Epoch: 47\n"
     ]
    },
    {
     "name": "stderr",
     "output_type": "stream",
     "text": [
      "100%|██████████| 646/646 [02:20<00:00,  4.59it/s]\n",
      "  0%|          | 0/162 [00:00<?, ?it/s]"
     ]
    },
    {
     "name": "stdout",
     "output_type": "stream",
     "text": [
      "Average loss 0.04737180039494215\n"
     ]
    },
    {
     "name": "stderr",
     "output_type": "stream",
     "text": [
      "100%|██████████| 162/162 [00:13<00:00, 12.11it/s]\n",
      "  0%|          | 0/646 [00:00<?, ?it/s]"
     ]
    },
    {
     "name": "stdout",
     "output_type": "stream",
     "text": [
      "EarlyStopping counter: 2 out of 25\n",
      "val mse: 1.5166157\n",
      "val pearson 0.6485154135656845\n",
      "val AUPR 0.6521323715676951\n",
      "val ci: 0.7253594696883107\n",
      "Epoch: 48\n"
     ]
    },
    {
     "name": "stderr",
     "output_type": "stream",
     "text": [
      "100%|██████████| 646/646 [02:22<00:00,  4.54it/s]\n",
      "  0%|          | 0/162 [00:00<?, ?it/s]"
     ]
    },
    {
     "name": "stdout",
     "output_type": "stream",
     "text": [
      "Average loss 0.05237884718013622\n"
     ]
    },
    {
     "name": "stderr",
     "output_type": "stream",
     "text": [
      "100%|██████████| 162/162 [00:13<00:00, 11.94it/s]\n",
      "  0%|          | 0/646 [00:00<?, ?it/s]"
     ]
    },
    {
     "name": "stdout",
     "output_type": "stream",
     "text": [
      "EarlyStopping counter: 3 out of 25\n",
      "val mse: 1.5266\n",
      "val pearson 0.6423563031964338\n",
      "val AUPR 0.6381284471927147\n",
      "val ci: 0.7222124366976588\n",
      "Epoch: 49\n"
     ]
    },
    {
     "name": "stderr",
     "output_type": "stream",
     "text": [
      "100%|██████████| 646/646 [02:22<00:00,  4.52it/s]\n",
      "  0%|          | 0/162 [00:00<?, ?it/s]"
     ]
    },
    {
     "name": "stdout",
     "output_type": "stream",
     "text": [
      "Average loss 0.06019440024007031\n"
     ]
    },
    {
     "name": "stderr",
     "output_type": "stream",
     "text": [
      "100%|██████████| 162/162 [00:13<00:00, 12.04it/s]\n",
      "  0%|          | 0/646 [00:00<?, ?it/s]"
     ]
    },
    {
     "name": "stdout",
     "output_type": "stream",
     "text": [
      "EarlyStopping counter: 4 out of 25\n",
      "val mse: 1.5603656\n",
      "val pearson 0.6429595331538702\n",
      "val AUPR 0.6531470961386243\n",
      "val ci: 0.7226996359917832\n",
      "Epoch: 50\n"
     ]
    },
    {
     "name": "stderr",
     "output_type": "stream",
     "text": [
      "100%|██████████| 646/646 [02:24<00:00,  4.46it/s]\n",
      "  0%|          | 0/162 [00:00<?, ?it/s]"
     ]
    },
    {
     "name": "stdout",
     "output_type": "stream",
     "text": [
      "Average loss 0.04907387646993524\n"
     ]
    },
    {
     "name": "stderr",
     "output_type": "stream",
     "text": [
      "100%|██████████| 162/162 [00:13<00:00, 12.02it/s]\n",
      "  0%|          | 0/646 [00:00<?, ?it/s]"
     ]
    },
    {
     "name": "stdout",
     "output_type": "stream",
     "text": [
      "EarlyStopping counter: 5 out of 25\n",
      "val mse: 1.5420374\n",
      "val pearson 0.6488514798552873\n",
      "val AUPR 0.6519769889274187\n",
      "val ci: 0.7254722788069424\n",
      "Epoch: 51\n"
     ]
    },
    {
     "name": "stderr",
     "output_type": "stream",
     "text": [
      "100%|██████████| 646/646 [02:22<00:00,  4.54it/s]\n",
      "  0%|          | 0/162 [00:00<?, ?it/s]"
     ]
    },
    {
     "name": "stdout",
     "output_type": "stream",
     "text": [
      "Average loss 0.03681892260113275\n"
     ]
    },
    {
     "name": "stderr",
     "output_type": "stream",
     "text": [
      "100%|██████████| 162/162 [00:13<00:00, 12.01it/s]\n",
      "  0%|          | 0/646 [00:00<?, ?it/s]"
     ]
    },
    {
     "name": "stdout",
     "output_type": "stream",
     "text": [
      "EarlyStopping counter: 6 out of 25\n",
      "val mse: 1.4919573\n",
      "val pearson 0.6534689627363128\n",
      "val AUPR 0.6499862670933951\n",
      "val ci: 0.7274852956393676\n",
      "Epoch: 52\n"
     ]
    },
    {
     "name": "stderr",
     "output_type": "stream",
     "text": [
      "100%|██████████| 646/646 [02:23<00:00,  4.51it/s]\n",
      "  0%|          | 0/162 [00:00<?, ?it/s]"
     ]
    },
    {
     "name": "stdout",
     "output_type": "stream",
     "text": [
      "Average loss 0.05354936549803328\n"
     ]
    },
    {
     "name": "stderr",
     "output_type": "stream",
     "text": [
      "100%|██████████| 162/162 [00:13<00:00, 11.81it/s]\n",
      "  0%|          | 0/646 [00:00<?, ?it/s]"
     ]
    },
    {
     "name": "stdout",
     "output_type": "stream",
     "text": [
      "EarlyStopping counter: 7 out of 25\n",
      "val mse: 1.5467501\n",
      "val pearson 0.6417025583532041\n",
      "val AUPR 0.6450829615488443\n",
      "val ci: 0.7235726412983664\n",
      "Epoch: 53\n"
     ]
    },
    {
     "name": "stderr",
     "output_type": "stream",
     "text": [
      "100%|██████████| 646/646 [02:22<00:00,  4.54it/s]\n",
      "  0%|          | 0/162 [00:00<?, ?it/s]"
     ]
    },
    {
     "name": "stdout",
     "output_type": "stream",
     "text": [
      "Average loss 0.06488100372992986\n"
     ]
    },
    {
     "name": "stderr",
     "output_type": "stream",
     "text": [
      "100%|██████████| 162/162 [00:14<00:00, 10.91it/s]\n",
      "  0%|          | 0/646 [00:00<?, ?it/s]"
     ]
    },
    {
     "name": "stdout",
     "output_type": "stream",
     "text": [
      "EarlyStopping counter: 8 out of 25\n",
      "val mse: 1.5126665\n",
      "val pearson 0.6462213513355516\n",
      "val AUPR 0.6430181900245842\n",
      "val ci: 0.7246178861249871\n",
      "Epoch: 54\n"
     ]
    },
    {
     "name": "stderr",
     "output_type": "stream",
     "text": [
      "100%|██████████| 646/646 [02:20<00:00,  4.60it/s]\n",
      "  0%|          | 0/162 [00:00<?, ?it/s]"
     ]
    },
    {
     "name": "stdout",
     "output_type": "stream",
     "text": [
      "Average loss 0.04909118044048825\n"
     ]
    },
    {
     "name": "stderr",
     "output_type": "stream",
     "text": [
      "100%|██████████| 162/162 [00:14<00:00, 11.42it/s]\n",
      "  0%|          | 0/646 [00:00<?, ?it/s]"
     ]
    },
    {
     "name": "stdout",
     "output_type": "stream",
     "text": [
      "EarlyStopping counter: 9 out of 25\n",
      "val mse: 1.5130304\n",
      "val pearson 0.6531757024724579\n",
      "val AUPR 0.656291263260611\n",
      "val ci: 0.7285964777771387\n",
      "Epoch: 55\n"
     ]
    },
    {
     "name": "stderr",
     "output_type": "stream",
     "text": [
      "100%|██████████| 646/646 [02:21<00:00,  4.57it/s]\n",
      "  0%|          | 0/162 [00:00<?, ?it/s]"
     ]
    },
    {
     "name": "stdout",
     "output_type": "stream",
     "text": [
      "Average loss 0.03380033702823123\n"
     ]
    },
    {
     "name": "stderr",
     "output_type": "stream",
     "text": [
      "100%|██████████| 162/162 [00:14<00:00, 11.03it/s]\n",
      "  0%|          | 0/646 [00:00<?, ?it/s]"
     ]
    },
    {
     "name": "stdout",
     "output_type": "stream",
     "text": [
      "EarlyStopping counter: 10 out of 25\n",
      "val mse: 1.5073246\n",
      "val pearson 0.6503271151406481\n",
      "val AUPR 0.6527618045136563\n",
      "val ci: 0.7265135697414177\n",
      "Epoch: 56\n"
     ]
    },
    {
     "name": "stderr",
     "output_type": "stream",
     "text": [
      "100%|██████████| 646/646 [02:22<00:00,  4.52it/s]\n",
      "  0%|          | 0/162 [00:00<?, ?it/s]"
     ]
    },
    {
     "name": "stdout",
     "output_type": "stream",
     "text": [
      "Average loss 0.03231904786022455\n"
     ]
    },
    {
     "name": "stderr",
     "output_type": "stream",
     "text": [
      "100%|██████████| 162/162 [00:13<00:00, 12.10it/s]\n",
      "  0%|          | 0/646 [00:00<?, ?it/s]"
     ]
    },
    {
     "name": "stdout",
     "output_type": "stream",
     "text": [
      "EarlyStopping counter: 11 out of 25\n",
      "val mse: 1.5774858\n",
      "val pearson 0.6409011321367876\n",
      "val AUPR 0.6544277097354574\n",
      "val ci: 0.7231182816010231\n",
      "Epoch: 57\n"
     ]
    },
    {
     "name": "stderr",
     "output_type": "stream",
     "text": [
      "100%|██████████| 646/646 [02:22<00:00,  4.53it/s]\n",
      "  0%|          | 0/162 [00:00<?, ?it/s]"
     ]
    },
    {
     "name": "stdout",
     "output_type": "stream",
     "text": [
      "Average loss 0.030839379845135167\n"
     ]
    },
    {
     "name": "stderr",
     "output_type": "stream",
     "text": [
      "100%|██████████| 162/162 [00:13<00:00, 11.95it/s]\n",
      "  0%|          | 0/646 [00:00<?, ?it/s]"
     ]
    },
    {
     "name": "stdout",
     "output_type": "stream",
     "text": [
      "EarlyStopping counter: 12 out of 25\n",
      "val mse: 1.5497372\n",
      "val pearson 0.6365933785469968\n",
      "val AUPR 0.6438684925520343\n",
      "val ci: 0.7208219384781984\n",
      "Epoch: 58\n"
     ]
    },
    {
     "name": "stderr",
     "output_type": "stream",
     "text": [
      "100%|██████████| 646/646 [02:25<00:00,  4.45it/s]\n",
      "  0%|          | 0/162 [00:00<?, ?it/s]"
     ]
    },
    {
     "name": "stdout",
     "output_type": "stream",
     "text": [
      "Average loss 0.027314505322141452\n"
     ]
    },
    {
     "name": "stderr",
     "output_type": "stream",
     "text": [
      "100%|██████████| 162/162 [00:13<00:00, 11.92it/s]\n",
      "  0%|          | 0/646 [00:00<?, ?it/s]"
     ]
    },
    {
     "name": "stdout",
     "output_type": "stream",
     "text": [
      "EarlyStopping counter: 13 out of 25\n",
      "val mse: 1.5147237\n",
      "val pearson 0.645059411136762\n",
      "val AUPR 0.6439790186879027\n",
      "val ci: 0.7248191169432191\n",
      "Epoch: 59\n"
     ]
    },
    {
     "name": "stderr",
     "output_type": "stream",
     "text": [
      "100%|██████████| 646/646 [02:26<00:00,  4.40it/s]\n",
      "  0%|          | 0/162 [00:00<?, ?it/s]"
     ]
    },
    {
     "name": "stdout",
     "output_type": "stream",
     "text": [
      "Average loss 0.03045224786906189\n"
     ]
    },
    {
     "name": "stderr",
     "output_type": "stream",
     "text": [
      "100%|██████████| 162/162 [00:14<00:00, 11.26it/s]\n",
      "  0%|          | 0/646 [00:00<?, ?it/s]"
     ]
    },
    {
     "name": "stdout",
     "output_type": "stream",
     "text": [
      "EarlyStopping counter: 14 out of 25\n",
      "val mse: 1.5259651\n",
      "val pearson 0.6510879047752199\n",
      "val AUPR 0.652533992462665\n",
      "val ci: 0.7265563867562419\n",
      "Epoch: 60\n"
     ]
    },
    {
     "name": "stderr",
     "output_type": "stream",
     "text": [
      "100%|██████████| 646/646 [02:23<00:00,  4.49it/s]\n",
      "  0%|          | 0/162 [00:00<?, ?it/s]"
     ]
    },
    {
     "name": "stdout",
     "output_type": "stream",
     "text": [
      "Average loss 0.043726385772897176\n"
     ]
    },
    {
     "name": "stderr",
     "output_type": "stream",
     "text": [
      "100%|██████████| 162/162 [00:15<00:00, 10.77it/s]\n",
      "  0%|          | 0/646 [00:00<?, ?it/s]"
     ]
    },
    {
     "name": "stdout",
     "output_type": "stream",
     "text": [
      "EarlyStopping counter: 15 out of 25\n",
      "val mse: 1.547655\n",
      "val pearson 0.647492101054094\n",
      "val AUPR 0.6447916811612986\n",
      "val ci: 0.7249676448430014\n",
      "Epoch: 61\n"
     ]
    },
    {
     "name": "stderr",
     "output_type": "stream",
     "text": [
      "100%|██████████| 646/646 [02:24<00:00,  4.46it/s]\n",
      "  0%|          | 0/162 [00:00<?, ?it/s]"
     ]
    },
    {
     "name": "stdout",
     "output_type": "stream",
     "text": [
      "Average loss 0.08776845531566962\n"
     ]
    },
    {
     "name": "stderr",
     "output_type": "stream",
     "text": [
      "100%|██████████| 162/162 [00:16<00:00,  9.86it/s]\n",
      "  0%|          | 0/646 [00:00<?, ?it/s]"
     ]
    },
    {
     "name": "stdout",
     "output_type": "stream",
     "text": [
      "EarlyStopping counter: 16 out of 25\n",
      "val mse: 1.577119\n",
      "val pearson 0.6365903545768805\n",
      "val AUPR 0.6464467742776886\n",
      "val ci: 0.7214861196164115\n",
      "Epoch: 62\n"
     ]
    },
    {
     "name": "stderr",
     "output_type": "stream",
     "text": [
      "100%|██████████| 646/646 [02:22<00:00,  4.53it/s]\n",
      "  0%|          | 0/162 [00:00<?, ?it/s]"
     ]
    },
    {
     "name": "stdout",
     "output_type": "stream",
     "text": [
      "Average loss 0.05481843247825147\n"
     ]
    },
    {
     "name": "stderr",
     "output_type": "stream",
     "text": [
      "100%|██████████| 162/162 [00:14<00:00, 11.04it/s]\n",
      "  0%|          | 0/646 [00:00<?, ?it/s]"
     ]
    },
    {
     "name": "stdout",
     "output_type": "stream",
     "text": [
      "EarlyStopping counter: 17 out of 25\n",
      "val mse: 1.5314294\n",
      "val pearson 0.6439549738524756\n",
      "val AUPR 0.6472846972667721\n",
      "val ci: 0.7233757398160445\n",
      "Epoch: 63\n"
     ]
    },
    {
     "name": "stderr",
     "output_type": "stream",
     "text": [
      "100%|██████████| 646/646 [02:24<00:00,  4.48it/s]\n",
      "  0%|          | 0/162 [00:00<?, ?it/s]"
     ]
    },
    {
     "name": "stdout",
     "output_type": "stream",
     "text": [
      "Average loss 0.032091811982678374\n"
     ]
    },
    {
     "name": "stderr",
     "output_type": "stream",
     "text": [
      "100%|██████████| 162/162 [00:13<00:00, 11.92it/s]\n",
      "  0%|          | 0/646 [00:00<?, ?it/s]"
     ]
    },
    {
     "name": "stdout",
     "output_type": "stream",
     "text": [
      "EarlyStopping counter: 18 out of 25\n",
      "val mse: 1.5186319\n",
      "val pearson 0.647641591935391\n",
      "val AUPR 0.6487268146269956\n",
      "val ci: 0.7262317991961176\n",
      "Epoch: 64\n"
     ]
    },
    {
     "name": "stderr",
     "output_type": "stream",
     "text": [
      "100%|██████████| 646/646 [02:25<00:00,  4.43it/s]\n",
      "  0%|          | 0/162 [00:00<?, ?it/s]"
     ]
    },
    {
     "name": "stdout",
     "output_type": "stream",
     "text": [
      "Average loss 0.021154167309357284\n"
     ]
    },
    {
     "name": "stderr",
     "output_type": "stream",
     "text": [
      "100%|██████████| 162/162 [00:14<00:00, 11.07it/s]\n",
      "  0%|          | 0/646 [00:00<?, ?it/s]"
     ]
    },
    {
     "name": "stdout",
     "output_type": "stream",
     "text": [
      "EarlyStopping counter: 19 out of 25\n",
      "val mse: 1.5072459\n",
      "val pearson 0.6519161981834354\n",
      "val AUPR 0.6527720369302872\n",
      "val ci: 0.7282628162105298\n",
      "Epoch: 65\n"
     ]
    },
    {
     "name": "stderr",
     "output_type": "stream",
     "text": [
      "100%|██████████| 646/646 [02:26<00:00,  4.41it/s]\n",
      "  0%|          | 0/162 [00:00<?, ?it/s]"
     ]
    },
    {
     "name": "stdout",
     "output_type": "stream",
     "text": [
      "Average loss 0.014805223355963595\n"
     ]
    },
    {
     "name": "stderr",
     "output_type": "stream",
     "text": [
      "100%|██████████| 162/162 [00:15<00:00, 10.56it/s]\n",
      "  0%|          | 0/646 [00:00<?, ?it/s]"
     ]
    },
    {
     "name": "stdout",
     "output_type": "stream",
     "text": [
      "EarlyStopping counter: 20 out of 25\n",
      "val mse: 1.4961959\n",
      "val pearson 0.6548451912028694\n",
      "val AUPR 0.655507146168617\n",
      "val ci: 0.7286673592133635\n",
      "Epoch: 66\n"
     ]
    },
    {
     "name": "stderr",
     "output_type": "stream",
     "text": [
      "100%|██████████| 646/646 [02:25<00:00,  4.43it/s]\n",
      "  0%|          | 0/162 [00:00<?, ?it/s]"
     ]
    },
    {
     "name": "stdout",
     "output_type": "stream",
     "text": [
      "Average loss 0.015439204189741852\n"
     ]
    },
    {
     "name": "stderr",
     "output_type": "stream",
     "text": [
      "100%|██████████| 162/162 [00:13<00:00, 12.11it/s]\n",
      "  0%|          | 0/646 [00:00<?, ?it/s]"
     ]
    },
    {
     "name": "stdout",
     "output_type": "stream",
     "text": [
      "EarlyStopping counter: 21 out of 25\n",
      "val mse: 1.4881407\n",
      "val pearson 0.6543618292314131\n",
      "val AUPR 0.6474038092806916\n",
      "val ci: 0.7283342819311132\n",
      "Epoch: 67\n"
     ]
    },
    {
     "name": "stderr",
     "output_type": "stream",
     "text": [
      "100%|██████████| 646/646 [02:27<00:00,  4.38it/s]\n",
      "  0%|          | 0/162 [00:00<?, ?it/s]"
     ]
    },
    {
     "name": "stdout",
     "output_type": "stream",
     "text": [
      "Average loss 0.04391500103970753\n"
     ]
    },
    {
     "name": "stderr",
     "output_type": "stream",
     "text": [
      "100%|██████████| 162/162 [00:13<00:00, 11.92it/s]\n",
      "  0%|          | 0/646 [00:00<?, ?it/s]"
     ]
    },
    {
     "name": "stdout",
     "output_type": "stream",
     "text": [
      "EarlyStopping counter: 22 out of 25\n",
      "val mse: 1.5878122\n",
      "val pearson 0.6400901632059958\n",
      "val AUPR 0.6190076310747605\n",
      "val ci: 0.7225843606769231\n",
      "Epoch: 68\n"
     ]
    },
    {
     "name": "stderr",
     "output_type": "stream",
     "text": [
      "100%|██████████| 646/646 [02:25<00:00,  4.43it/s]\n",
      "  0%|          | 0/162 [00:00<?, ?it/s]"
     ]
    },
    {
     "name": "stdout",
     "output_type": "stream",
     "text": [
      "Average loss 0.09961865146012959\n"
     ]
    },
    {
     "name": "stderr",
     "output_type": "stream",
     "text": [
      "100%|██████████| 162/162 [00:13<00:00, 11.86it/s]\n",
      "  0%|          | 0/646 [00:00<?, ?it/s]"
     ]
    },
    {
     "name": "stdout",
     "output_type": "stream",
     "text": [
      "EarlyStopping counter: 23 out of 25\n",
      "val mse: 1.5578932\n",
      "val pearson 0.6352412815220707\n",
      "val AUPR 0.6372235462948137\n",
      "val ci: 0.7201072883119348\n",
      "Epoch: 69\n"
     ]
    },
    {
     "name": "stderr",
     "output_type": "stream",
     "text": [
      "100%|██████████| 646/646 [02:25<00:00,  4.43it/s]\n",
      "  0%|          | 0/162 [00:00<?, ?it/s]"
     ]
    },
    {
     "name": "stdout",
     "output_type": "stream",
     "text": [
      "Average loss 0.043813821415621616\n"
     ]
    },
    {
     "name": "stderr",
     "output_type": "stream",
     "text": [
      "100%|██████████| 162/162 [00:13<00:00, 11.80it/s]\n",
      "  0%|          | 0/646 [00:00<?, ?it/s]"
     ]
    },
    {
     "name": "stdout",
     "output_type": "stream",
     "text": [
      "EarlyStopping counter: 24 out of 25\n",
      "val mse: 1.5528675\n",
      "val pearson 0.6400329750322232\n",
      "val AUPR 0.6426274322788273\n",
      "val ci: 0.7214952921768845\n",
      "Epoch: 70\n"
     ]
    },
    {
     "name": "stderr",
     "output_type": "stream",
     "text": [
      "100%|██████████| 646/646 [02:26<00:00,  4.42it/s]\n",
      "  0%|          | 0/162 [00:00<?, ?it/s]"
     ]
    },
    {
     "name": "stdout",
     "output_type": "stream",
     "text": [
      "Average loss 0.04883536479029309\n"
     ]
    },
    {
     "name": "stderr",
     "output_type": "stream",
     "text": [
      "100%|██████████| 162/162 [00:13<00:00, 11.84it/s]\n",
      "  0%|          | 0/202 [00:00<?, ?it/s]"
     ]
    },
    {
     "name": "stdout",
     "output_type": "stream",
     "text": [
      "EarlyStopping counter: 25 out of 25\n",
      "Early stopping\n"
     ]
    },
    {
     "name": "stderr",
     "output_type": "stream",
     "text": [
      "100%|██████████| 202/202 [00:16<00:00, 12.01it/s]\n"
     ]
    },
    {
     "name": "stdout",
     "output_type": "stream",
     "text": [
      "-------------------test results---------------------------------\n",
      "val mse: 0.7963873\n",
      "val pearson 0.8215490535596891\n",
      "val AUPR 0.7848823471134309\n",
      "val ci: 0.8153090343327183\n",
      "-------------------test results---------------------------------\n"
     ]
    },
    {
     "name": "stderr",
     "output_type": "stream",
     "text": [
      "100%|██████████| 646/646 [02:24<00:00,  4.47it/s]\n",
      "  0%|          | 0/162 [00:00<?, ?it/s]"
     ]
    },
    {
     "name": "stdout",
     "output_type": "stream",
     "text": [
      "Average loss 2.4146441745315173\n"
     ]
    },
    {
     "name": "stderr",
     "output_type": "stream",
     "text": [
      "100%|██████████| 162/162 [00:13<00:00, 11.72it/s]\n"
     ]
    },
    {
     "name": "stdout",
     "output_type": "stream",
     "text": [
      "Validation loss decreased (inf --> 0.687592).  Saving model ...\n"
     ]
    },
    {
     "name": "stderr",
     "output_type": "stream",
     "text": [
      "\r",
      "  0%|          | 0/646 [00:00<?, ?it/s]"
     ]
    },
    {
     "name": "stdout",
     "output_type": "stream",
     "text": [
      "val mse: 1.819749\n",
      "val pearson 0.5667552112569197\n",
      "val AUPR 0.5653192248027373\n",
      "val ci: 0.6875915592593489\n",
      "Epoch: 2\n"
     ]
    },
    {
     "name": "stderr",
     "output_type": "stream",
     "text": [
      "100%|██████████| 646/646 [02:26<00:00,  4.41it/s]\n",
      "  0%|          | 0/162 [00:00<?, ?it/s]"
     ]
    },
    {
     "name": "stdout",
     "output_type": "stream",
     "text": [
      "Average loss 1.3653024798576308\n"
     ]
    },
    {
     "name": "stderr",
     "output_type": "stream",
     "text": [
      "100%|██████████| 162/162 [00:13<00:00, 12.02it/s]\n"
     ]
    },
    {
     "name": "stdout",
     "output_type": "stream",
     "text": [
      "Validation loss decreased (0.687592 --> 0.699712).  Saving model ...\n"
     ]
    },
    {
     "name": "stderr",
     "output_type": "stream",
     "text": [
      "\r",
      "  0%|          | 0/646 [00:00<?, ?it/s]"
     ]
    },
    {
     "name": "stdout",
     "output_type": "stream",
     "text": [
      "val mse: 1.7357584\n",
      "val pearson 0.5989447530556328\n",
      "val AUPR 0.5330756061817901\n",
      "val ci: 0.6997115601754108\n",
      "Epoch: 3\n"
     ]
    },
    {
     "name": "stderr",
     "output_type": "stream",
     "text": [
      "100%|██████████| 646/646 [02:25<00:00,  4.44it/s]\n",
      "  0%|          | 0/162 [00:00<?, ?it/s]"
     ]
    },
    {
     "name": "stdout",
     "output_type": "stream",
     "text": [
      "Average loss 1.1688820357108634\n"
     ]
    },
    {
     "name": "stderr",
     "output_type": "stream",
     "text": [
      "100%|██████████| 162/162 [00:13<00:00, 11.92it/s]\n"
     ]
    },
    {
     "name": "stdout",
     "output_type": "stream",
     "text": [
      "Validation loss decreased (0.699712 --> 0.706876).  Saving model ...\n"
     ]
    },
    {
     "name": "stderr",
     "output_type": "stream",
     "text": [
      "\r",
      "  0%|          | 0/646 [00:00<?, ?it/s]"
     ]
    },
    {
     "name": "stdout",
     "output_type": "stream",
     "text": [
      "val mse: 1.550019\n",
      "val pearson 0.6209260928291496\n",
      "val AUPR 0.5758755480869864\n",
      "val ci: 0.706876022943596\n",
      "Epoch: 4\n"
     ]
    },
    {
     "name": "stderr",
     "output_type": "stream",
     "text": [
      "100%|██████████| 646/646 [02:27<00:00,  4.39it/s]\n",
      "  0%|          | 0/162 [00:00<?, ?it/s]"
     ]
    },
    {
     "name": "stdout",
     "output_type": "stream",
     "text": [
      "Average loss 1.01609539238292\n"
     ]
    },
    {
     "name": "stderr",
     "output_type": "stream",
     "text": [
      "100%|██████████| 162/162 [00:13<00:00, 11.82it/s]\n"
     ]
    },
    {
     "name": "stdout",
     "output_type": "stream",
     "text": [
      "Validation loss decreased (0.706876 --> 0.715798).  Saving model ...\n"
     ]
    },
    {
     "name": "stderr",
     "output_type": "stream",
     "text": [
      "\r",
      "  0%|          | 0/646 [00:00<?, ?it/s]"
     ]
    },
    {
     "name": "stdout",
     "output_type": "stream",
     "text": [
      "val mse: 1.5134006\n",
      "val pearson 0.6393975681415902\n",
      "val AUPR 0.5758589746576366\n",
      "val ci: 0.7157981606866409\n",
      "Epoch: 5\n"
     ]
    },
    {
     "name": "stderr",
     "output_type": "stream",
     "text": [
      "100%|██████████| 646/646 [02:25<00:00,  4.43it/s]\n",
      "  0%|          | 0/162 [00:00<?, ?it/s]"
     ]
    },
    {
     "name": "stdout",
     "output_type": "stream",
     "text": [
      "Average loss 0.8697717320808316\n"
     ]
    },
    {
     "name": "stderr",
     "output_type": "stream",
     "text": [
      "100%|██████████| 162/162 [00:13<00:00, 11.74it/s]\n",
      "  0%|          | 0/646 [00:00<?, ?it/s]"
     ]
    },
    {
     "name": "stdout",
     "output_type": "stream",
     "text": [
      "EarlyStopping counter: 1 out of 25\n",
      "val mse: 1.5105734\n",
      "val pearson 0.6335922254950697\n",
      "val AUPR 0.5919253336123196\n",
      "val ci: 0.7110042333134541\n",
      "Epoch: 6\n"
     ]
    },
    {
     "name": "stderr",
     "output_type": "stream",
     "text": [
      "100%|██████████| 646/646 [02:27<00:00,  4.39it/s]\n",
      "  0%|          | 0/162 [00:00<?, ?it/s]"
     ]
    },
    {
     "name": "stdout",
     "output_type": "stream",
     "text": [
      "Average loss 0.7771295087164032\n"
     ]
    },
    {
     "name": "stderr",
     "output_type": "stream",
     "text": [
      "100%|██████████| 162/162 [00:13<00:00, 11.83it/s]\n",
      "  0%|          | 0/646 [00:00<?, ?it/s]"
     ]
    },
    {
     "name": "stdout",
     "output_type": "stream",
     "text": [
      "EarlyStopping counter: 2 out of 25\n",
      "val mse: 1.5359601\n",
      "val pearson 0.6354514207323774\n",
      "val AUPR 0.6125698354860136\n",
      "val ci: 0.71423967754997\n",
      "Epoch: 7\n"
     ]
    },
    {
     "name": "stderr",
     "output_type": "stream",
     "text": [
      "100%|██████████| 646/646 [02:28<00:00,  4.36it/s]\n",
      "  0%|          | 0/162 [00:00<?, ?it/s]"
     ]
    },
    {
     "name": "stdout",
     "output_type": "stream",
     "text": [
      "Average loss 0.6754703332119313\n"
     ]
    },
    {
     "name": "stderr",
     "output_type": "stream",
     "text": [
      "100%|██████████| 162/162 [00:13<00:00, 11.99it/s]\n"
     ]
    },
    {
     "name": "stdout",
     "output_type": "stream",
     "text": [
      "Validation loss decreased (0.715798 --> 0.716609).  Saving model ...\n"
     ]
    },
    {
     "name": "stderr",
     "output_type": "stream",
     "text": [
      "\r",
      "  0%|          | 0/646 [00:00<?, ?it/s]"
     ]
    },
    {
     "name": "stdout",
     "output_type": "stream",
     "text": [
      "val mse: 1.6099023\n",
      "val pearson 0.63193142064101\n",
      "val AUPR 0.6064757850016587\n",
      "val ci: 0.7166091124505387\n",
      "Epoch: 8\n"
     ]
    },
    {
     "name": "stderr",
     "output_type": "stream",
     "text": [
      "100%|██████████| 646/646 [02:26<00:00,  4.42it/s]\n",
      "  0%|          | 0/162 [00:00<?, ?it/s]"
     ]
    },
    {
     "name": "stdout",
     "output_type": "stream",
     "text": [
      "Average loss 0.5983910806961473\n"
     ]
    },
    {
     "name": "stderr",
     "output_type": "stream",
     "text": [
      "100%|██████████| 162/162 [00:14<00:00, 11.45it/s]\n",
      "  0%|          | 0/646 [00:00<?, ?it/s]"
     ]
    },
    {
     "name": "stdout",
     "output_type": "stream",
     "text": [
      "EarlyStopping counter: 1 out of 25\n",
      "val mse: 1.6527569\n",
      "val pearson 0.6246424526866869\n",
      "val AUPR 0.618701332823767\n",
      "val ci: 0.7129188613200564\n",
      "Epoch: 9\n"
     ]
    },
    {
     "name": "stderr",
     "output_type": "stream",
     "text": [
      "100%|██████████| 646/646 [02:24<00:00,  4.47it/s]\n",
      "  0%|          | 0/162 [00:00<?, ?it/s]"
     ]
    },
    {
     "name": "stdout",
     "output_type": "stream",
     "text": [
      "Average loss 0.5265590757500646\n"
     ]
    },
    {
     "name": "stderr",
     "output_type": "stream",
     "text": [
      "100%|██████████| 162/162 [00:15<00:00, 10.66it/s]\n"
     ]
    },
    {
     "name": "stdout",
     "output_type": "stream",
     "text": [
      "Validation loss decreased (0.716609 --> 0.721050).  Saving model ...\n"
     ]
    },
    {
     "name": "stderr",
     "output_type": "stream",
     "text": [
      "\r",
      "  0%|          | 0/646 [00:00<?, ?it/s]"
     ]
    },
    {
     "name": "stdout",
     "output_type": "stream",
     "text": [
      "val mse: 1.4922287\n",
      "val pearson 0.6439350272211215\n",
      "val AUPR 0.6184506132052036\n",
      "val ci: 0.7210498069230626\n",
      "Epoch: 10\n"
     ]
    },
    {
     "name": "stderr",
     "output_type": "stream",
     "text": [
      "100%|██████████| 646/646 [02:23<00:00,  4.49it/s]\n",
      "  0%|          | 0/162 [00:00<?, ?it/s]"
     ]
    },
    {
     "name": "stdout",
     "output_type": "stream",
     "text": [
      "Average loss 0.46770929750458745\n"
     ]
    },
    {
     "name": "stderr",
     "output_type": "stream",
     "text": [
      "100%|██████████| 162/162 [00:14<00:00, 11.41it/s]\n",
      "  0%|          | 0/646 [00:00<?, ?it/s]"
     ]
    },
    {
     "name": "stdout",
     "output_type": "stream",
     "text": [
      "EarlyStopping counter: 1 out of 25\n",
      "val mse: 1.5899547\n",
      "val pearson 0.6324076505897068\n",
      "val AUPR 0.6042028528078729\n",
      "val ci: 0.717247136414943\n",
      "Epoch: 11\n"
     ]
    },
    {
     "name": "stderr",
     "output_type": "stream",
     "text": [
      "100%|██████████| 646/646 [02:21<00:00,  4.56it/s]\n",
      "  0%|          | 0/162 [00:00<?, ?it/s]"
     ]
    },
    {
     "name": "stdout",
     "output_type": "stream",
     "text": [
      "Average loss 0.41889779897112595\n"
     ]
    },
    {
     "name": "stderr",
     "output_type": "stream",
     "text": [
      "100%|██████████| 162/162 [00:14<00:00, 10.82it/s]\n",
      "  0%|          | 0/646 [00:00<?, ?it/s]"
     ]
    },
    {
     "name": "stdout",
     "output_type": "stream",
     "text": [
      "EarlyStopping counter: 2 out of 25\n",
      "val mse: 1.5487615\n",
      "val pearson 0.6315035169770415\n",
      "val AUPR 0.6294086484269492\n",
      "val ci: 0.7170322373065828\n",
      "Epoch: 12\n"
     ]
    },
    {
     "name": "stderr",
     "output_type": "stream",
     "text": [
      "100%|██████████| 646/646 [02:21<00:00,  4.58it/s]\n",
      "  0%|          | 0/162 [00:00<?, ?it/s]"
     ]
    },
    {
     "name": "stdout",
     "output_type": "stream",
     "text": [
      "Average loss 0.3886975827785468\n"
     ]
    },
    {
     "name": "stderr",
     "output_type": "stream",
     "text": [
      "100%|██████████| 162/162 [00:13<00:00, 12.07it/s]\n",
      "  0%|          | 0/646 [00:00<?, ?it/s]"
     ]
    },
    {
     "name": "stdout",
     "output_type": "stream",
     "text": [
      "EarlyStopping counter: 3 out of 25\n",
      "val mse: 1.7989541\n",
      "val pearson 0.6340189733142876\n",
      "val AUPR 0.6510106272333662\n",
      "val ci: 0.717336865427693\n",
      "Epoch: 13\n"
     ]
    },
    {
     "name": "stderr",
     "output_type": "stream",
     "text": [
      "100%|██████████| 646/646 [02:22<00:00,  4.55it/s]\n",
      "  0%|          | 0/162 [00:00<?, ?it/s]"
     ]
    },
    {
     "name": "stdout",
     "output_type": "stream",
     "text": [
      "Average loss 0.3354489787628776\n"
     ]
    },
    {
     "name": "stderr",
     "output_type": "stream",
     "text": [
      "100%|██████████| 162/162 [00:13<00:00, 11.85it/s]\n",
      "  0%|          | 0/646 [00:00<?, ?it/s]"
     ]
    },
    {
     "name": "stdout",
     "output_type": "stream",
     "text": [
      "EarlyStopping counter: 4 out of 25\n",
      "val mse: 1.5763655\n",
      "val pearson 0.6335962682008599\n",
      "val AUPR 0.6278840193840485\n",
      "val ci: 0.7176970180683822\n",
      "Epoch: 14\n"
     ]
    },
    {
     "name": "stderr",
     "output_type": "stream",
     "text": [
      "100%|██████████| 646/646 [02:23<00:00,  4.49it/s]\n",
      "  0%|          | 0/162 [00:00<?, ?it/s]"
     ]
    },
    {
     "name": "stdout",
     "output_type": "stream",
     "text": [
      "Average loss 0.30724583854523974\n"
     ]
    },
    {
     "name": "stderr",
     "output_type": "stream",
     "text": [
      "100%|██████████| 162/162 [00:13<00:00, 12.05it/s]\n"
     ]
    },
    {
     "name": "stdout",
     "output_type": "stream",
     "text": [
      "Validation loss decreased (0.721050 --> 0.722371).  Saving model ...\n"
     ]
    },
    {
     "name": "stderr",
     "output_type": "stream",
     "text": [
      "\r",
      "  0%|          | 0/646 [00:00<?, ?it/s]"
     ]
    },
    {
     "name": "stdout",
     "output_type": "stream",
     "text": [
      "val mse: 1.5273544\n",
      "val pearson 0.6437564237753826\n",
      "val AUPR 0.626624584075924\n",
      "val ci: 0.7223708085241061\n",
      "Epoch: 15\n"
     ]
    },
    {
     "name": "stderr",
     "output_type": "stream",
     "text": [
      "100%|██████████| 646/646 [02:22<00:00,  4.53it/s]\n",
      "  0%|          | 0/162 [00:00<?, ?it/s]"
     ]
    },
    {
     "name": "stdout",
     "output_type": "stream",
     "text": [
      "Average loss 0.2835872746980965\n"
     ]
    },
    {
     "name": "stderr",
     "output_type": "stream",
     "text": [
      "100%|██████████| 162/162 [00:13<00:00, 11.84it/s]\n",
      "  0%|          | 0/646 [00:00<?, ?it/s]"
     ]
    },
    {
     "name": "stdout",
     "output_type": "stream",
     "text": [
      "EarlyStopping counter: 1 out of 25\n",
      "val mse: 1.6301696\n",
      "val pearson 0.6389465629718768\n",
      "val AUPR 0.6406557161217388\n",
      "val ci: 0.71988872663831\n",
      "Epoch: 16\n"
     ]
    },
    {
     "name": "stderr",
     "output_type": "stream",
     "text": [
      "100%|██████████| 646/646 [02:22<00:00,  4.54it/s]\n",
      "  0%|          | 0/162 [00:00<?, ?it/s]"
     ]
    },
    {
     "name": "stdout",
     "output_type": "stream",
     "text": [
      "Average loss 0.24858467407732188\n"
     ]
    },
    {
     "name": "stderr",
     "output_type": "stream",
     "text": [
      "100%|██████████| 162/162 [00:13<00:00, 11.71it/s]\n"
     ]
    },
    {
     "name": "stdout",
     "output_type": "stream",
     "text": [
      "Validation loss decreased (0.722371 --> 0.722640).  Saving model ...\n"
     ]
    },
    {
     "name": "stderr",
     "output_type": "stream",
     "text": [
      "\r",
      "  0%|          | 0/646 [00:00<?, ?it/s]"
     ]
    },
    {
     "name": "stdout",
     "output_type": "stream",
     "text": [
      "val mse: 1.5321599\n",
      "val pearson 0.6444383353832185\n",
      "val AUPR 0.6313883500662943\n",
      "val ci: 0.7226396271665662\n",
      "Epoch: 17\n"
     ]
    },
    {
     "name": "stderr",
     "output_type": "stream",
     "text": [
      "100%|██████████| 646/646 [02:22<00:00,  4.55it/s]\n",
      "  0%|          | 0/162 [00:00<?, ?it/s]"
     ]
    },
    {
     "name": "stdout",
     "output_type": "stream",
     "text": [
      "Average loss 0.2262529898031208\n"
     ]
    },
    {
     "name": "stderr",
     "output_type": "stream",
     "text": [
      "100%|██████████| 162/162 [00:13<00:00, 11.78it/s]\n"
     ]
    },
    {
     "name": "stdout",
     "output_type": "stream",
     "text": [
      "Validation loss decreased (0.722640 --> 0.724062).  Saving model ...\n"
     ]
    },
    {
     "name": "stderr",
     "output_type": "stream",
     "text": [
      "\r",
      "  0%|          | 0/646 [00:00<?, ?it/s]"
     ]
    },
    {
     "name": "stdout",
     "output_type": "stream",
     "text": [
      "val mse: 1.4919167\n",
      "val pearson 0.6457125047534265\n",
      "val AUPR 0.623265845943233\n",
      "val ci: 0.7240615762534233\n",
      "Epoch: 18\n"
     ]
    },
    {
     "name": "stderr",
     "output_type": "stream",
     "text": [
      "100%|██████████| 646/646 [02:20<00:00,  4.58it/s]\n",
      "  0%|          | 0/162 [00:00<?, ?it/s]"
     ]
    },
    {
     "name": "stdout",
     "output_type": "stream",
     "text": [
      "Average loss 0.20825414029714123\n"
     ]
    },
    {
     "name": "stderr",
     "output_type": "stream",
     "text": [
      "100%|██████████| 162/162 [00:14<00:00, 11.03it/s]\n"
     ]
    },
    {
     "name": "stdout",
     "output_type": "stream",
     "text": [
      "Validation loss decreased (0.724062 --> 0.724588).  Saving model ...\n"
     ]
    },
    {
     "name": "stderr",
     "output_type": "stream",
     "text": [
      "\r",
      "  0%|          | 0/646 [00:00<?, ?it/s]"
     ]
    },
    {
     "name": "stdout",
     "output_type": "stream",
     "text": [
      "val mse: 1.54953\n",
      "val pearson 0.6469632993099802\n",
      "val AUPR 0.6358515974207808\n",
      "val ci: 0.7245879880258697\n",
      "Epoch: 19\n"
     ]
    },
    {
     "name": "stderr",
     "output_type": "stream",
     "text": [
      "100%|██████████| 646/646 [02:19<00:00,  4.62it/s]\n",
      "  0%|          | 0/162 [00:00<?, ?it/s]"
     ]
    },
    {
     "name": "stdout",
     "output_type": "stream",
     "text": [
      "Average loss 0.19515636743222228\n"
     ]
    },
    {
     "name": "stderr",
     "output_type": "stream",
     "text": [
      "100%|██████████| 162/162 [00:13<00:00, 11.58it/s]\n",
      "  0%|          | 0/646 [00:00<?, ?it/s]"
     ]
    },
    {
     "name": "stdout",
     "output_type": "stream",
     "text": [
      "EarlyStopping counter: 1 out of 25\n",
      "val mse: 1.5388669\n",
      "val pearson 0.6437868375476804\n",
      "val AUPR 0.6343712170197817\n",
      "val ci: 0.7227379559918613\n",
      "Epoch: 20\n"
     ]
    },
    {
     "name": "stderr",
     "output_type": "stream",
     "text": [
      "100%|██████████| 646/646 [02:23<00:00,  4.51it/s]\n",
      "  0%|          | 0/162 [00:00<?, ?it/s]"
     ]
    },
    {
     "name": "stdout",
     "output_type": "stream",
     "text": [
      "Average loss 0.17933205767727858\n"
     ]
    },
    {
     "name": "stderr",
     "output_type": "stream",
     "text": [
      "100%|██████████| 162/162 [00:13<00:00, 11.82it/s]\n",
      "  0%|          | 0/646 [00:00<?, ?it/s]"
     ]
    },
    {
     "name": "stdout",
     "output_type": "stream",
     "text": [
      "EarlyStopping counter: 2 out of 25\n",
      "val mse: 1.5368274\n",
      "val pearson 0.6408643450988182\n",
      "val AUPR 0.6348361195307839\n",
      "val ci: 0.7225248965159801\n",
      "Epoch: 21\n"
     ]
    },
    {
     "name": "stderr",
     "output_type": "stream",
     "text": [
      "100%|██████████| 646/646 [02:21<00:00,  4.56it/s]\n",
      "  0%|          | 0/162 [00:00<?, ?it/s]"
     ]
    },
    {
     "name": "stdout",
     "output_type": "stream",
     "text": [
      "Average loss 0.17436719159869588\n"
     ]
    },
    {
     "name": "stderr",
     "output_type": "stream",
     "text": [
      "100%|██████████| 162/162 [00:13<00:00, 11.98it/s]\n"
     ]
    },
    {
     "name": "stdout",
     "output_type": "stream",
     "text": [
      "Validation loss decreased (0.724588 --> 0.727513).  Saving model ...\n"
     ]
    },
    {
     "name": "stderr",
     "output_type": "stream",
     "text": [
      "\r",
      "  0%|          | 0/646 [00:00<?, ?it/s]"
     ]
    },
    {
     "name": "stdout",
     "output_type": "stream",
     "text": [
      "val mse: 1.5963538\n",
      "val pearson 0.65083947776252\n",
      "val AUPR 0.6491017929954617\n",
      "val ci: 0.7275131890385687\n",
      "Epoch: 22\n"
     ]
    },
    {
     "name": "stderr",
     "output_type": "stream",
     "text": [
      "100%|██████████| 646/646 [02:22<00:00,  4.53it/s]\n",
      "  0%|          | 0/162 [00:00<?, ?it/s]"
     ]
    },
    {
     "name": "stdout",
     "output_type": "stream",
     "text": [
      "Average loss 0.15273681115762738\n"
     ]
    },
    {
     "name": "stderr",
     "output_type": "stream",
     "text": [
      "100%|██████████| 162/162 [00:13<00:00, 11.86it/s]\n",
      "  0%|          | 0/646 [00:00<?, ?it/s]"
     ]
    },
    {
     "name": "stdout",
     "output_type": "stream",
     "text": [
      "EarlyStopping counter: 1 out of 25\n",
      "val mse: 1.545154\n",
      "val pearson 0.6409278204941564\n",
      "val AUPR 0.634631840387892\n",
      "val ci: 0.7232114619052472\n",
      "Epoch: 23\n"
     ]
    },
    {
     "name": "stderr",
     "output_type": "stream",
     "text": [
      "100%|██████████| 646/646 [02:22<00:00,  4.54it/s]\n",
      "  0%|          | 0/162 [00:00<?, ?it/s]"
     ]
    },
    {
     "name": "stdout",
     "output_type": "stream",
     "text": [
      "Average loss 0.1494287663361421\n"
     ]
    },
    {
     "name": "stderr",
     "output_type": "stream",
     "text": [
      "100%|██████████| 162/162 [00:13<00:00, 11.97it/s]\n",
      "  0%|          | 0/646 [00:00<?, ?it/s]"
     ]
    },
    {
     "name": "stdout",
     "output_type": "stream",
     "text": [
      "EarlyStopping counter: 2 out of 25\n",
      "val mse: 1.574652\n",
      "val pearson 0.632598009973437\n",
      "val AUPR 0.6334542797350009\n",
      "val ci: 0.7186247841482248\n",
      "Epoch: 24\n"
     ]
    },
    {
     "name": "stderr",
     "output_type": "stream",
     "text": [
      "100%|██████████| 646/646 [02:22<00:00,  4.54it/s]\n",
      "  0%|          | 0/162 [00:00<?, ?it/s]"
     ]
    },
    {
     "name": "stdout",
     "output_type": "stream",
     "text": [
      "Average loss 0.13505276827712545\n"
     ]
    },
    {
     "name": "stderr",
     "output_type": "stream",
     "text": [
      "100%|██████████| 162/162 [00:13<00:00, 11.78it/s]\n",
      "  0%|          | 0/646 [00:00<?, ?it/s]"
     ]
    },
    {
     "name": "stdout",
     "output_type": "stream",
     "text": [
      "EarlyStopping counter: 3 out of 25\n",
      "val mse: 1.5561608\n",
      "val pearson 0.6370894379701544\n",
      "val AUPR 0.6326162661182015\n",
      "val ci: 0.7217678525538322\n",
      "Epoch: 25\n"
     ]
    },
    {
     "name": "stderr",
     "output_type": "stream",
     "text": [
      "100%|██████████| 646/646 [02:21<00:00,  4.57it/s]\n",
      "  0%|          | 0/162 [00:00<?, ?it/s]"
     ]
    },
    {
     "name": "stdout",
     "output_type": "stream",
     "text": [
      "Average loss 0.12785410493520022\n"
     ]
    },
    {
     "name": "stderr",
     "output_type": "stream",
     "text": [
      "100%|██████████| 162/162 [00:14<00:00, 11.46it/s]\n",
      "  0%|          | 0/646 [00:00<?, ?it/s]"
     ]
    },
    {
     "name": "stdout",
     "output_type": "stream",
     "text": [
      "EarlyStopping counter: 4 out of 25\n",
      "val mse: 1.5601212\n",
      "val pearson 0.6458459853535985\n",
      "val AUPR 0.6398971810582321\n",
      "val ci: 0.7254870849352684\n",
      "Epoch: 26\n"
     ]
    },
    {
     "name": "stderr",
     "output_type": "stream",
     "text": [
      "100%|██████████| 646/646 [02:21<00:00,  4.57it/s]\n",
      "  0%|          | 0/162 [00:00<?, ?it/s]"
     ]
    },
    {
     "name": "stdout",
     "output_type": "stream",
     "text": [
      "Average loss 0.12951866503885656\n"
     ]
    },
    {
     "name": "stderr",
     "output_type": "stream",
     "text": [
      "100%|██████████| 162/162 [00:14<00:00, 11.39it/s]\n",
      "  0%|          | 0/646 [00:00<?, ?it/s]"
     ]
    },
    {
     "name": "stdout",
     "output_type": "stream",
     "text": [
      "EarlyStopping counter: 5 out of 25\n",
      "val mse: 1.5678669\n",
      "val pearson 0.645714844395145\n",
      "val AUPR 0.645901793025096\n",
      "val ci: 0.7247711652063176\n",
      "Epoch: 27\n"
     ]
    },
    {
     "name": "stderr",
     "output_type": "stream",
     "text": [
      "100%|██████████| 646/646 [02:22<00:00,  4.53it/s]\n",
      "  0%|          | 0/162 [00:00<?, ?it/s]"
     ]
    },
    {
     "name": "stdout",
     "output_type": "stream",
     "text": [
      "Average loss 0.111139227615975\n"
     ]
    },
    {
     "name": "stderr",
     "output_type": "stream",
     "text": [
      "100%|██████████| 162/162 [00:13<00:00, 11.91it/s]\n",
      "  0%|          | 0/646 [00:00<?, ?it/s]"
     ]
    },
    {
     "name": "stdout",
     "output_type": "stream",
     "text": [
      "EarlyStopping counter: 6 out of 25\n",
      "val mse: 1.4996463\n",
      "val pearson 0.6500501075938906\n",
      "val AUPR 0.6334677123183728\n",
      "val ci: 0.7264442522841947\n",
      "Epoch: 28\n"
     ]
    },
    {
     "name": "stderr",
     "output_type": "stream",
     "text": [
      "100%|██████████| 646/646 [02:22<00:00,  4.54it/s]\n",
      "  0%|          | 0/162 [00:00<?, ?it/s]"
     ]
    },
    {
     "name": "stdout",
     "output_type": "stream",
     "text": [
      "Average loss 0.10533578176593449\n"
     ]
    },
    {
     "name": "stderr",
     "output_type": "stream",
     "text": [
      "100%|██████████| 162/162 [00:13<00:00, 12.10it/s]\n",
      "  0%|          | 0/646 [00:00<?, ?it/s]"
     ]
    },
    {
     "name": "stdout",
     "output_type": "stream",
     "text": [
      "EarlyStopping counter: 7 out of 25\n",
      "val mse: 1.519951\n",
      "val pearson 0.6528117193842085\n",
      "val AUPR 0.6442018781410941\n",
      "val ci: 0.727214734480025\n",
      "Epoch: 29\n"
     ]
    },
    {
     "name": "stderr",
     "output_type": "stream",
     "text": [
      "100%|██████████| 646/646 [02:22<00:00,  4.53it/s]\n",
      "  0%|          | 0/162 [00:00<?, ?it/s]"
     ]
    },
    {
     "name": "stdout",
     "output_type": "stream",
     "text": [
      "Average loss 0.10272250464041904\n"
     ]
    },
    {
     "name": "stderr",
     "output_type": "stream",
     "text": [
      "100%|██████████| 162/162 [00:13<00:00, 11.88it/s]\n",
      "  0%|          | 0/646 [00:00<?, ?it/s]"
     ]
    },
    {
     "name": "stdout",
     "output_type": "stream",
     "text": [
      "EarlyStopping counter: 8 out of 25\n",
      "val mse: 1.4878821\n",
      "val pearson 0.6502707966870086\n",
      "val AUPR 0.6253217985963355\n",
      "val ci: 0.7253144551374646\n",
      "Epoch: 30\n"
     ]
    },
    {
     "name": "stderr",
     "output_type": "stream",
     "text": [
      "100%|██████████| 646/646 [02:21<00:00,  4.55it/s]\n",
      "  0%|          | 0/162 [00:00<?, ?it/s]"
     ]
    },
    {
     "name": "stdout",
     "output_type": "stream",
     "text": [
      "Average loss 0.09825662830873355\n"
     ]
    },
    {
     "name": "stderr",
     "output_type": "stream",
     "text": [
      "100%|██████████| 162/162 [00:13<00:00, 11.71it/s]\n",
      "  0%|          | 0/646 [00:00<?, ?it/s]"
     ]
    },
    {
     "name": "stdout",
     "output_type": "stream",
     "text": [
      "EarlyStopping counter: 9 out of 25\n",
      "val mse: 1.502906\n",
      "val pearson 0.6501534110998581\n",
      "val AUPR 0.6391594271899612\n",
      "val ci: 0.7258076995564796\n",
      "Epoch: 31\n"
     ]
    },
    {
     "name": "stderr",
     "output_type": "stream",
     "text": [
      "100%|██████████| 646/646 [02:21<00:00,  4.55it/s]\n",
      "  0%|          | 0/162 [00:00<?, ?it/s]"
     ]
    },
    {
     "name": "stdout",
     "output_type": "stream",
     "text": [
      "Average loss 0.09414693437539756\n"
     ]
    },
    {
     "name": "stderr",
     "output_type": "stream",
     "text": [
      "100%|██████████| 162/162 [00:13<00:00, 11.87it/s]\n",
      "  0%|          | 0/646 [00:00<?, ?it/s]"
     ]
    },
    {
     "name": "stdout",
     "output_type": "stream",
     "text": [
      "EarlyStopping counter: 10 out of 25\n",
      "val mse: 1.5690812\n",
      "val pearson 0.6418928708290993\n",
      "val AUPR 0.6431677417652528\n",
      "val ci: 0.7234270414899071\n",
      "Epoch: 32\n"
     ]
    },
    {
     "name": "stderr",
     "output_type": "stream",
     "text": [
      "100%|██████████| 646/646 [02:21<00:00,  4.57it/s]\n",
      "  0%|          | 0/162 [00:00<?, ?it/s]"
     ]
    },
    {
     "name": "stdout",
     "output_type": "stream",
     "text": [
      "Average loss 0.09504060710177702\n"
     ]
    },
    {
     "name": "stderr",
     "output_type": "stream",
     "text": [
      "100%|██████████| 162/162 [00:14<00:00, 11.09it/s]\n",
      "  0%|          | 0/646 [00:00<?, ?it/s]"
     ]
    },
    {
     "name": "stdout",
     "output_type": "stream",
     "text": [
      "EarlyStopping counter: 11 out of 25\n",
      "val mse: 1.515947\n",
      "val pearson 0.6460122288101465\n",
      "val AUPR 0.6387405076733405\n",
      "val ci: 0.7249006715784854\n",
      "Epoch: 33\n"
     ]
    },
    {
     "name": "stderr",
     "output_type": "stream",
     "text": [
      "100%|██████████| 646/646 [02:21<00:00,  4.57it/s]\n",
      "  0%|          | 0/162 [00:00<?, ?it/s]"
     ]
    },
    {
     "name": "stdout",
     "output_type": "stream",
     "text": [
      "Average loss 0.08748515902934798\n"
     ]
    },
    {
     "name": "stderr",
     "output_type": "stream",
     "text": [
      "100%|██████████| 162/162 [00:14<00:00, 11.41it/s]\n",
      "  0%|          | 0/646 [00:00<?, ?it/s]"
     ]
    },
    {
     "name": "stdout",
     "output_type": "stream",
     "text": [
      "EarlyStopping counter: 12 out of 25\n",
      "val mse: 1.5072968\n",
      "val pearson 0.6524758867256611\n",
      "val AUPR 0.6375840066582199\n",
      "val ci: 0.7270304708839679\n",
      "Epoch: 34\n"
     ]
    },
    {
     "name": "stderr",
     "output_type": "stream",
     "text": [
      "100%|██████████| 646/646 [02:21<00:00,  4.56it/s]\n",
      "  0%|          | 0/162 [00:00<?, ?it/s]"
     ]
    },
    {
     "name": "stdout",
     "output_type": "stream",
     "text": [
      "Average loss 0.08504391802422956\n"
     ]
    },
    {
     "name": "stderr",
     "output_type": "stream",
     "text": [
      "100%|██████████| 162/162 [00:13<00:00, 11.68it/s]\n"
     ]
    },
    {
     "name": "stdout",
     "output_type": "stream",
     "text": [
      "Validation loss decreased (0.727513 --> 0.727782).  Saving model ...\n"
     ]
    },
    {
     "name": "stderr",
     "output_type": "stream",
     "text": [
      "\r",
      "  0%|          | 0/646 [00:00<?, ?it/s]"
     ]
    },
    {
     "name": "stdout",
     "output_type": "stream",
     "text": [
      "val mse: 1.4960283\n",
      "val pearson 0.654956411205041\n",
      "val AUPR 0.6415804050133085\n",
      "val ci: 0.7277823784232885\n",
      "Epoch: 35\n"
     ]
    },
    {
     "name": "stderr",
     "output_type": "stream",
     "text": [
      "100%|██████████| 646/646 [02:23<00:00,  4.52it/s]\n",
      "  0%|          | 0/162 [00:00<?, ?it/s]"
     ]
    },
    {
     "name": "stdout",
     "output_type": "stream",
     "text": [
      "Average loss 0.07183575285339135\n"
     ]
    },
    {
     "name": "stderr",
     "output_type": "stream",
     "text": [
      "100%|██████████| 162/162 [00:13<00:00, 12.07it/s]\n",
      "  0%|          | 0/646 [00:00<?, ?it/s]"
     ]
    },
    {
     "name": "stdout",
     "output_type": "stream",
     "text": [
      "EarlyStopping counter: 1 out of 25\n",
      "val mse: 1.5163394\n",
      "val pearson 0.6501917199069339\n",
      "val AUPR 0.6411768977138963\n",
      "val ci: 0.7264743457619279\n",
      "Epoch: 36\n"
     ]
    },
    {
     "name": "stderr",
     "output_type": "stream",
     "text": [
      "100%|██████████| 646/646 [02:23<00:00,  4.52it/s]\n",
      "  0%|          | 0/162 [00:00<?, ?it/s]"
     ]
    },
    {
     "name": "stdout",
     "output_type": "stream",
     "text": [
      "Average loss 0.0668292232434447\n"
     ]
    },
    {
     "name": "stderr",
     "output_type": "stream",
     "text": [
      "100%|██████████| 162/162 [00:13<00:00, 11.75it/s]\n",
      "  0%|          | 0/646 [00:00<?, ?it/s]"
     ]
    },
    {
     "name": "stdout",
     "output_type": "stream",
     "text": [
      "EarlyStopping counter: 2 out of 25\n",
      "val mse: 1.566831\n",
      "val pearson 0.6493823870427538\n",
      "val AUPR 0.6509848917463638\n",
      "val ci: 0.7262584540967583\n",
      "Epoch: 37\n"
     ]
    },
    {
     "name": "stderr",
     "output_type": "stream",
     "text": [
      "100%|██████████| 646/646 [02:21<00:00,  4.56it/s]\n",
      "  0%|          | 0/162 [00:00<?, ?it/s]"
     ]
    },
    {
     "name": "stdout",
     "output_type": "stream",
     "text": [
      "Average loss 0.0783977256655324\n"
     ]
    },
    {
     "name": "stderr",
     "output_type": "stream",
     "text": [
      "100%|██████████| 162/162 [00:13<00:00, 11.81it/s]\n",
      "  0%|          | 0/646 [00:00<?, ?it/s]"
     ]
    },
    {
     "name": "stdout",
     "output_type": "stream",
     "text": [
      "EarlyStopping counter: 3 out of 25\n",
      "val mse: 1.5621033\n",
      "val pearson 0.6392510011387065\n",
      "val AUPR 0.6384839631527894\n",
      "val ci: 0.7226617825362938\n",
      "Epoch: 38\n"
     ]
    },
    {
     "name": "stderr",
     "output_type": "stream",
     "text": [
      "100%|██████████| 646/646 [02:22<00:00,  4.53it/s]\n",
      "  0%|          | 0/162 [00:00<?, ?it/s]"
     ]
    },
    {
     "name": "stdout",
     "output_type": "stream",
     "text": [
      "Average loss 0.07810208237738617\n"
     ]
    },
    {
     "name": "stderr",
     "output_type": "stream",
     "text": [
      "100%|██████████| 162/162 [00:13<00:00, 11.75it/s]\n",
      "  0%|          | 0/646 [00:00<?, ?it/s]"
     ]
    },
    {
     "name": "stdout",
     "output_type": "stream",
     "text": [
      "EarlyStopping counter: 4 out of 25\n",
      "val mse: 1.5340037\n",
      "val pearson 0.6447933393527262\n",
      "val AUPR 0.6428775063804554\n",
      "val ci: 0.7255510309356727\n",
      "Epoch: 39\n"
     ]
    },
    {
     "name": "stderr",
     "output_type": "stream",
     "text": [
      "100%|██████████| 646/646 [02:21<00:00,  4.57it/s]\n",
      "  0%|          | 0/162 [00:00<?, ?it/s]"
     ]
    },
    {
     "name": "stdout",
     "output_type": "stream",
     "text": [
      "Average loss 0.07370405161505329\n"
     ]
    },
    {
     "name": "stderr",
     "output_type": "stream",
     "text": [
      "100%|██████████| 162/162 [00:14<00:00, 11.43it/s]\n",
      "  0%|          | 0/646 [00:00<?, ?it/s]"
     ]
    },
    {
     "name": "stdout",
     "output_type": "stream",
     "text": [
      "EarlyStopping counter: 5 out of 25\n",
      "val mse: 1.553815\n",
      "val pearson 0.6437757967843121\n",
      "val AUPR 0.6421087774547859\n",
      "val ci: 0.7243095605887651\n",
      "Epoch: 40\n"
     ]
    },
    {
     "name": "stderr",
     "output_type": "stream",
     "text": [
      "100%|██████████| 646/646 [02:21<00:00,  4.56it/s]\n",
      "  0%|          | 0/162 [00:00<?, ?it/s]"
     ]
    },
    {
     "name": "stdout",
     "output_type": "stream",
     "text": [
      "Average loss 0.05861397791976807\n"
     ]
    },
    {
     "name": "stderr",
     "output_type": "stream",
     "text": [
      "100%|██████████| 162/162 [00:13<00:00, 11.97it/s]\n"
     ]
    },
    {
     "name": "stdout",
     "output_type": "stream",
     "text": [
      "Validation loss decreased (0.727782 --> 0.729014).  Saving model ...\n"
     ]
    },
    {
     "name": "stderr",
     "output_type": "stream",
     "text": [
      "\r",
      "  0%|          | 0/646 [00:00<?, ?it/s]"
     ]
    },
    {
     "name": "stdout",
     "output_type": "stream",
     "text": [
      "val mse: 1.4877532\n",
      "val pearson 0.657651244670734\n",
      "val AUPR 0.6425361163343819\n",
      "val ci: 0.7290143713778716\n",
      "Epoch: 41\n"
     ]
    },
    {
     "name": "stderr",
     "output_type": "stream",
     "text": [
      "100%|██████████| 646/646 [02:23<00:00,  4.50it/s]\n",
      "  0%|          | 0/162 [00:00<?, ?it/s]"
     ]
    },
    {
     "name": "stdout",
     "output_type": "stream",
     "text": [
      "Average loss 0.08051788467256461\n"
     ]
    },
    {
     "name": "stderr",
     "output_type": "stream",
     "text": [
      "100%|██████████| 162/162 [00:13<00:00, 11.68it/s]\n",
      "  0%|          | 0/646 [00:00<?, ?it/s]"
     ]
    },
    {
     "name": "stdout",
     "output_type": "stream",
     "text": [
      "EarlyStopping counter: 1 out of 25\n",
      "val mse: 1.659507\n",
      "val pearson 0.6279318801149297\n",
      "val AUPR 0.6460578924320388\n",
      "val ci: 0.7168623716504375\n",
      "Epoch: 42\n"
     ]
    },
    {
     "name": "stderr",
     "output_type": "stream",
     "text": [
      "100%|██████████| 646/646 [02:22<00:00,  4.54it/s]\n",
      "  0%|          | 0/162 [00:00<?, ?it/s]"
     ]
    },
    {
     "name": "stdout",
     "output_type": "stream",
     "text": [
      "Average loss 0.08736799867252816\n"
     ]
    },
    {
     "name": "stderr",
     "output_type": "stream",
     "text": [
      "100%|██████████| 162/162 [00:13<00:00, 12.19it/s]\n",
      "  0%|          | 0/646 [00:00<?, ?it/s]"
     ]
    },
    {
     "name": "stdout",
     "output_type": "stream",
     "text": [
      "EarlyStopping counter: 2 out of 25\n",
      "val mse: 1.5275975\n",
      "val pearson 0.6401337165867194\n",
      "val AUPR 0.6283919497860481\n",
      "val ci: 0.7220084666269081\n",
      "Epoch: 43\n"
     ]
    },
    {
     "name": "stderr",
     "output_type": "stream",
     "text": [
      "100%|██████████| 646/646 [02:22<00:00,  4.52it/s]\n",
      "  0%|          | 0/162 [00:00<?, ?it/s]"
     ]
    },
    {
     "name": "stdout",
     "output_type": "stream",
     "text": [
      "Average loss 0.06730890076538265\n"
     ]
    },
    {
     "name": "stderr",
     "output_type": "stream",
     "text": [
      "100%|██████████| 162/162 [00:13<00:00, 11.79it/s]\n",
      "  0%|          | 0/646 [00:00<?, ?it/s]"
     ]
    },
    {
     "name": "stdout",
     "output_type": "stream",
     "text": [
      "EarlyStopping counter: 3 out of 25\n",
      "val mse: 1.5332862\n",
      "val pearson 0.6462530835740492\n",
      "val AUPR 0.6386041068268888\n",
      "val ci: 0.7245207992039272\n",
      "Epoch: 44\n"
     ]
    },
    {
     "name": "stderr",
     "output_type": "stream",
     "text": [
      "100%|██████████| 646/646 [02:22<00:00,  4.54it/s]\n",
      "  0%|          | 0/162 [00:00<?, ?it/s]"
     ]
    },
    {
     "name": "stdout",
     "output_type": "stream",
     "text": [
      "Average loss 0.04494453270864837\n"
     ]
    },
    {
     "name": "stderr",
     "output_type": "stream",
     "text": [
      "100%|██████████| 162/162 [00:13<00:00, 11.86it/s]\n",
      "  0%|          | 0/646 [00:00<?, ?it/s]"
     ]
    },
    {
     "name": "stdout",
     "output_type": "stream",
     "text": [
      "EarlyStopping counter: 4 out of 25\n",
      "val mse: 1.5005637\n",
      "val pearson 0.6475579304289861\n",
      "val AUPR 0.6395441409898959\n",
      "val ci: 0.7254570219616452\n",
      "Epoch: 45\n"
     ]
    },
    {
     "name": "stderr",
     "output_type": "stream",
     "text": [
      "100%|██████████| 646/646 [02:22<00:00,  4.52it/s]\n",
      "  0%|          | 0/162 [00:00<?, ?it/s]"
     ]
    },
    {
     "name": "stdout",
     "output_type": "stream",
     "text": [
      "Average loss 0.037510882062554915\n"
     ]
    },
    {
     "name": "stderr",
     "output_type": "stream",
     "text": [
      "100%|██████████| 162/162 [00:14<00:00, 11.50it/s]\n",
      "  0%|          | 0/646 [00:00<?, ?it/s]"
     ]
    },
    {
     "name": "stdout",
     "output_type": "stream",
     "text": [
      "EarlyStopping counter: 5 out of 25\n",
      "val mse: 1.4965892\n",
      "val pearson 0.6551508563329705\n",
      "val AUPR 0.6428082809580731\n",
      "val ci: 0.7289925609392338\n",
      "Epoch: 46\n"
     ]
    },
    {
     "name": "stderr",
     "output_type": "stream",
     "text": [
      "100%|██████████| 646/646 [02:19<00:00,  4.62it/s]\n",
      "  0%|          | 0/162 [00:00<?, ?it/s]"
     ]
    },
    {
     "name": "stdout",
     "output_type": "stream",
     "text": [
      "Average loss 0.040688781973101405\n"
     ]
    },
    {
     "name": "stderr",
     "output_type": "stream",
     "text": [
      "100%|██████████| 162/162 [00:14<00:00, 11.39it/s]\n",
      "  0%|          | 0/646 [00:00<?, ?it/s]"
     ]
    },
    {
     "name": "stdout",
     "output_type": "stream",
     "text": [
      "EarlyStopping counter: 6 out of 25\n",
      "val mse: 1.5464556\n",
      "val pearson 0.6476150877579884\n",
      "val AUPR 0.6445827690720572\n",
      "val ci: 0.7246723553546727\n",
      "Epoch: 47\n"
     ]
    },
    {
     "name": "stderr",
     "output_type": "stream",
     "text": [
      "100%|██████████| 646/646 [02:22<00:00,  4.55it/s]\n",
      "  0%|          | 0/162 [00:00<?, ?it/s]"
     ]
    },
    {
     "name": "stdout",
     "output_type": "stream",
     "text": [
      "Average loss 0.053365643118903176\n"
     ]
    },
    {
     "name": "stderr",
     "output_type": "stream",
     "text": [
      "100%|██████████| 162/162 [00:13<00:00, 11.96it/s]\n",
      "  0%|          | 0/646 [00:00<?, ?it/s]"
     ]
    },
    {
     "name": "stdout",
     "output_type": "stream",
     "text": [
      "EarlyStopping counter: 7 out of 25\n",
      "val mse: 1.4940137\n",
      "val pearson 0.6489625662353836\n",
      "val AUPR 0.6356057657621892\n",
      "val ci: 0.7258270743592588\n",
      "Epoch: 48\n"
     ]
    },
    {
     "name": "stderr",
     "output_type": "stream",
     "text": [
      "100%|██████████| 646/646 [02:22<00:00,  4.54it/s]\n",
      "  0%|          | 0/162 [00:00<?, ?it/s]"
     ]
    },
    {
     "name": "stdout",
     "output_type": "stream",
     "text": [
      "Average loss 0.056620251871760785\n"
     ]
    },
    {
     "name": "stderr",
     "output_type": "stream",
     "text": [
      "100%|██████████| 162/162 [00:14<00:00, 11.41it/s]\n",
      "  0%|          | 0/646 [00:00<?, ?it/s]"
     ]
    },
    {
     "name": "stdout",
     "output_type": "stream",
     "text": [
      "EarlyStopping counter: 8 out of 25\n",
      "val mse: 1.6125674\n",
      "val pearson 0.6468458945294437\n",
      "val AUPR 0.6533195849512137\n",
      "val ci: 0.7245416499363355\n",
      "Epoch: 49\n"
     ]
    },
    {
     "name": "stderr",
     "output_type": "stream",
     "text": [
      "100%|██████████| 646/646 [02:22<00:00,  4.54it/s]\n",
      "  0%|          | 0/162 [00:00<?, ?it/s]"
     ]
    },
    {
     "name": "stdout",
     "output_type": "stream",
     "text": [
      "Average loss 0.06270730756684538\n"
     ]
    },
    {
     "name": "stderr",
     "output_type": "stream",
     "text": [
      "100%|██████████| 162/162 [00:13<00:00, 11.90it/s]\n",
      "  0%|          | 0/646 [00:00<?, ?it/s]"
     ]
    },
    {
     "name": "stdout",
     "output_type": "stream",
     "text": [
      "EarlyStopping counter: 9 out of 25\n",
      "val mse: 1.5763923\n",
      "val pearson 0.6416521580280514\n",
      "val AUPR 0.6463303233947663\n",
      "val ci: 0.7228808935583015\n",
      "Epoch: 50\n"
     ]
    },
    {
     "name": "stderr",
     "output_type": "stream",
     "text": [
      "100%|██████████| 646/646 [02:22<00:00,  4.54it/s]\n",
      "  0%|          | 0/162 [00:00<?, ?it/s]"
     ]
    },
    {
     "name": "stdout",
     "output_type": "stream",
     "text": [
      "Average loss 0.06054919809910351\n"
     ]
    },
    {
     "name": "stderr",
     "output_type": "stream",
     "text": [
      "100%|██████████| 162/162 [00:13<00:00, 11.84it/s]\n",
      "  0%|          | 0/646 [00:00<?, ?it/s]"
     ]
    },
    {
     "name": "stdout",
     "output_type": "stream",
     "text": [
      "EarlyStopping counter: 10 out of 25\n",
      "val mse: 1.6457801\n",
      "val pearson 0.6427610395127198\n",
      "val AUPR 0.6506173145959193\n",
      "val ci: 0.7232232177199407\n",
      "Epoch: 51\n"
     ]
    },
    {
     "name": "stderr",
     "output_type": "stream",
     "text": [
      "100%|██████████| 646/646 [02:22<00:00,  4.54it/s]\n",
      "  0%|          | 0/162 [00:00<?, ?it/s]"
     ]
    },
    {
     "name": "stdout",
     "output_type": "stream",
     "text": [
      "Average loss 0.051972535802137926\n"
     ]
    },
    {
     "name": "stderr",
     "output_type": "stream",
     "text": [
      "100%|██████████| 162/162 [00:13<00:00, 11.92it/s]\n",
      "  0%|          | 0/646 [00:00<?, ?it/s]"
     ]
    },
    {
     "name": "stdout",
     "output_type": "stream",
     "text": [
      "EarlyStopping counter: 11 out of 25\n",
      "val mse: 1.5348617\n",
      "val pearson 0.6405804692620768\n",
      "val AUPR 0.6337365817276239\n",
      "val ci: 0.7234405149206395\n",
      "Epoch: 52\n"
     ]
    },
    {
     "name": "stderr",
     "output_type": "stream",
     "text": [
      "100%|██████████| 646/646 [02:20<00:00,  4.58it/s]\n",
      "  0%|          | 0/162 [00:00<?, ?it/s]"
     ]
    },
    {
     "name": "stdout",
     "output_type": "stream",
     "text": [
      "Average loss 0.03919297201276379\n"
     ]
    },
    {
     "name": "stderr",
     "output_type": "stream",
     "text": [
      "100%|██████████| 162/162 [00:14<00:00, 11.55it/s]\n",
      "  0%|          | 0/646 [00:00<?, ?it/s]"
     ]
    },
    {
     "name": "stdout",
     "output_type": "stream",
     "text": [
      "EarlyStopping counter: 12 out of 25\n",
      "val mse: 1.5574669\n",
      "val pearson 0.645098421583479\n",
      "val AUPR 0.6491385631533235\n",
      "val ci: 0.7254216559658249\n",
      "Epoch: 53\n"
     ]
    },
    {
     "name": "stderr",
     "output_type": "stream",
     "text": [
      "100%|██████████| 646/646 [02:21<00:00,  4.57it/s]\n",
      "  0%|          | 0/162 [00:00<?, ?it/s]"
     ]
    },
    {
     "name": "stdout",
     "output_type": "stream",
     "text": [
      "Average loss 0.03121537065721656\n"
     ]
    },
    {
     "name": "stderr",
     "output_type": "stream",
     "text": [
      "100%|██████████| 162/162 [00:13<00:00, 11.65it/s]\n",
      "  0%|          | 0/646 [00:00<?, ?it/s]"
     ]
    },
    {
     "name": "stdout",
     "output_type": "stream",
     "text": [
      "EarlyStopping counter: 13 out of 25\n",
      "val mse: 1.4983963\n",
      "val pearson 0.6517781278844501\n",
      "val AUPR 0.6429807558509025\n",
      "val ci: 0.7278492880153012\n",
      "Epoch: 54\n"
     ]
    },
    {
     "name": "stderr",
     "output_type": "stream",
     "text": [
      "100%|██████████| 646/646 [02:21<00:00,  4.57it/s]\n",
      "  0%|          | 0/162 [00:00<?, ?it/s]"
     ]
    },
    {
     "name": "stdout",
     "output_type": "stream",
     "text": [
      "Average loss 0.03197905185254689\n"
     ]
    },
    {
     "name": "stderr",
     "output_type": "stream",
     "text": [
      "100%|██████████| 162/162 [00:14<00:00, 11.56it/s]\n",
      "  0%|          | 0/646 [00:00<?, ?it/s]"
     ]
    },
    {
     "name": "stdout",
     "output_type": "stream",
     "text": [
      "EarlyStopping counter: 14 out of 25\n",
      "val mse: 1.5216646\n",
      "val pearson 0.6425285799075019\n",
      "val AUPR 0.633568018454338\n",
      "val ci: 0.7241381040259606\n",
      "Epoch: 55\n"
     ]
    },
    {
     "name": "stderr",
     "output_type": "stream",
     "text": [
      "100%|██████████| 646/646 [02:22<00:00,  4.53it/s]\n",
      "  0%|          | 0/162 [00:00<?, ?it/s]"
     ]
    },
    {
     "name": "stdout",
     "output_type": "stream",
     "text": [
      "Average loss 0.04293936801837878\n"
     ]
    },
    {
     "name": "stderr",
     "output_type": "stream",
     "text": [
      "100%|██████████| 162/162 [00:13<00:00, 11.92it/s]\n",
      "  0%|          | 0/646 [00:00<?, ?it/s]"
     ]
    },
    {
     "name": "stdout",
     "output_type": "stream",
     "text": [
      "EarlyStopping counter: 15 out of 25\n",
      "val mse: 1.5731289\n",
      "val pearson 0.6439255774587737\n",
      "val AUPR 0.6439142318374991\n",
      "val ci: 0.7245419549774355\n",
      "Epoch: 56\n"
     ]
    },
    {
     "name": "stderr",
     "output_type": "stream",
     "text": [
      "100%|██████████| 646/646 [02:22<00:00,  4.53it/s]\n",
      "  0%|          | 0/162 [00:00<?, ?it/s]"
     ]
    },
    {
     "name": "stdout",
     "output_type": "stream",
     "text": [
      "Average loss 0.06651054015354291\n"
     ]
    },
    {
     "name": "stderr",
     "output_type": "stream",
     "text": [
      "100%|██████████| 162/162 [00:13<00:00, 11.78it/s]\n",
      "  0%|          | 0/646 [00:00<?, ?it/s]"
     ]
    },
    {
     "name": "stdout",
     "output_type": "stream",
     "text": [
      "EarlyStopping counter: 16 out of 25\n",
      "val mse: 1.530773\n",
      "val pearson 0.6413665929550154\n",
      "val AUPR 0.6404344782894559\n",
      "val ci: 0.7235569491084446\n",
      "Epoch: 57\n"
     ]
    },
    {
     "name": "stderr",
     "output_type": "stream",
     "text": [
      "100%|██████████| 646/646 [02:23<00:00,  4.50it/s]\n",
      "  0%|          | 0/162 [00:00<?, ?it/s]"
     ]
    },
    {
     "name": "stdout",
     "output_type": "stream",
     "text": [
      "Average loss 0.0540559567661016\n"
     ]
    },
    {
     "name": "stderr",
     "output_type": "stream",
     "text": [
      "100%|██████████| 162/162 [00:13<00:00, 11.98it/s]\n",
      "  0%|          | 0/646 [00:00<?, ?it/s]"
     ]
    },
    {
     "name": "stdout",
     "output_type": "stream",
     "text": [
      "EarlyStopping counter: 17 out of 25\n",
      "val mse: 1.7034752\n",
      "val pearson 0.6175110497781932\n",
      "val AUPR 0.6462940485260626\n",
      "val ci: 0.714393718612444\n",
      "Epoch: 58\n"
     ]
    },
    {
     "name": "stderr",
     "output_type": "stream",
     "text": [
      "100%|██████████| 646/646 [02:23<00:00,  4.51it/s]\n",
      "  0%|          | 0/162 [00:00<?, ?it/s]"
     ]
    },
    {
     "name": "stdout",
     "output_type": "stream",
     "text": [
      "Average loss 0.04481847138481428\n"
     ]
    },
    {
     "name": "stderr",
     "output_type": "stream",
     "text": [
      "100%|██████████| 162/162 [00:13<00:00, 11.82it/s]\n",
      "  0%|          | 0/646 [00:00<?, ?it/s]"
     ]
    },
    {
     "name": "stdout",
     "output_type": "stream",
     "text": [
      "EarlyStopping counter: 18 out of 25\n",
      "val mse: 1.5669153\n",
      "val pearson 0.6383415067226089\n",
      "val AUPR 0.635731663393479\n",
      "val ci: 0.7207107138506117\n",
      "Epoch: 59\n"
     ]
    },
    {
     "name": "stderr",
     "output_type": "stream",
     "text": [
      "100%|██████████| 646/646 [02:20<00:00,  4.59it/s]\n",
      "  0%|          | 0/162 [00:00<?, ?it/s]"
     ]
    },
    {
     "name": "stdout",
     "output_type": "stream",
     "text": [
      "Average loss 0.03536835707285825\n"
     ]
    },
    {
     "name": "stderr",
     "output_type": "stream",
     "text": [
      "100%|██████████| 162/162 [00:14<00:00, 11.20it/s]\n",
      "  0%|          | 0/646 [00:00<?, ?it/s]"
     ]
    },
    {
     "name": "stdout",
     "output_type": "stream",
     "text": [
      "EarlyStopping counter: 19 out of 25\n",
      "val mse: 1.5928798\n",
      "val pearson 0.6339882594059139\n",
      "val AUPR 0.6406556261840912\n",
      "val ci: 0.7211059509107214\n",
      "Epoch: 60\n"
     ]
    },
    {
     "name": "stderr",
     "output_type": "stream",
     "text": [
      "100%|██████████| 646/646 [02:21<00:00,  4.56it/s]\n",
      "  0%|          | 0/162 [00:00<?, ?it/s]"
     ]
    },
    {
     "name": "stdout",
     "output_type": "stream",
     "text": [
      "Average loss 0.04509391902654717\n"
     ]
    },
    {
     "name": "stderr",
     "output_type": "stream",
     "text": [
      "100%|██████████| 162/162 [00:14<00:00, 11.37it/s]\n",
      "  0%|          | 0/646 [00:00<?, ?it/s]"
     ]
    },
    {
     "name": "stdout",
     "output_type": "stream",
     "text": [
      "EarlyStopping counter: 20 out of 25\n",
      "val mse: 1.5697291\n",
      "val pearson 0.630681046230271\n",
      "val AUPR 0.6330491999218013\n",
      "val ci: 0.7191769672006669\n",
      "Epoch: 61\n"
     ]
    },
    {
     "name": "stderr",
     "output_type": "stream",
     "text": [
      "100%|██████████| 646/646 [02:23<00:00,  4.50it/s]\n",
      "  0%|          | 0/162 [00:00<?, ?it/s]"
     ]
    },
    {
     "name": "stdout",
     "output_type": "stream",
     "text": [
      "Average loss 0.08034947671388325\n"
     ]
    },
    {
     "name": "stderr",
     "output_type": "stream",
     "text": [
      "100%|██████████| 162/162 [00:13<00:00, 11.78it/s]\n",
      "  0%|          | 0/646 [00:00<?, ?it/s]"
     ]
    },
    {
     "name": "stdout",
     "output_type": "stream",
     "text": [
      "EarlyStopping counter: 21 out of 25\n",
      "val mse: 1.6769297\n",
      "val pearson 0.6323538648406407\n",
      "val AUPR 0.6431649656962517\n",
      "val ci: 0.7179938277514566\n",
      "Epoch: 62\n"
     ]
    },
    {
     "name": "stderr",
     "output_type": "stream",
     "text": [
      "100%|██████████| 646/646 [02:22<00:00,  4.55it/s]\n",
      "  0%|          | 0/162 [00:00<?, ?it/s]"
     ]
    },
    {
     "name": "stdout",
     "output_type": "stream",
     "text": [
      "Average loss 0.04397724308188855\n"
     ]
    },
    {
     "name": "stderr",
     "output_type": "stream",
     "text": [
      "100%|██████████| 162/162 [00:13<00:00, 12.22it/s]\n",
      "  0%|          | 0/646 [00:00<?, ?it/s]"
     ]
    },
    {
     "name": "stdout",
     "output_type": "stream",
     "text": [
      "EarlyStopping counter: 22 out of 25\n",
      "val mse: 1.5823044\n",
      "val pearson 0.6371619360911773\n",
      "val AUPR 0.6430519729989991\n",
      "val ci: 0.722175471936125\n",
      "Epoch: 63\n"
     ]
    },
    {
     "name": "stderr",
     "output_type": "stream",
     "text": [
      "100%|██████████| 646/646 [02:23<00:00,  4.50it/s]\n",
      "  0%|          | 0/162 [00:00<?, ?it/s]"
     ]
    },
    {
     "name": "stdout",
     "output_type": "stream",
     "text": [
      "Average loss 0.030101491282506623\n"
     ]
    },
    {
     "name": "stderr",
     "output_type": "stream",
     "text": [
      "100%|██████████| 162/162 [00:13<00:00, 11.85it/s]\n",
      "  0%|          | 0/646 [00:00<?, ?it/s]"
     ]
    },
    {
     "name": "stdout",
     "output_type": "stream",
     "text": [
      "EarlyStopping counter: 23 out of 25\n",
      "val mse: 1.5959603\n",
      "val pearson 0.629091412995713\n",
      "val AUPR 0.6356332010662293\n",
      "val ci: 0.7183059716159725\n",
      "Epoch: 64\n"
     ]
    },
    {
     "name": "stderr",
     "output_type": "stream",
     "text": [
      "100%|██████████| 646/646 [02:22<00:00,  4.53it/s]\n",
      "  0%|          | 0/162 [00:00<?, ?it/s]"
     ]
    },
    {
     "name": "stdout",
     "output_type": "stream",
     "text": [
      "Average loss 0.036865460545101404\n"
     ]
    },
    {
     "name": "stderr",
     "output_type": "stream",
     "text": [
      "100%|██████████| 162/162 [00:13<00:00, 11.76it/s]\n",
      "  0%|          | 0/646 [00:00<?, ?it/s]"
     ]
    },
    {
     "name": "stdout",
     "output_type": "stream",
     "text": [
      "EarlyStopping counter: 24 out of 25\n",
      "val mse: 1.5580009\n",
      "val pearson 0.642723615363137\n",
      "val AUPR 0.6511504997473196\n",
      "val ci: 0.7239498584703156\n",
      "Epoch: 65\n"
     ]
    },
    {
     "name": "stderr",
     "output_type": "stream",
     "text": [
      "100%|██████████| 646/646 [02:22<00:00,  4.53it/s]\n",
      "  0%|          | 0/162 [00:00<?, ?it/s]"
     ]
    },
    {
     "name": "stdout",
     "output_type": "stream",
     "text": [
      "Average loss 0.02293854557560186\n"
     ]
    },
    {
     "name": "stderr",
     "output_type": "stream",
     "text": [
      "100%|██████████| 162/162 [00:13<00:00, 11.80it/s]\n",
      "  0%|          | 0/202 [00:00<?, ?it/s]"
     ]
    },
    {
     "name": "stdout",
     "output_type": "stream",
     "text": [
      "EarlyStopping counter: 25 out of 25\n",
      "Early stopping\n"
     ]
    },
    {
     "name": "stderr",
     "output_type": "stream",
     "text": [
      "100%|██████████| 202/202 [00:16<00:00, 11.99it/s]\n"
     ]
    },
    {
     "name": "stdout",
     "output_type": "stream",
     "text": [
      "-------------------test results---------------------------------\n",
      "val mse: 0.82715815\n",
      "val pearson 0.8182450564017401\n",
      "val AUPR 0.7861844520455965\n",
      "val ci: 0.8141443555923376\n",
      "-------------------test results---------------------------------\n"
     ]
    }
   ],
   "source": [
    "lr = 1e-4\n",
    "n_layer = 1\n",
    "n_head  = 4\n",
    "d_model = 128 \n",
    "\n",
    "all_mse2, all_r, all_aupr, all_rm2, all_ci2 = run_grid_cv_4_model(lr, n_layer, n_head, d_model )\n",
    "\n",
    "                \n",
    "             "
   ]
  },
  {
   "cell_type": "code",
   "execution_count": 9,
   "metadata": {},
   "outputs": [
    {
     "name": "stdout",
     "output_type": "stream",
     "text": [
      "*=*=*=*=*=*=*=*=*=*=*=*=*=*=*=*=*=*=*=*=\n",
      "cindex:  0.814497(0.002002)\n",
      "mse:     0.815913(0.011410)\n",
      "rm2:     0.609317(0.008438)\n",
      "pearson: 0.819709(0.002366)\n",
      "AUPR:    0.784454(0.002604)\n",
      "\n"
     ]
    }
   ],
   "source": [
    "print('*='*20)\n",
    "print('cindex:  {0:6f}({1:6f})'.format(np.mean(all_ci2),  np.std(all_ci2)))\n",
    "print('mse:     {0:6f}({1:6f})'.format(np.mean(all_mse2), np.std(all_mse2)))\n",
    "print('rm2:     {0:6f}({1:6f})'.format(np.mean(all_rm2),  np.std(all_rm2)))\n",
    "print('pearson: {0:6f}({1:6f})'.format(np.mean(all_r),    np.std(all_r)))\n",
    "print('AUPR:    {0:6f}({1:6f})'.format(np.mean(all_aupr), np.std(all_aupr)))\n",
    "print()\n"
   ]
  },
  {
   "cell_type": "code",
   "execution_count": null,
   "metadata": {},
   "outputs": [],
   "source": []
  }
 ],
 "metadata": {
  "kernelspec": {
   "display_name": "Python 3",
   "language": "python",
   "name": "python3"
  },
  "language_info": {
   "codemirror_mode": {
    "name": "ipython",
    "version": 3
   },
   "file_extension": ".py",
   "mimetype": "text/x-python",
   "name": "python",
   "nbconvert_exporter": "python",
   "pygments_lexer": "ipython3",
   "version": "3.6.12"
  }
 },
 "nbformat": 4,
 "nbformat_minor": 4
}
